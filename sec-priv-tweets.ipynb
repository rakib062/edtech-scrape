{
 "cells": [
  {
   "cell_type": "code",
   "execution_count": 1,
   "id": "cff32eeb-926b-4d0f-b0d0-67636deb0bae",
   "metadata": {},
   "outputs": [],
   "source": [
    "%load_ext autoreload\n",
    "%autoreload 2\n",
    "from tqdm import tqdm\n",
    "import pandas as pd\n",
    "from matplotlib import pyplot as plt\n",
    "import numpy as np\n",
    "from collections import Counter\n",
    "import operator,json, re, itertools \n",
    "from urllib.parse import urlparse\n",
    "from sklearn.feature_extraction.text import TfidfVectorizer\n",
    "# from wordcloud import WordCloud \n",
    "pd.options.display.max_colwidth = 300\n",
    "import seaborn as sns\n",
    "import config\n",
    "data_root= config.DATA_ROOT\n",
    "tqdm.pandas()\n",
    "# import collect_tweets"
   ]
  },
  {
   "cell_type": "code",
   "execution_count": 2,
   "id": "f5dbc8cc-a590-4e65-875d-afac8d275165",
   "metadata": {},
   "outputs": [
    {
     "name": "stdout",
     "output_type": "stream",
     "text": [
      "# of privacy related tweets: 216667\n",
      "# of unique users who tweeted:90579\n"
     ]
    }
   ],
   "source": [
    "df=pd.read_pickle(data_root+'tweets-priv.pkl')\n",
    "print(\"# of privacy related tweets: {}\\n# of unique users who tweeted:{}\".format(len(df), len(df.author_id.unique())))"
   ]
  },
  {
   "cell_type": "code",
   "execution_count": 3,
   "id": "2db3f7e3-f7d9-415b-aaca-b9d9c07ac4dc",
   "metadata": {},
   "outputs": [
    {
     "name": "stdout",
     "output_type": "stream",
     "text": [
      "total # of users 1698096\n"
     ]
    }
   ],
   "source": [
    "user_df = pd.read_pickle(data_root+'users-en-unique.pkl')\n",
    "print('total # of users', len(user_df))"
   ]
  },
  {
   "cell_type": "code",
   "execution_count": 4,
   "id": "41537421-f0e3-412a-909c-3a8672bf5402",
   "metadata": {},
   "outputs": [
    {
     "name": "stderr",
     "output_type": "stream",
     "text": [
      "100%|███████████████████████████████████████████████████████████████████████████████████████████████████████████████| 216667/216667 [00:31<00:00, 6855.93it/s]\n"
     ]
    }
   ],
   "source": [
    "uids = set(user_df.index)\n",
    "df['author_group'] = df.progress_apply(lambda row: user_df.loc[row.author_id].user_group if row.author_id in uids else 'Unknown', axis=1)"
   ]
  },
  {
   "cell_type": "code",
   "execution_count": 5,
   "id": "39474fdd-06c4-4559-81fa-60fd3d197d09",
   "metadata": {},
   "outputs": [
    {
     "data": {
      "text/plain": [
       "author_group\n",
       "personal            2254\n",
       "techie              2492\n",
       "academic            8197\n",
       "news               12314\n",
       "academic_techie    19170\n",
       "personal_brand     20846\n",
       "business_brand     44097\n",
       "Unknown            53009\n",
       "unknown            54288\n",
       "Name: text, dtype: int64"
      ]
     },
     "execution_count": 5,
     "metadata": {},
     "output_type": "execute_result"
    }
   ],
   "source": [
    "'''Number of tweets posted across groups'''\n",
    "df.groupby('author_group').text.count().sort_values(ascending=True)\n",
    "# print(df.groupby('author_group').text.count().sort_values(ascending=True).to_frame().to_latex())"
   ]
  },
  {
   "cell_type": "code",
   "execution_count": 6,
   "id": "6ccf49c2-21d3-41b9-8d76-76229003b3bc",
   "metadata": {},
   "outputs": [
    {
     "name": "stdout",
     "output_type": "stream",
     "text": [
      "# of users who tweeted sec-priv tweets but deleted their accounts: 26772\n",
      "# of users who tweeted sec-priv tweets and have their accounts: 63807\n"
     ]
    }
   ],
   "source": [
    "deleted_users = set(df.author_id.unique()).difference(user_df.index)\n",
    "print('# of users who tweeted sec-priv tweets but deleted their accounts:', len(deleted_users))\n",
    "current_users = set(df.author_id).intersection(user_df.index)\n",
    "print('# of users who tweeted sec-priv tweets and have their accounts:', len(current_users))\n",
    "user_df=user_df.loc[list(current_users)]"
   ]
  },
  {
   "cell_type": "code",
   "execution_count": 7,
   "id": "d8e1d028-e459-43c1-98ae-140c749000e6",
   "metadata": {},
   "outputs": [
    {
     "data": {
      "text/plain": [
       "(163658, 25)"
      ]
     },
     "execution_count": 7,
     "metadata": {},
     "output_type": "execute_result"
    }
   ],
   "source": [
    "'''remove tweets from deleted users as per TOS'''\n",
    "df=df[df.apply(lambda row: row.author_id in current_users, axis=1)]\n",
    "df.shape"
   ]
  },
  {
   "cell_type": "code",
   "execution_count": 8,
   "id": "a5cff502-b914-40d3-b11c-7e5b6c11a4cf",
   "metadata": {},
   "outputs": [
    {
     "data": {
      "text/plain": [
       "author_group\n",
       "personal            2254\n",
       "techie              2492\n",
       "academic            8197\n",
       "news               12314\n",
       "academic_techie    19170\n",
       "personal_brand     20846\n",
       "business_brand     44097\n",
       "unknown            54288\n",
       "Name: text, dtype: int64"
      ]
     },
     "execution_count": 8,
     "metadata": {},
     "output_type": "execute_result"
    }
   ],
   "source": [
    "'''Number of tweets posted across groups after removing deleted profiles'''\n",
    "df.groupby('author_group').text.count().sort_values(ascending=True)"
   ]
  },
  {
   "cell_type": "code",
   "execution_count": 9,
   "id": "0c18c82f-bc1e-404c-9f6c-8456aa5fe1bc",
   "metadata": {},
   "outputs": [],
   "source": [
    "df[\"created_at\"] = pd.to_datetime(df[\"created_at\"])"
   ]
  },
  {
   "cell_type": "code",
   "execution_count": 10,
   "id": "1aa9d2ce-94ab-4aa8-9a51-8ee17ad70083",
   "metadata": {},
   "outputs": [],
   "source": [
    "df['search_grp'] = df.apply(lambda tweet: \n",
    "                            'mention' if tweet.search_term.startswith('@') \\\n",
    "                            else ('hashtag' if tweet.search_term.startswith('#') else 'other'), axis=1)"
   ]
  },
  {
   "cell_type": "code",
   "execution_count": 11,
   "id": "fa8974f8-b8d2-4458-8e8f-37e6927e3f24",
   "metadata": {},
   "outputs": [
    {
     "name": "stderr",
     "output_type": "stream",
     "text": [
      " 85%|██████████████████████████████████████████████████████████████████████████████████████████████                | 139904/163658 [00:06<00:00, 37854.45it/s]"
     ]
    },
    {
     "name": "stdout",
     "output_type": "stream",
     "text": [
      "1470755533770694661 Expecting ',' delimiter: line 1 column 763 (char 762)\n"
     ]
    },
    {
     "name": "stderr",
     "output_type": "stream",
     "text": [
      "100%|██████████████████████████████████████████████████████████████████████████████████████████████████████████████| 163658/163658 [00:06<00:00, 24561.35it/s]\n"
     ]
    }
   ],
   "source": [
    "'''Parse the entities in a tweet object'''\n",
    "\n",
    "def singleQuoteToDoubleQuote(singleQuoted):\n",
    "        '''\n",
    "        convert a single quoted string to a double quoted one\n",
    "        Args:\n",
    "            singleQuoted(string): a single quoted string e.g. {'cities': [{'name': \"Upper Hell's Gate\"}]}\n",
    "        Returns:\n",
    "            string: the double quoted version of the string e.g. \n",
    "        see\n",
    "           - https://stackoverflow.com/questions/55600788/python-replace-single-quotes-with-double-quotes-but-leave-ones-within-double-q \n",
    "        '''\n",
    "        cList=list(singleQuoted)\n",
    "        inDouble=False;\n",
    "        inSingle=False;\n",
    "        for i,c in enumerate(cList):\n",
    "            #print (\"%d:%s %r %r\" %(i,c,inSingle,inDouble))\n",
    "            if c==\"'\":\n",
    "                if not inDouble:\n",
    "                    inSingle=not inSingle\n",
    "                    cList[i]='\"'\n",
    "            elif c=='\"':\n",
    "                inDouble=not inDouble\n",
    "        doubleQuoted=\"\".join(cList)    \n",
    "        return doubleQuoted\n",
    "    \n",
    "def parse_entity(row):\n",
    "    if isinstance(row.entities, str):\n",
    "        try:\n",
    "            return json.loads(singleQuoteToDoubleQuote(row.entities).replace(u'\\\\xa0', u' '))\n",
    "        except Exception as e:\n",
    "            print(row.name, e)\n",
    "            return {}\n",
    "    else: \n",
    "        return {}\n",
    "df['entities_parsed']= df.progress_apply(lambda row: parse_entity(row), axis=1)\n",
    "# parse_entity(df.loc['1470058531546148880'])"
   ]
  },
  {
   "cell_type": "code",
   "execution_count": 12,
   "id": "f472a15d-6f6a-48fd-8c7a-a71c3792f28d",
   "metadata": {},
   "outputs": [
    {
     "data": {
      "text/plain": [
       "(104257, {'annotations', 'cashtags', 'hashtags', 'mentions', 'urls'})"
      ]
     },
     "execution_count": 12,
     "metadata": {},
     "output_type": "execute_result"
    }
   ],
   "source": [
    "keys = df.apply(lambda row: list(row.entities_parsed.keys()), axis=1)\n",
    "keys=list(itertools.chain.from_iterable(keys.values))\n",
    "len(keys),set(keys)"
   ]
  },
  {
   "cell_type": "code",
   "execution_count": 13,
   "id": "8a2ca73f-b516-4b8a-8e11-ef625cd1d414",
   "metadata": {},
   "outputs": [],
   "source": [
    "df['urls'] = df.apply(lambda row: [urlparse(url['expanded_url']).netloc for url in row.entities_parsed['urls']] \\\n",
    "                      if 'urls' in row.entities_parsed else [], axis=1)\n",
    "df['hashtags'] = df.apply(lambda row: [hashtag['tag'] for hashtag in row.entities_parsed['hashtags']] \\\n",
    "                      if 'hashtags' in row.entities_parsed else [], axis=1)\n",
    "df['anno_type'] = df.apply(lambda row: [a['type'] for a in row.entities_parsed['annotations']] \\\n",
    "                      if 'annotations' in row.entities_parsed else [], axis=1)\n",
    "df['anno_text'] = df.apply(lambda row: [a['normalized_text'] for a in row.entities_parsed['annotations']] \\\n",
    "                      if 'annotations' in row.entities_parsed else [], axis=1)\n",
    "df['mentions'] = df.apply(lambda row: [m['username'] for m in row.entities_parsed['mentions']] \\\n",
    "                      if 'mentions' in row.entities_parsed else [], axis=1)"
   ]
  },
  {
   "cell_type": "code",
   "execution_count": 14,
   "id": "70299edb-a50d-47cb-bd8f-3db97195a454",
   "metadata": {},
   "outputs": [],
   "source": [
    "def entity_stat(df, common=5):\n",
    "    print('Number of tweets with url(s):', len(df[df.apply(lambda row: len(row.urls)>0, axis=1)]))\n",
    "    print('Number of tweets with hashtag(s):', len(df[df.apply(lambda row: len(row.hashtags)>0, axis=1)]))\n",
    "    print('Number of tweets with annotations(s):', len(df[df.apply(lambda row: len(row.anno_type)>0, axis=1)]))\n",
    "    print('Number of tweets with mention(s):', len(df[df.apply(lambda row: len(row.mentions)>0, axis=1)]))\n",
    "    print()\n",
    "    mentions = list(itertools.chain.from_iterable(df.mentions.values))\n",
    "    tags=list(itertools.chain.from_iterable(df.hashtags.values))\n",
    "    urls=list(itertools.chain.from_iterable(df.urls.values))\n",
    "    anno_type=list(itertools.chain.from_iterable(df.anno_type.values))\n",
    "    anno_text=list(itertools.chain.from_iterable(df.anno_text.values))\n",
    "    print('urls: {}, unique:{}, most_common:{}'.format(len(urls), len(set(urls)), Counter(urls).most_common(common)))\n",
    "    print('mentions: {}, unique:{}, most_common:{}'.format(len(mentions), len(set(mentions)), Counter(mentions).most_common(common)))\n",
    "    print('tags: {}, unique:{}, most_common:{}'.format(len(tags), len(set(tags)), Counter(tags).most_common(common)))\n",
    "    print('anno_type: {}, unique:{}, most_common:{}'.format(len(anno_type), len(set(anno_type)), Counter(anno_type).most_common(common)))\n",
    "    print('anno_text: {}, unique:{}, most_common:{}'.format(len(anno_text), len(set(anno_text)), Counter(anno_text).most_common(common)))"
   ]
  },
  {
   "cell_type": "code",
   "execution_count": 15,
   "id": "00c4a739-89f8-4402-bb7d-f41ff6c2016a",
   "metadata": {},
   "outputs": [
    {
     "name": "stdout",
     "output_type": "stream",
     "text": [
      "Number of tweets with url(s): 40541\n",
      "Number of tweets with hashtag(s): 41776\n",
      "Number of tweets with annotations(s): 6666\n",
      "Number of tweets with mention(s): 15245\n",
      "\n",
      "urls: 50868, unique:3020, most_common:[('twitter.com', 11127), ('bit.ly', 8833), ('ow.ly', 6447), ('buff.ly', 2516), ('hubs.ly', 1440), ('gag.gl', 897), ('stwb.co', 858), ('okt.to', 799), ('goo.gl', 772), ('lnkd.in', 593)]\n",
      "mentions: 22541, unique:7879, most_common:[('ZDNet', 226), ('EdTech_K12', 220), ('CIOonline', 206), ('InfosecurityMag', 205), ('ITProPortal', 175), ('NTTComSec_UK', 168), ('helpnetsecurity', 161), ('SearchSecurity', 160), ('CSOonline', 150), ('MdMisi', 131)]\n",
      "tags: 144506, unique:10328, most_common:[('BYOD', 33591), ('security', 12834), ('cybersecurity', 5280), ('byod', 4103), ('infosec', 4082), ('mobile', 3653), ('privacy', 1553), ('mobilesecurity', 1463), ('IoT', 1444), ('Cybersecurity', 1401)]\n",
      "anno_type: 8125, unique:5, most_common:[('Organization', 3343), ('Person', 1790), ('Product', 1606), ('Place', 1183), ('Other', 203)]\n",
      "anno_text: 8125, unique:2989, most_common:[('Android', 296), ('Google', 152), ('AOTMP Telecom Management Daily', 131), ('UK', 130), ('Apple', 115), ('MSPs', 107), ('US', 97), ('iOS', 97), ('IBM', 84), ('Proctorio', 80)]\n"
     ]
    }
   ],
   "source": [
    "entity_stat(df , common=10)"
   ]
  },
  {
   "cell_type": "code",
   "execution_count": 16,
   "id": "1f276319-68c2-4f46-b909-a60effecef7e",
   "metadata": {},
   "outputs": [
    {
     "data": {
      "text/plain": [
       "Index(['author_id', 'text', 'created_at', 'geo', 'retweets', 'replies',\n",
       "       'likes', 'quote_count', 'lang', 'conversation_id',\n",
       "       'context_annotations', 'entities', 'attachments', 'possibly_sensitive',\n",
       "       'withheld', 'reply_settings', 'source', 'search_term', 'senti', 'topic',\n",
       "       'text_clean_topic', 'text_clean_senti', 'topic_cos', 'topic_con',\n",
       "       'author_group', 'search_grp', 'entities_parsed', 'urls', 'hashtags',\n",
       "       'anno_type', 'anno_text', 'mentions'],\n",
       "      dtype='object')"
      ]
     },
     "execution_count": 16,
     "metadata": {},
     "output_type": "execute_result"
    }
   ],
   "source": [
    "# t=df[df.apply(lambda row: 'twitter.com' in row.urls[0] if row.urls else False, axis=1)]\n",
    "# pd.options.display.max_colwidth=390\n",
    "# t[['text']]\n",
    "df.columns"
   ]
  },
  {
   "cell_type": "code",
   "execution_count": 17,
   "id": "c6ce8dce-db80-4b25-9c94-2ab097146350",
   "metadata": {},
   "outputs": [],
   "source": [
    "def get_tweet_type(tweet):\n",
    "    for url in tweet.urls:\n",
    "        if 'twitter.com' in url:\n",
    "            return 'quote'\n",
    "    if int(tweet.name)!=tweet.conversation_id:\n",
    "        return 'reply'\n",
    "    return 'novel'\n",
    "\n",
    "df['tweet_type'] = df.apply(lambda tweet: get_tweet_type(tweet), axis=1)"
   ]
  },
  {
   "cell_type": "code",
   "execution_count": 18,
   "id": "909fe55b-ee28-4a94-9bf1-25b93cebe465",
   "metadata": {},
   "outputs": [
    {
     "data": {
      "text/plain": [
       "tweet_type\n",
       "novel    134332\n",
       "quote     11023\n",
       "reply     18303\n",
       "Name: text, dtype: int64"
      ]
     },
     "execution_count": 18,
     "metadata": {},
     "output_type": "execute_result"
    }
   ],
   "source": [
    "df.groupby('tweet_type').text.count()"
   ]
  },
  {
   "cell_type": "markdown",
   "id": "c2a8bb94-4a5d-48b0-9624-cd82ea966fb0",
   "metadata": {},
   "source": [
    "df.to_pickle(data_root+'tweets-priv-processed.pkl')## Who tweeted? Find user groups"
   ]
  },
  {
   "cell_type": "code",
   "execution_count": 19,
   "id": "60f82434-c11b-45fe-be51-dfb788140675",
   "metadata": {},
   "outputs": [
    {
     "data": {
      "text/html": [
       "<div>\n",
       "<style scoped>\n",
       "    .dataframe tbody tr th:only-of-type {\n",
       "        vertical-align: middle;\n",
       "    }\n",
       "\n",
       "    .dataframe tbody tr th {\n",
       "        vertical-align: top;\n",
       "    }\n",
       "\n",
       "    .dataframe thead th {\n",
       "        text-align: right;\n",
       "    }\n",
       "</style>\n",
       "<table border=\"1\" class=\"dataframe\">\n",
       "  <thead>\n",
       "    <tr style=\"text-align: right;\">\n",
       "      <th></th>\n",
       "      <th></th>\n",
       "      <th>text</th>\n",
       "    </tr>\n",
       "    <tr>\n",
       "      <th>author_group</th>\n",
       "      <th>tweet_type</th>\n",
       "      <th></th>\n",
       "    </tr>\n",
       "  </thead>\n",
       "  <tbody>\n",
       "    <tr>\n",
       "      <th>business_brand</th>\n",
       "      <th>novel</th>\n",
       "      <td>37210</td>\n",
       "    </tr>\n",
       "    <tr>\n",
       "      <th>personal_brand</th>\n",
       "      <th>novel</th>\n",
       "      <td>17838</td>\n",
       "    </tr>\n",
       "    <tr>\n",
       "      <th>academic_techie</th>\n",
       "      <th>novel</th>\n",
       "      <td>15710</td>\n",
       "    </tr>\n",
       "    <tr>\n",
       "      <th>news</th>\n",
       "      <th>novel</th>\n",
       "      <td>11315</td>\n",
       "    </tr>\n",
       "    <tr>\n",
       "      <th>academic</th>\n",
       "      <th>novel</th>\n",
       "      <td>6078</td>\n",
       "    </tr>\n",
       "    <tr>\n",
       "      <th>business_brand</th>\n",
       "      <th>quote</th>\n",
       "      <td>5697</td>\n",
       "    </tr>\n",
       "    <tr>\n",
       "      <th>academic_techie</th>\n",
       "      <th>reply</th>\n",
       "      <td>2913</td>\n",
       "    </tr>\n",
       "    <tr>\n",
       "      <th>academic</th>\n",
       "      <th>reply</th>\n",
       "      <td>2000</td>\n",
       "    </tr>\n",
       "    <tr>\n",
       "      <th>techie</th>\n",
       "      <th>novel</th>\n",
       "      <td>1964</td>\n",
       "    </tr>\n",
       "    <tr>\n",
       "      <th>personal_brand</th>\n",
       "      <th>quote</th>\n",
       "      <td>1788</td>\n",
       "    </tr>\n",
       "  </tbody>\n",
       "</table>\n",
       "</div>"
      ],
      "text/plain": [
       "                             text\n",
       "author_group    tweet_type       \n",
       "business_brand  novel       37210\n",
       "personal_brand  novel       17838\n",
       "academic_techie novel       15710\n",
       "news            novel       11315\n",
       "academic        novel        6078\n",
       "business_brand  quote        5697\n",
       "academic_techie reply        2913\n",
       "academic        reply        2000\n",
       "techie          novel        1964\n",
       "personal_brand  quote        1788"
      ]
     },
     "execution_count": 19,
     "metadata": {},
     "output_type": "execute_result"
    }
   ],
   "source": [
    "df[df.author_group!='unknown'].groupby(['author_group', 'tweet_type']).text.count().sort_values(ascending=False).to_frame().head(10)"
   ]
  },
  {
   "cell_type": "code",
   "execution_count": 131,
   "id": "42a6a322-fb71-41d7-8e47-e1fc9674cd78",
   "metadata": {},
   "outputs": [
    {
     "data": {
      "image/png": "[encoded data removed]",
      "text/plain": [
       "<Figure size 864x576 with 1 Axes>"
      ]
     },
     "metadata": {
      "needs_background": "light"
     },
     "output_type": "display_data"
    }
   ],
   "source": [
    "df[df.author_group!='unknown'].groupby(['author_group', 'tweet_type']).text.count().unstack().plot(kind='barh', width=.8, figsize=(12,8))\n",
    "plt.yticks(fontsize=14)\n",
    "plt.xticks(fontsize=14)\n",
    "plt.xlabel('count', fontsize=16)\n",
    "plt.ylabel('author group', fontsize=16)\n",
    "plt.legend(title=\"Tweet type\", title_fontsize=15, fontsize=14, fancybox=True)\n",
    "plt.show()"
   ]
  },
  {
   "cell_type": "code",
   "execution_count": 132,
   "id": "b74211b5-9d30-45de-ac14-597488fb4a6b",
   "metadata": {},
   "outputs": [
    {
     "data": {
      "image/png": "[encoded data removed]",
      "text/plain": [
       "<Figure size 1296x432 with 1 Axes>"
      ]
     },
     "metadata": {
      "needs_background": "light"
     },
     "output_type": "display_data"
    }
   ],
   "source": [
    "plt.figure(figsize=(18,6))\n",
    "df.reset_index().set_index('created_at').groupby(pd.Grouper(freq='3M')).text.count().plot()\n",
    "plt.title('')\n",
    "plt.show()"
   ]
  },
  {
   "cell_type": "code",
   "execution_count": 20,
   "id": "05a7070f-bf41-413d-92b8-05091031635a",
   "metadata": {},
   "outputs": [],
   "source": [
    "df.to_pickle(data_root+'tweets-priv-processed.pkl')"
   ]
  },
  {
   "cell_type": "markdown",
   "id": "46aac43e-7f17-4953-90d8-7e5e1532e62b",
   "metadata": {},
   "source": [
    "## Tweet sentiment"
   ]
  },
  {
   "cell_type": "code",
   "execution_count": 56,
   "id": "c5b07109-fb5f-426a-9c86-ec02fb030d60",
   "metadata": {},
   "outputs": [],
   "source": [
    "# def remove_comp(senti):\n",
    "#     if 'compound' in senti:\n",
    "#         senti.pop('compound')\n",
    "#     return senti\n",
    "# df['senti2'] = df.apply(lambda tweet: remove_comp(tweet.senti), axis=1)\n",
    "# df['senti2'] = df.apply(lambda tweet: max(tweet.senti2.items(), key=operator.itemgetter(1))[0], axis=1)"
   ]
  },
  {
   "cell_type": "code",
   "execution_count": 57,
   "id": "09212d49-f527-4ec4-8bdc-84e31f7b64c9",
   "metadata": {},
   "outputs": [
    {
     "data": {
      "text/plain": [
       "senti\n",
       "negative      7309\n",
       "neutral     148082\n",
       "positive      8267\n",
       "Name: text, dtype: int64"
      ]
     },
     "execution_count": 57,
     "metadata": {},
     "output_type": "execute_result"
    }
   ],
   "source": [
    "df.groupby('senti').text.count()"
   ]
  },
  {
   "cell_type": "code",
   "execution_count": null,
   "id": "965b08cb-c0d6-4c58-96da-536e05f0e6b7",
   "metadata": {},
   "outputs": [],
   "source": []
  },
  {
   "cell_type": "code",
   "execution_count": 58,
   "id": "7a120e24-5271-4610-88c8-6e183fb86140",
   "metadata": {},
   "outputs": [
    {
     "data": {
      "text/plain": [
       "tweet_type  senti   \n",
       "novel       negative      5651\n",
       "            neutral     121958\n",
       "            positive      6736\n",
       "quote       negative       193\n",
       "            neutral      10318\n",
       "            positive       499\n",
       "reply       negative      1465\n",
       "            neutral      15806\n",
       "            positive      1032\n",
       "Name: text, dtype: int64"
      ]
     },
     "execution_count": 58,
     "metadata": {},
     "output_type": "execute_result"
    }
   ],
   "source": [
    "df.groupby(['tweet_type','senti']).text.count()#.sort_values(ascending=False)"
   ]
  },
  {
   "cell_type": "code",
   "execution_count": 59,
   "id": "0292c504-0fa7-4f16-9f75-40091e49ade9",
   "metadata": {},
   "outputs": [
    {
     "data": {
      "text/plain": [
       "author_group\n",
       "unknown           3545\n",
       "business_brand    1327\n",
       "academic_techi     823\n",
       "personal_brand     579\n",
       "news               451\n",
       "academic           413\n",
       "techie             171\n",
       "Name: text, dtype: int64"
      ]
     },
     "execution_count": 59,
     "metadata": {},
     "output_type": "execute_result"
    }
   ],
   "source": [
    "df[df.senti=='negative'].groupby(['author_group']).text.count().sort_values(ascending=False)"
   ]
  },
  {
   "cell_type": "code",
   "execution_count": 60,
   "id": "1a828b8a-228f-4deb-bcac-300c7e9170ea",
   "metadata": {},
   "outputs": [],
   "source": [
    "neg_df = df[df.senti=='negative']"
   ]
  },
  {
   "cell_type": "code",
   "execution_count": null,
   "id": "c9a9283e-f5ca-454d-9a31-20bd6114bbda",
   "metadata": {},
   "outputs": [],
   "source": []
  },
  {
   "cell_type": "code",
   "execution_count": 29,
   "id": "b916cc49-cfa7-460d-bea9-27801d9be24a",
   "metadata": {},
   "outputs": [],
   "source": [
    "sample1 = pd.read_excel('priv-tweets-neg-sample1.xls')\n",
    "sample1.tweetid = sample1.tweetid.astype(str)\n",
    "sample1.set_index('tweetid', inplace=True)"
   ]
  },
  {
   "cell_type": "code",
   "execution_count": 30,
   "id": "8819b23b-a440-4f03-9a3a-6124fd478bbb",
   "metadata": {},
   "outputs": [
    {
     "name": "stderr",
     "output_type": "stream",
     "text": [
      "/var/folders/q5/tcs66y_j6z1bcz8ffp7_1m4r0000gq/T/ipykernel_55137/1178873254.py:1: FutureWarning: Passing a set as an indexer is deprecated and will raise in a future version. Use a list instead.\n",
      "  df.loc[(set(sample1.index).intersection(set(df[df.senti=='negative'].index)))].sample(10)[['text']]\n"
     ]
    },
    {
     "data": {
      "text/html": [
       "<div>\n",
       "<style scoped>\n",
       "    .dataframe tbody tr th:only-of-type {\n",
       "        vertical-align: middle;\n",
       "    }\n",
       "\n",
       "    .dataframe tbody tr th {\n",
       "        vertical-align: top;\n",
       "    }\n",
       "\n",
       "    .dataframe thead th {\n",
       "        text-align: right;\n",
       "    }\n",
       "</style>\n",
       "<table border=\"1\" class=\"dataframe\">\n",
       "  <thead>\n",
       "    <tr style=\"text-align: right;\">\n",
       "      <th></th>\n",
       "      <th>text</th>\n",
       "    </tr>\n",
       "    <tr>\n",
       "      <th>tweetid</th>\n",
       "      <th></th>\n",
       "    </tr>\n",
       "  </thead>\n",
       "  <tbody>\n",
       "    <tr>\n",
       "      <th>388933694498406400</th>\n",
       "      <td>No Recourse for Girls Harassed by Transgender Bully http://t.co/XI0FlCUhAb CO girls' privacy jeopardized by one gender confused moron=wrong</td>\n",
       "    </tr>\n",
       "    <tr>\n",
       "      <th>25920117445</th>\n",
       "      <td>I'm truly horrified by the circumstances of this young Rutgers student's invasion of privacy and subsequent suicide.  http://bit.ly/bKaQBj</td>\n",
       "    </tr>\n",
       "    <tr>\n",
       "      <th>27787390340833280</th>\n",
       "      <td>Teacher Punished for Reporting Violent 7-Year-Old: http://abcn.ws/eP17QU. Did she violate the student's privacy, or do the right thing?</td>\n",
       "    </tr>\n",
       "    <tr>\n",
       "      <th>1455170658371977226</th>\n",
       "      <td>@CheetahJim1 @ProFootballTalk Not saying it's right to violate one's privacy but where were y'all when Linda Tripp was violating Monica Lewinski?  People get violated by the system every day.  Your typical college rape of a student by a professor involves far more violation than poor millionaire...</td>\n",
       "    </tr>\n",
       "    <tr>\n",
       "      <th>1337484131928862727</th>\n",
       "      <td>This is why I get mad when edtech or tech platforms get applauded \\n\\nNo one EVER asks what the fuck is going on in schools with privacy \\n\\nAnd let me tell you it is a mess because half the staff don’t know and the other half are wannabe prison guards https://t.co/GRkU0cBfHH</td>\n",
       "    </tr>\n",
       "    <tr>\n",
       "      <th>1122934665122320384</th>\n",
       "      <td>A student cleared of rape when his accuser’s text messages proved his innocence said this morning that rape suspects deserve the same right to privacy as victims https://t.co/rt13k0DI34</td>\n",
       "    </tr>\n",
       "    <tr>\n",
       "      <th>1025695617048301568</th>\n",
       "      <td>@BostonDotCom WTF? This is disgusting. She's a student that work hard to get into college and she gets target b/c she a person of color and they're worried about the \"privacy laws\" after this young woman got humiliated  for doing nothing wrong. Get the hell out here with that BS.</td>\n",
       "    </tr>\n",
       "    <tr>\n",
       "      <th>180695154313805824</th>\n",
       "      <td>Dharun Ravi, ex Rutgers Univ student was found guilty on charges of invasion of privacy, but not guilty charges of bias intimidation</td>\n",
       "    </tr>\n",
       "    <tr>\n",
       "      <th>9293828456</th>\n",
       "      <td>Absolutely horrifying: \"School used student laptop webcams to spy on them at school and at home\" http://bit.ly/apfgRf #privacy</td>\n",
       "    </tr>\n",
       "    <tr>\n",
       "      <th>892577006730133504</th>\n",
       "      <td>Posting a student's work is a gross violation of privacy. But it's much less gross than their preferred method of traveling. https://t.co/5SpkcmR5Qy</td>\n",
       "    </tr>\n",
       "  </tbody>\n",
       "</table>\n",
       "</div>"
      ],
      "text/plain": [
       "                                                                                                                                                                                                                                                                                                                            text\n",
       "tweetid                                                                                                                                                                                                                                                                                                                         \n",
       "388933694498406400                                                                                                                                                                   No Recourse for Girls Harassed by Transgender Bully http://t.co/XI0FlCUhAb CO girls' privacy jeopardized by one gender confused moron=wrong\n",
       "25920117445                                                                                                                                                                           I'm truly horrified by the circumstances of this young Rutgers student's invasion of privacy and subsequent suicide.  http://bit.ly/bKaQBj\n",
       "27787390340833280                                                                                                                                                                        Teacher Punished for Reporting Violent 7-Year-Old: http://abcn.ws/eP17QU. Did she violate the student's privacy, or do the right thing?\n",
       "1455170658371977226  @CheetahJim1 @ProFootballTalk Not saying it's right to violate one's privacy but where were y'all when Linda Tripp was violating Monica Lewinski?  People get violated by the system every day.  Your typical college rape of a student by a professor involves far more violation than poor millionaire...\n",
       "1337484131928862727                         This is why I get mad when edtech or tech platforms get applauded \\n\\nNo one EVER asks what the fuck is going on in schools with privacy \\n\\nAnd let me tell you it is a mess because half the staff don’t know and the other half are wannabe prison guards https://t.co/GRkU0cBfHH\n",
       "1122934665122320384                                                                                                                    A student cleared of rape when his accuser’s text messages proved his innocence said this morning that rape suspects deserve the same right to privacy as victims https://t.co/rt13k0DI34\n",
       "1025695617048301568                     @BostonDotCom WTF? This is disgusting. She's a student that work hard to get into college and she gets target b/c she a person of color and they're worried about the \"privacy laws\" after this young woman got humiliated  for doing nothing wrong. Get the hell out here with that BS.\n",
       "180695154313805824                                                                                                                                                                          Dharun Ravi, ex Rutgers Univ student was found guilty on charges of invasion of privacy, but not guilty charges of bias intimidation\n",
       "9293828456                                                                                                                                                                                        Absolutely horrifying: \"School used student laptop webcams to spy on them at school and at home\" http://bit.ly/apfgRf #privacy\n",
       "892577006730133504                                                                                                                                                          Posting a student's work is a gross violation of privacy. But it's much less gross than their preferred method of traveling. https://t.co/5SpkcmR5Qy"
      ]
     },
     "execution_count": 30,
     "metadata": {},
     "output_type": "execute_result"
    }
   ],
   "source": [
    "df.loc[(set(sample1.index).intersection(set(df[df.senti=='negative'].index)))].sample(10)[['text']]"
   ]
  },
  {
   "cell_type": "code",
   "execution_count": 31,
   "id": "b318d626-7a74-4937-a1de-eebf2ae110ad",
   "metadata": {},
   "outputs": [
    {
     "data": {
      "text/html": [
       "<div>\n",
       "<style scoped>\n",
       "    .dataframe tbody tr th:only-of-type {\n",
       "        vertical-align: middle;\n",
       "    }\n",
       "\n",
       "    .dataframe tbody tr th {\n",
       "        vertical-align: top;\n",
       "    }\n",
       "\n",
       "    .dataframe thead th {\n",
       "        text-align: right;\n",
       "    }\n",
       "</style>\n",
       "<table border=\"1\" class=\"dataframe\">\n",
       "  <thead>\n",
       "    <tr style=\"text-align: right;\">\n",
       "      <th></th>\n",
       "      <th>text</th>\n",
       "    </tr>\n",
       "    <tr>\n",
       "      <th>tweetid</th>\n",
       "      <th></th>\n",
       "    </tr>\n",
       "  </thead>\n",
       "  <tbody>\n",
       "    <tr>\n",
       "      <th>101695842209107968</th>\n",
       "      <td>Court sides with college accused of snooping on student’s email account http://e74.us/8w #privacy RT @internetcases &amp;lt; Unencrypted = insecure</td>\n",
       "    </tr>\n",
       "    <tr>\n",
       "      <th>344785106378043393</th>\n",
       "      <td>BYOD &amp;amp; the implications for the IT team http://t.co/SM6MAuiqkB  #tech #news #BYOD #mobile #IT #security</td>\n",
       "    </tr>\n",
       "    <tr>\n",
       "      <th>941678592970379265</th>\n",
       "      <td>See how @usedgov now investigating @MoskowitzEva &amp;amp; @SuccessCharters for violations of student privacy #FERPA @MarkTreyger718 @Parents4Privacy @FatimaFarax @NYCKidsPAC @jbelluck @CoreyinNYC @Dromm25 @ChalkbeatNY @NYDNBenChapman @katetaylornyt https://t.co/d0PYXySLy9</td>\n",
       "    </tr>\n",
       "    <tr>\n",
       "      <th>289560706506969088</th>\n",
       "      <td>School privacy policies are dangerous. Coworker was not allowed to learn name of student who fractured son's skull due to privacy policy.</td>\n",
       "    </tr>\n",
       "    <tr>\n",
       "      <th>1336323095565459461</th>\n",
       "      <td>@susanoha Some edtech is great and others are an abomination, digiLEARN is selling the abomination edtech that is expensive, sunders privacy and harms children. https://t.co/WYSvU3mEM8</td>\n",
       "    </tr>\n",
       "    <tr>\n",
       "      <th>1325974559506522112</th>\n",
       "      <td>@PublixHelps The chairs to the right in the grocery store was where 2 people in the pharmacy, first a student and then the pharmacist, tried to give me the flu vaccine. I refused because this is unacceptable. No privacy. Pathetic pt care! https://t.co/t4O0wn4MPf</td>\n",
       "    </tr>\n",
       "    <tr>\n",
       "      <th>854077533104427008</th>\n",
       "      <td>MT @TeriGRight: #CommonCore intrusive data mining threatens student privacy! #KeepYourPromise #StopCommonCore https://t.co/6xyB74ntJa #PJNET</td>\n",
       "    </tr>\n",
       "    <tr>\n",
       "      <th>1101672288985014272</th>\n",
       "      <td>The latest Hecht Hyperborean! https://t.co/YJKNCaAxez Thanks to @catacalypto @twmillar @nevesytrof #privacy #edtech</td>\n",
       "    </tr>\n",
       "    <tr>\n",
       "      <th>310032618819297281</th>\n",
       "      <td>Allure of \"21st-century technology\" masks privacy-undermining agenda of those allergic to..parental autonomy. http://t.co/gMGlL2xZk4</td>\n",
       "    </tr>\n",
       "    <tr>\n",
       "      <th>310595181432946690</th>\n",
       "      <td>School Official Accused of Accessing Student's Facebook Page #cyber #cyberbullying #privacy... http://t.co/JOb6rYUFOC</td>\n",
       "    </tr>\n",
       "  </tbody>\n",
       "</table>\n",
       "</div>"
      ],
      "text/plain": [
       "                                                                                                                                                                                                                                                                                              text\n",
       "tweetid                                                                                                                                                                                                                                                                                           \n",
       "101695842209107968                                                                                                                                 Court sides with college accused of snooping on student’s email account http://e74.us/8w #privacy RT @internetcases &lt; Unencrypted = insecure\n",
       "344785106378043393                                                                                                                                                                     BYOD &amp; the implications for the IT team http://t.co/SM6MAuiqkB  #tech #news #BYOD #mobile #IT #security\n",
       "941678592970379265   See how @usedgov now investigating @MoskowitzEva &amp; @SuccessCharters for violations of student privacy #FERPA @MarkTreyger718 @Parents4Privacy @FatimaFarax @NYCKidsPAC @jbelluck @CoreyinNYC @Dromm25 @ChalkbeatNY @NYDNBenChapman @katetaylornyt https://t.co/d0PYXySLy9\n",
       "289560706506969088                                                                                                                                       School privacy policies are dangerous. Coworker was not allowed to learn name of student who fractured son's skull due to privacy policy.\n",
       "1336323095565459461                                                                                       @susanoha Some edtech is great and others are an abomination, digiLEARN is selling the abomination edtech that is expensive, sunders privacy and harms children. https://t.co/WYSvU3mEM8\n",
       "1325974559506522112         @PublixHelps The chairs to the right in the grocery store was where 2 people in the pharmacy, first a student and then the pharmacist, tried to give me the flu vaccine. I refused because this is unacceptable. No privacy. Pathetic pt care! https://t.co/t4O0wn4MPf\n",
       "854077533104427008                                                                                                                                    MT @TeriGRight: #CommonCore intrusive data mining threatens student privacy! #KeepYourPromise #StopCommonCore https://t.co/6xyB74ntJa #PJNET\n",
       "1101672288985014272                                                                                                                                                            The latest Hecht Hyperborean! https://t.co/YJKNCaAxez Thanks to @catacalypto @twmillar @nevesytrof #privacy #edtech\n",
       "310032618819297281                                                                                                                                            Allure of \"21st-century technology\" masks privacy-undermining agenda of those allergic to..parental autonomy. http://t.co/gMGlL2xZk4\n",
       "310595181432946690                                                                                                                                                           School Official Accused of Accessing Student's Facebook Page #cyber #cyberbullying #privacy... http://t.co/JOb6rYUFOC"
      ]
     },
     "execution_count": 31,
     "metadata": {},
     "output_type": "execute_result"
    }
   ],
   "source": [
    "df[df.senti=='negative'].sample(10)[['text']]"
   ]
  },
  {
   "cell_type": "markdown",
   "id": "55cb526c-5ce3-4609-af1e-bd04f3dd5226",
   "metadata": {},
   "source": [
    "### Topics"
   ]
  },
  {
   "cell_type": "code",
   "execution_count": 61,
   "id": "7c41f7c9-21f9-4695-930b-1426245be8de",
   "metadata": {},
   "outputs": [
    {
     "name": "stdout",
     "output_type": "stream",
     "text": [
      "0 gauge pseudonym tyranny culprit sarcasm ludicrous nefarious pedophile disingenuous fwiw\n",
      "1 edtech cybersecurity dfir skillsgap nlproc ingramtechsol systemsthinke stcenturyskill thecybersecurityplace cybint\n",
      "2 datum protect sotu schoolprivacyzone paigekowalski datadrivesresult rachelbarrer takectrl replukemesser benjaminbherold\n",
      "3 username share talk story daily event awesome tune david advisor\n",
      "4 school lifeleader schoolchildren safeschool studentvoice chooseprivacy schooldistrict coetail powerschool indyschool\n",
      "5 security byod mobile device enterprisesecurity byodsecurity fiercemobileit securityrisk dellsecurity symantec\n",
      "6 privacy student news washington priva myname privac stud studentright priv\n",
      "7 facebook internship flaw austrian lose harvard expose highlight messenger cancel\n",
      "8 conclude cpdp myriad minefield txcto asugsv sotn bettertogether nuisance rundown\n",
      "9 neighborhood georgetown auburn nazi chattanooga tulsa knife sixth uconn franklin\n"
     ]
    }
   ],
   "source": [
    "priv_topics = [line.split(':')[1] for line in open('priv-tweet-topics.txt')]\n",
    "for pt in range(len(priv_topics)):\n",
    "    print(pt, priv_topics[pt].strip())"
   ]
  },
  {
   "cell_type": "code",
   "execution_count": 33,
   "id": "cab7c492-b381-4104-844e-415d58d723d1",
   "metadata": {},
   "outputs": [],
   "source": [
    "interesting_topics=[0, 1,2 ,3,4,6]\n",
    "# 0: talks about tyranny of EdTech\n",
    "# 1: ingramtechsol, thecybersecurityplace, cybint-->general cybersecurity, \n",
    "# 2: names of politicians, journalists who talk about (privacy?) policy\n",
    "# 3: news, articles, announcements, some about how to prevent security/privacy issues \n",
    "# 4: similar to 0\n",
    "# 5: about BOYD, ignore"
   ]
  },
  {
   "cell_type": "code",
   "execution_count": 58,
   "id": "5da494bc-0da7-41be-bad7-97ed4ed83509",
   "metadata": {},
   "outputs": [
    {
     "data": {
      "text/plain": [
       "topic\n",
       " 6    104699\n",
       " 5     37108\n",
       " 1     12735\n",
       " 3      6447\n",
       " 2      1205\n",
       " 4       702\n",
       "-1       699\n",
       " 7        48\n",
       " 0        12\n",
       " 9         3\n",
       "Name: text, dtype: int64"
      ]
     },
     "execution_count": 58,
     "metadata": {},
     "output_type": "execute_result"
    }
   ],
   "source": [
    "df.groupby('topic').text.count().sort_values(ascending=False)#.head(10)"
   ]
  },
  {
   "cell_type": "markdown",
   "id": "204d5554-1363-4176-a7f3-5dd053cad6b6",
   "metadata": {},
   "source": [
    "### Sample negative tweets for each topic for manual annotation "
   ]
  },
  {
   "cell_type": "code",
   "execution_count": 63,
   "id": "883b8bdb-933b-4060-bb30-e0dfe4ff9070",
   "metadata": {},
   "outputs": [],
   "source": [
    "# neg_df = df[df.senti=='negative']\n",
    "# neg_df['link']=neg_df.apply(lambda r: 'http://twitter.com/u/status/{}'.format(r.name), axis=1)\n",
    "# neg_df.groupby('topic').text.count().sort_values(ascending=False).head(10)"
   ]
  },
  {
   "cell_type": "code",
   "execution_count": 64,
   "id": "1857c8e4-f5ab-4b7e-ac7a-d5e701084038",
   "metadata": {},
   "outputs": [],
   "source": [
    "# neg_df[neg_df.topic<5][['text', 'link']].to_excel('neg-tweet-[0-4].xls')"
   ]
  },
  {
   "cell_type": "code",
   "execution_count": 62,
   "id": "1c63795d-d6d9-4ad5-9846-b5b59fe484c8",
   "metadata": {},
   "outputs": [],
   "source": [
    "# tdf= df[df.apply(lambda row: row.topic==5 and 'edtech' in row.text.lower(), axis=1)]\n",
    "# print(len(tdf))\n",
    "# tdf[['text']].to_excel('neg-tweet-5.xls')\n",
    "# tdf.sample(np.min([10,len(tdf)]))[['text', 'topic','topic_cos','created_at']]"
   ]
  },
  {
   "cell_type": "markdown",
   "id": "92a064e7-1c06-4d7c-988f-c84632e5a0d2",
   "metadata": {},
   "source": [
    "### remove duplicate tweets"
   ]
  },
  {
   "cell_type": "code",
   "execution_count": 204,
   "id": "d84faa10-856e-4ea0-9ac0-5c580c9748e6",
   "metadata": {},
   "outputs": [],
   "source": [
    "# topic_6 = pd.read_excel('neg-tweet-6.xlsx')#pd.concat([pd.read_excel('neg-tweet-6.xlsx').iloc[:1753], pd.read_excel('neg-tweet-6-no-dup.xlsx')[1753:]])\n",
    "# print(topic_6.shape)\n",
    "# dups = [line.strip() for line in open('duplicates.txt')][0].split(',')\n",
    "# dups=list(filter(None, dups))\n",
    "# dup_tweets = []\n",
    "# for dup in dups:\n",
    "#     dup_tweets += list(topic_6[topic_6.apply(lambda row: dup.strip().lower() in row.text.lower() and \\\n",
    "#                                              (isinstance(row.Code1, float) or len(row.Code1)==0), axis=1)].index)\n",
    "# len(dup_tweets)\n",
    "# topic_6[topic_6.apply(lambda row: ' rfid ' in row.text.lower(), axis=1)] "
   ]
  },
  {
   "cell_type": "code",
   "execution_count": 66,
   "id": "9d1be493-2a2e-4fa5-8f3f-d0208b5558b9",
   "metadata": {},
   "outputs": [],
   "source": [
    "# no_dup=topic_6.drop(index=dup_tweets)\n",
    "# print(no_dup.shape)\n",
    "# no_dup[['text','Code1', 'link']].to_excel('neg-tweet-6-final.xlsx')"
   ]
  },
  {
   "cell_type": "markdown",
   "id": "3b9c5936-6c92-4d6b-95bb-a5285f7d45a8",
   "metadata": {},
   "source": [
    "### Analyze labelled tweets"
   ]
  },
  {
   "cell_type": "code",
   "execution_count": 21,
   "id": "85a3db46-b0f6-452f-a3f6-dd3b185614a5",
   "metadata": {},
   "outputs": [],
   "source": [
    "def get_tfidf_top_features(documents,n_top=10, max_df=.3, min_df=5):\n",
    "    tfidf_vectorizer = TfidfVectorizer(max_df=max_df, min_df=min_df,stop_words='english')\n",
    "    tfidf = tfidf_vectorizer.fit_transform(documents)\n",
    "    importance = np.argsort(np.asarray(tfidf.sum(axis=0)).ravel())[::-1]\n",
    "    tfidf_feature_names = np.array(tfidf_vectorizer.get_feature_names())\n",
    "    return tfidf_feature_names[importance[:n_top]]\n"
   ]
  },
  {
   "cell_type": "code",
   "execution_count": 29,
   "id": "3bc6c29a-33a0-4162-9870-c8ddf2e5de57",
   "metadata": {},
   "outputs": [],
   "source": [
    "# labled_df = pd.concat([pd.read_csv('neg-tweet-6-final.csv',  sep=',', encoding = \"utf-8\"),\n",
    "#                       pd.read_csv('neg-tweet-(0-4).csv',  sep=',', encoding = \"utf-8\")])\n",
    "# labled_df['tweetid'] = labled_df.apply(lambda row: row.link.split('/')[-1], axis=1)\n",
    "# labled_df = labled_df[labled_df.apply(lambda row: isinstance(row.Code, str) and len(row.Code.strip())>2, axis=1)]\n",
    "\n",
    "# df= pd.read_csv('neg-tweet-5.csv',  sep=',', encoding = \"utf-8\")\n",
    "# df['tweetid']=df.tweetid.astype(str)\n",
    "# labled_df=pd.concat([labled_df, df])\n",
    "\n",
    "# labled_df.set_index('tweetid', inplace=True)\n",
    "# print(labled_df.shape)\n",
    "# labled_df=labled_df[['text', 'Code']]\n",
    "# labled_df.to_csv('all-sec-priv-labeled-tweets.csv', encoding='utf-8')\n",
    "# labled_df.tweetid=labled_df.tweetid.astype(str)\n",
    "# labled_df.set_index('tweetid', inplace=True)\n",
    "\n",
    "# ldf=df.loc[labled_df.index]\n",
    "# ldf['code'] = labled_df.code\n",
    "# ldf.shape\n",
    "# ldf.to_pickle('all-sec-priv-labeled-tweets.pkl')\n",
    "# ldf.to_csv('all-sec-priv-labeled-tweets.csv', encoding='utf-8')"
   ]
  },
  {
   "cell_type": "code",
   "execution_count": 30,
   "id": "d683876e-624b-41f0-aa90-64d03b8558fc",
   "metadata": {},
   "outputs": [
    {
     "name": "stdout",
     "output_type": "stream",
     "text": [
      "(4648, 34)\n"
     ]
    },
    {
     "data": {
      "text/html": [
       "<div>\n",
       "<style scoped>\n",
       "    .dataframe tbody tr th:only-of-type {\n",
       "        vertical-align: middle;\n",
       "    }\n",
       "\n",
       "    .dataframe tbody tr th {\n",
       "        vertical-align: top;\n",
       "    }\n",
       "\n",
       "    .dataframe thead th {\n",
       "        text-align: right;\n",
       "    }\n",
       "</style>\n",
       "<table border=\"1\" class=\"dataframe\">\n",
       "  <thead>\n",
       "    <tr style=\"text-align: right;\">\n",
       "      <th></th>\n",
       "      <th>author_id</th>\n",
       "      <th>text</th>\n",
       "      <th>created_at</th>\n",
       "      <th>geo</th>\n",
       "      <th>retweets</th>\n",
       "      <th>replies</th>\n",
       "      <th>likes</th>\n",
       "      <th>quote_count</th>\n",
       "      <th>lang</th>\n",
       "      <th>conversation_id</th>\n",
       "      <th>...</th>\n",
       "      <th>author_group</th>\n",
       "      <th>search_grp</th>\n",
       "      <th>entities_parsed</th>\n",
       "      <th>urls</th>\n",
       "      <th>hashtags</th>\n",
       "      <th>anno_type</th>\n",
       "      <th>anno_text</th>\n",
       "      <th>mentions</th>\n",
       "      <th>tweet_type</th>\n",
       "      <th>code</th>\n",
       "    </tr>\n",
       "    <tr>\n",
       "      <th>tweetid</th>\n",
       "      <th></th>\n",
       "      <th></th>\n",
       "      <th></th>\n",
       "      <th></th>\n",
       "      <th></th>\n",
       "      <th></th>\n",
       "      <th></th>\n",
       "      <th></th>\n",
       "      <th></th>\n",
       "      <th></th>\n",
       "      <th></th>\n",
       "      <th></th>\n",
       "      <th></th>\n",
       "      <th></th>\n",
       "      <th></th>\n",
       "      <th></th>\n",
       "      <th></th>\n",
       "      <th></th>\n",
       "      <th></th>\n",
       "      <th></th>\n",
       "      <th></th>\n",
       "    </tr>\n",
       "  </thead>\n",
       "  <tbody>\n",
       "    <tr>\n",
       "      <th>1301656105626476546</th>\n",
       "      <td>1296874226100494338</td>\n",
       "      <td>I’m a teacher. If I mishandled one student, one time, I’d no longer have a job &amp;amp; no longer be able to work w kids. &amp;amp; Yet cops kill &amp;amp; abuse over &amp;amp; over again, while keeping their jobs, their privacy, &amp;amp; their pay. \\nIt amazes me that #defundthepolice is controversial or political</td>\n",
       "      <td>2020-09-03 22:59:33+00:00</td>\n",
       "      <td>NaN</td>\n",
       "      <td>0</td>\n",
       "      <td>0</td>\n",
       "      <td>0</td>\n",
       "      <td>0</td>\n",
       "      <td>en</td>\n",
       "      <td>1301656105626476546</td>\n",
       "      <td>...</td>\n",
       "      <td>unknown</td>\n",
       "      <td>other</td>\n",
       "      <td>{}</td>\n",
       "      <td>[]</td>\n",
       "      <td>[]</td>\n",
       "      <td>[]</td>\n",
       "      <td>[]</td>\n",
       "      <td>[]</td>\n",
       "      <td>novel</td>\n",
       "      <td>other</td>\n",
       "    </tr>\n",
       "    <tr>\n",
       "      <th>1312039409689255936</th>\n",
       "      <td>705983975957745664</td>\n",
       "      <td>‘It Feels Like an Invasion of Privacy’ ➡️ THAT'S BECAUSE IT IS. \\n\\nIf one's assessment materials (i.e., an exam) are easy enough to game that you can catch cheating by surveillance software, you're not educating in the first place.\\n\\nhttps://t.co/IYWN5qeFaO</td>\n",
       "      <td>2020-10-02 14:39:06+00:00</td>\n",
       "      <td>NaN</td>\n",
       "      <td>0</td>\n",
       "      <td>0</td>\n",
       "      <td>0</td>\n",
       "      <td>0</td>\n",
       "      <td>en</td>\n",
       "      <td>1312039409689255936</td>\n",
       "      <td>...</td>\n",
       "      <td>academic</td>\n",
       "      <td>other</td>\n",
       "      <td>{'urls': [{'start': 232, 'end': 255, 'url': 'https://t.co/IYWN5qeFaO', 'expanded_url': 'https://www.nytimes.com/2020/09/29/style/testing-schools-proctorio.html', 'display_url': 'nytimes.com/2020/09/29/sty…'}]}</td>\n",
       "      <td>[www.nytimes.com]</td>\n",
       "      <td>[]</td>\n",
       "      <td>[]</td>\n",
       "      <td>[]</td>\n",
       "      <td>[]</td>\n",
       "      <td>novel</td>\n",
       "      <td>privacy-generic</td>\n",
       "    </tr>\n",
       "  </tbody>\n",
       "</table>\n",
       "<p>2 rows × 34 columns</p>\n",
       "</div>"
      ],
      "text/plain": [
       "                               author_id  \\\n",
       "tweetid                                    \n",
       "1301656105626476546  1296874226100494338   \n",
       "1312039409689255936   705983975957745664   \n",
       "\n",
       "                                                                                                                                                                                                                                                                                                                           text  \\\n",
       "tweetid                                                                                                                                                                                                                                                                                                                           \n",
       "1301656105626476546  I’m a teacher. If I mishandled one student, one time, I’d no longer have a job &amp; no longer be able to work w kids. &amp; Yet cops kill &amp; abuse over &amp; over again, while keeping their jobs, their privacy, &amp; their pay. \\nIt amazes me that #defundthepolice is controversial or political   \n",
       "1312039409689255936                                         ‘It Feels Like an Invasion of Privacy’ ➡️ THAT'S BECAUSE IT IS. \\n\\nIf one's assessment materials (i.e., an exam) are easy enough to game that you can catch cheating by surveillance software, you're not educating in the first place.\\n\\nhttps://t.co/IYWN5qeFaO   \n",
       "\n",
       "                                   created_at  geo  retweets  replies  likes  \\\n",
       "tweetid                                                                        \n",
       "1301656105626476546 2020-09-03 22:59:33+00:00  NaN         0        0      0   \n",
       "1312039409689255936 2020-10-02 14:39:06+00:00  NaN         0        0      0   \n",
       "\n",
       "                     quote_count lang      conversation_id  ... author_group  \\\n",
       "tweetid                                                     ...                \n",
       "1301656105626476546            0   en  1301656105626476546  ...      unknown   \n",
       "1312039409689255936            0   en  1312039409689255936  ...     academic   \n",
       "\n",
       "                    search_grp  \\\n",
       "tweetid                          \n",
       "1301656105626476546      other   \n",
       "1312039409689255936      other   \n",
       "\n",
       "                                                                                                                                                                                                                       entities_parsed  \\\n",
       "tweetid                                                                                                                                                                                                                                  \n",
       "1301656105626476546                                                                                                                                                                                                                 {}   \n",
       "1312039409689255936  {'urls': [{'start': 232, 'end': 255, 'url': 'https://t.co/IYWN5qeFaO', 'expanded_url': 'https://www.nytimes.com/2020/09/29/style/testing-schools-proctorio.html', 'display_url': 'nytimes.com/2020/09/29/sty…'}]}   \n",
       "\n",
       "                                  urls hashtags anno_type anno_text mentions  \\\n",
       "tweetid                                                                        \n",
       "1301656105626476546                 []       []        []        []       []   \n",
       "1312039409689255936  [www.nytimes.com]       []        []        []       []   \n",
       "\n",
       "                    tweet_type             code  \n",
       "tweetid                                          \n",
       "1301656105626476546      novel            other  \n",
       "1312039409689255936      novel  privacy-generic  \n",
       "\n",
       "[2 rows x 34 columns]"
      ]
     },
     "execution_count": 30,
     "metadata": {},
     "output_type": "execute_result"
    }
   ],
   "source": [
    "labled_df = pd.read_pickle('all-sec-priv-labeled-tweets.pkl')\n",
    "print(labled_df.shape)\n",
    "labled_df.head(2)"
   ]
  },
  {
   "cell_type": "code",
   "execution_count": 31,
   "id": "5a9e893c-3a37-467c-9195-2547e54b79d5",
   "metadata": {},
   "outputs": [
    {
     "data": {
      "text/plain": [
       "code\n",
       "other-student-privacy    864\n",
       "privacy-specific         725\n",
       "other-privacy            574\n",
       "article                  494\n",
       "other                    424\n",
       "privacy-generic          406\n",
       "policy                   262\n",
       "privacy incident         190\n",
       "info_brand               131\n",
       "tech_brandi               86\n",
       "edtech-generic            76\n",
       "edtech-ques               45\n",
       "edtech ban                 4\n",
       "Name: text, dtype: int64"
      ]
     },
     "execution_count": 31,
     "metadata": {},
     "output_type": "execute_result"
    }
   ],
   "source": [
    "labled_df.groupby('code').text.count().sort_values(ascending=False)"
   ]
  },
  {
   "cell_type": "code",
   "execution_count": 144,
   "id": "df942f47-916e-469e-8585-f63cb44456f8",
   "metadata": {},
   "outputs": [
    {
     "data": {
      "text/plain": [
       "<matplotlib.legend.Legend at 0x1bf56f4f0>"
      ]
     },
     "execution_count": 144,
     "metadata": {},
     "output_type": "execute_result"
    },
    {
     "data": {
      "image/png": "[encoded data removed]",
      "text/plain": [
       "<Figure size 1152x576 with 1 Axes>"
      ]
     },
     "metadata": {
      "needs_background": "light"
     },
     "output_type": "display_data"
    }
   ],
   "source": [
    "for code in ['privacy-generic', 'privacy-specific', 'privacy incident', 'policy', 'other-student-privacy', 'other-privacy', 'article']:\n",
    "    labled_df[labled_df.code==code].reset_index().set_index('created_at').groupby(pd.Grouper(freq='3M')).text.count().plot(label=code, linewidth=3, figsize=(16,8))\n",
    "plt.legend()"
   ]
  },
  {
   "cell_type": "code",
   "execution_count": 32,
   "id": "b5b96c3f-66a0-4cf6-a26f-d18c9b0a9133",
   "metadata": {},
   "outputs": [
    {
     "data": {
      "text/plain": [
       "code                   author_group   \n",
       "article                personal           6\n",
       "                       techie             5\n",
       "edtech-ques            academic           5\n",
       "privacy incident       personal           5\n",
       "edtech-ques            business_brand     5\n",
       "other-student-privacy  techie             4\n",
       "tech_brandi            news               4\n",
       "                       academic           3\n",
       "                       techie             3\n",
       "edtech ban             academic_techie    2\n",
       "privacy incident       techie             2\n",
       "edtech-generic         personal           2\n",
       "edtech-ques            personal_brand     2\n",
       "info_brand             academic           2\n",
       "                       techie             2\n",
       "privacy-generic        techie             1\n",
       "policy                 techie             1\n",
       "edtech-ques            news               1\n",
       "                       personal           1\n",
       "info_brand             news               1\n",
       "Name: text, dtype: int64"
      ]
     },
     "execution_count": 32,
     "metadata": {},
     "output_type": "execute_result"
    }
   ],
   "source": [
    "labled_df[labled_df.author_group!='unknown'].groupby(['code', 'author_group']).text.count().sort_values(ascending=False).tail(20)"
   ]
  },
  {
   "cell_type": "code",
   "execution_count": 40,
   "id": "1f252066-6d41-41c1-8d3b-7fa161df4a47",
   "metadata": {},
   "outputs": [
    {
     "name": "stdout",
     "output_type": "stream",
     "text": [
      "\\begin{tabular}{llr}\n",
      "\\toprule\n",
      "                 &        &  text \\\\\n",
      "code & author\\_group &       \\\\\n",
      "\\midrule\n",
      "privacy-generic & academic &    33 \\\\\n",
      "                 & academic\\_techie &    86 \\\\\n",
      "                 & business\\_brand &    29 \\\\\n",
      "                 & news &     7 \\\\\n",
      "                 & personal &     6 \\\\\n",
      "                 & personal\\_brand &    25 \\\\\n",
      "                 & techie &     1 \\\\\n",
      "privacy-specific & academic &    80 \\\\\n",
      "                 & academic\\_techie &   125 \\\\\n",
      "                 & business\\_brand &    44 \\\\\n",
      "                 & news &    16 \\\\\n",
      "                 & personal &    13 \\\\\n",
      "                 & personal\\_brand &    34 \\\\\n",
      "                 & techie &    21 \\\\\n",
      "\\bottomrule\n",
      "\\end{tabular}\n",
      "\n"
     ]
    },
    {
     "name": "stderr",
     "output_type": "stream",
     "text": [
      "/var/folders/1p/0rwj4hf522b5v3bzw33bsdqw0000gn/T/ipykernel_86551/2715073796.py:2: FutureWarning: In future versions `DataFrame.to_latex` is expected to utilise the base implementation of `Styler.to_latex` for formatting and rendering. The arguments signature may therefore change. It is recommended instead to use `DataFrame.style.to_latex` which also contains additional functionality.\n",
      "  print(labled_df[(labled_df.author_group!='unknown') &((labled_df.code=='privacy-generic') | (labled_df.code=='privacy-specific'))].groupby(['code', 'author_group']).text.count().to_frame().to_latex())\n"
     ]
    }
   ],
   "source": [
    "'''who tweeted generic and specific privacy concerns'''\n",
    "print(labled_df[(labled_df.author_group!='unknown') &((labled_df.code=='privacy-generic') | (labled_df.code=='privacy-specific'))].groupby(['code', 'author_group']).text.count().to_frame().to_latex())"
   ]
  },
  {
   "cell_type": "code",
   "execution_count": 39,
   "id": "c07b91f7-24df-4a5b-8af2-35a6df641f14",
   "metadata": {},
   "outputs": [
    {
     "name": "stdout",
     "output_type": "stream",
     "text": [
      "privacy-generic,academic:  username, privacy, student, edtech, surveillance, datum, law, time, platform, issue\n",
      "privacy-generic,academic_techie:  username, privacy, student, edtech, datum, school, surveillance, issue, app, teacher\n",
      "privacy-generic,business_brand:  privacy, username, student, datum, school, edtech, byod, surveillance, onlinesafety, security\n",
      "privacy-generic,personal_brand:  privacy, username, student, datum, edtech, eddata, teacher, concern, school, issue\n",
      "privacy-generic,personal:  username, student, expectation, accountability, understand, secure, threaten, pjnet, keepyourpromise, intrusive\n",
      "privacy-generic,news:  student, mooc, loss, major, drawback, blow, surveillance, username, people, rep\n",
      "\n",
      "privacy-specific,academic:  username, student, privacy, issue, datum, surveillance, concern, school, violation, teacher\n",
      "privacy-specific,academic_techie:  username, privacy, student, edtech, school, issue, security, google, surveillance, app\n",
      "privacy-specific,business_brand:  privacy, username, student, school, facebook, issue, security, concern, kid, reliance\n",
      "privacy-specific,personal_brand:  username, privacy, student, edtech, datum, surveillance, breach, security, school, issue\n",
      "privacy-specific,personal:  username, student, violate, edtech, zoom, time, assumption, guilt, right, danger\n",
      "privacy-specific,news:  student, privacy, surveillance, issue, online, username, exam, unfair, global, spark\n",
      "privacy-specific,techie:  username, security, privacy, exam, student, delete, business, fail, information, account\n",
      "\n"
     ]
    },
    {
     "name": "stderr",
     "output_type": "stream",
     "text": [
      "/Users/admin/work/edtech-scrape/edenv/lib/python3.9/site-packages/sklearn/utils/deprecation.py:87: FutureWarning: Function get_feature_names is deprecated; get_feature_names is deprecated in 1.0 and will be removed in 1.2. Please use get_feature_names_out instead.\n",
      "  warnings.warn(msg, category=FutureWarning)\n"
     ]
    }
   ],
   "source": [
    "d=dict()\n",
    "common=set()\n",
    "for t in ['privacy-generic', 'privacy-specific']:\n",
    "    for a in ['academic', 'academic_techie', 'business_brand', 'personal_brand', 'personal','news','techie']:\n",
    "        text = labled_df[(labled_df.author_group==a) & (labled_df.code==t)].text_clean_topic.values\n",
    "        if len(text) > 1:\n",
    "            tfidf = get_tfidf_top_features(text, n_top=10, max_df=.8, min_df=1)\n",
    "            print('{}:  {}'.format(t+','+a, ', '.join(tfidf)))\n",
    "    print()\n",
    "            # d[t+','+a]= tfidf\n",
    "            # if len(common)==0:\n",
    "            #     common.update(set(tfidf))\n",
    "            # else:\n",
    "            #     common=common.intersection(tfidf)\n",
    "# for k in d.keys():\n",
    "#     print('{}:  {}'.format(k, ', '.join(d[k])))\n",
    "    #print('\\t\\t{}'.format(set(d[k]).difference(common)))\n",
    "    "
   ]
  },
  {
   "cell_type": "markdown",
   "id": "f546265e-7148-4406-af8c-ed837bc95cd1",
   "metadata": {},
   "source": [
    "### Visibility"
   ]
  },
  {
   "cell_type": "code",
   "execution_count": 43,
   "id": "08c4cc61-a31b-41c4-86e1-96f00740337c",
   "metadata": {},
   "outputs": [
    {
     "name": "stdout",
     "output_type": "stream",
     "text": [
      "unique authors:  3577\n"
     ]
    },
    {
     "data": {
      "text/plain": [
       "count    3577.000000\n",
       "mean        1.299413\n",
       "std         2.248435\n",
       "min         1.000000\n",
       "25%         1.000000\n",
       "50%         1.000000\n",
       "75%         1.000000\n",
       "max        76.000000\n",
       "Name: text, dtype: float64"
      ]
     },
     "execution_count": 43,
     "metadata": {},
     "output_type": "execute_result"
    }
   ],
   "source": [
    "'''Were a few people overly representitive?'''\n",
    "print('unique authors: ', len(labled_df.author_id.unique()))\n",
    "labled_df.groupby(['author_id']).text.count().describe()#sort_values(ascending=False).head(10)"
   ]
  },
  {
   "cell_type": "code",
   "execution_count": 53,
   "id": "0f6a1461-971c-4878-aa1a-aa4d344018e3",
   "metadata": {},
   "outputs": [
    {
     "data": {
      "text/plain": [
       "author_id\n",
       "36991951              76\n",
       "118530377             59\n",
       "19895837              45\n",
       "224059040             37\n",
       "2968343710            33\n",
       "216928966             24\n",
       "2299828074            23\n",
       "90749008              22\n",
       "15694680              17\n",
       "182539117             17\n",
       "2533386684            16\n",
       "768098863395827712    15\n",
       "6505892               15\n",
       "739293                11\n",
       "3959010562            11\n",
       "7044082               11\n",
       "26744205              11\n",
       "16946286              11\n",
       "32866389              11\n",
       "2586135432            10\n",
       "4256298574            10\n",
       "15740610              10\n",
       "Name: text, dtype: int64"
      ]
     },
     "execution_count": 53,
     "metadata": {},
     "output_type": "execute_result"
    }
   ],
   "source": [
    "labled_df.groupby(['author_id']).text.count().sort_values(ascending=False).head(22)"
   ]
  },
  {
   "cell_type": "code",
   "execution_count": 40,
   "id": "9b813657-126a-4d22-9fd4-0fd45d4bdf44",
   "metadata": {},
   "outputs": [
    {
     "data": {
      "image/png": "[encoded data removed]",
      "text/plain": [
       "<Figure size 1152x576 with 1 Axes>"
      ]
     },
     "metadata": {
      "needs_background": "light"
     },
     "output_type": "display_data"
    }
   ],
   "source": [
    "'''Retweets and likes on tweets expressing generic and specific concerns'''\n",
    "plt.figure(figsize=(16, 8))\n",
    "markers={'privacy-generic':'D', 'privacy-specific': 'o', 'privacy incident':'*'}\n",
    "g=labled_df[labled_df.code==code].reset_index().set_index('created_at').groupby(pd.Grouper(freq='6M'))\n",
    "for code in ['privacy-generic', 'privacy-specific', 'privacy incident']:\n",
    "    g = labled_df[labled_df.code==code].reset_index().set_index('created_at').groupby(pd.Grouper(freq='3M'))#.text.count().plot(label=code, marker=\"o\", markersize=15, linestyle='none')\n",
    "\n",
    "    gdf = g.text.agg(['count'])\n",
    "    gdf['retweets'] = g.retweets.mean()\n",
    "    gdf['likes'] = g.likes.mean()\n",
    "    gdf.reset_index(inplace=True)\n",
    "    sns.scatterplot(\n",
    "        data=gdf, x='created_at', y='count',  size=\"retweets\", label=code, marker='o',#markers[code],\n",
    "        sizes=(30, 300), hue_norm=(0, 7)#, legend=\"full\"\n",
    "    )\n",
    "\n",
    "plt.legend(title=\"\", title_fontsize=12, fontsize=11, fancybox=True)\n",
    "plt.show()"
   ]
  },
  {
   "cell_type": "code",
   "execution_count": 108,
   "id": "5dd424f0-02ef-497e-93a8-7579d3d2c641",
   "metadata": {},
   "outputs": [
    {
     "data": {
      "text/plain": [
       "code\n",
       "edtech ban               232.750000\n",
       "privacy-specific           3.914483\n",
       "privacy-generic            1.820197\n",
       "other-student-privacy      1.500000\n",
       "other-privacy              1.465157\n",
       "article                    1.338057\n",
       "info_brand                 1.244275\n",
       "other                      0.981132\n",
       "privacy incident           0.978947\n",
       "policy                     0.977099\n",
       "tech_brandi                0.860465\n",
       "edtech-generic             0.578947\n",
       "edtech-ques                0.400000\n",
       "Name: retweets, dtype: float64"
      ]
     },
     "execution_count": 108,
     "metadata": {},
     "output_type": "execute_result"
    }
   ],
   "source": [
    "labled_df.groupby('code').retweets.mean().sort_values(ascending=False)"
   ]
  },
  {
   "cell_type": "code",
   "execution_count": 102,
   "id": "b523c6f2-80d2-4b24-9893-09d492a0a145",
   "metadata": {},
   "outputs": [
    {
     "data": {
      "text/html": [
       "<div>\n",
       "<style scoped>\n",
       "    .dataframe tbody tr th:only-of-type {\n",
       "        vertical-align: middle;\n",
       "    }\n",
       "\n",
       "    .dataframe tbody tr th {\n",
       "        vertical-align: top;\n",
       "    }\n",
       "\n",
       "    .dataframe thead th {\n",
       "        text-align: right;\n",
       "    }\n",
       "</style>\n",
       "<table border=\"1\" class=\"dataframe\">\n",
       "  <thead>\n",
       "    <tr style=\"text-align: right;\">\n",
       "      <th></th>\n",
       "      <th>text</th>\n",
       "      <th>retweets</th>\n",
       "      <th>likes</th>\n",
       "    </tr>\n",
       "    <tr>\n",
       "      <th>tweetid</th>\n",
       "      <th></th>\n",
       "      <th></th>\n",
       "      <th></th>\n",
       "    </tr>\n",
       "  </thead>\n",
       "  <tbody>\n",
       "    <tr>\n",
       "      <th>1363966363602051074</th>\n",
       "      <td>So I've been stuck on the camera policy for my Zoom classes. I totally get the worries about student privacy and invasiveness. But I also know that my teaching gets radically worse when I'm facing mostly all black squares. So this time, I tried complete honesty.\\n\\nReport-thread:</td>\n",
       "      <td>930</td>\n",
       "      <td>4782</td>\n",
       "    </tr>\n",
       "    <tr>\n",
       "      <th>1207861674264412160</th>\n",
       "      <td>@33heupel Depending on what you can use in regards to Ss data privacy @Flipgrid could be a great tool here. #ditchbook</td>\n",
       "      <td>0</td>\n",
       "      <td>4</td>\n",
       "    </tr>\n",
       "    <tr>\n",
       "      <th>1249694208471863297</th>\n",
       "      <td>@Garreth_Wigg @GoogleForEdu @MicrosoftEDU @AppleEDU yes they do have the same problem, a lot of these systems and services are restricted in our public schools. In the private sector however it is not so restrictive. new data privacy laws have had wide sweeping implications on how we obtain perm...</td>\n",
       "      <td>0</td>\n",
       "      <td>0</td>\n",
       "    </tr>\n",
       "    <tr>\n",
       "      <th>1357788885015789570</th>\n",
       "      <td>So sad (and a bit surprised) that we are not able to suggest that our teachers use @Flipgrid anymore, since they won't sign our state student data privacy agreement. We love Flipgrid!💚</td>\n",
       "      <td>1</td>\n",
       "      <td>4</td>\n",
       "    </tr>\n",
       "  </tbody>\n",
       "</table>\n",
       "</div>"
      ],
      "text/plain": [
       "                                                                                                                                                                                                                                                                                                                            text  \\\n",
       "tweetid                                                                                                                                                                                                                                                                                                                            \n",
       "1363966363602051074                     So I've been stuck on the camera policy for my Zoom classes. I totally get the worries about student privacy and invasiveness. But I also know that my teaching gets radically worse when I'm facing mostly all black squares. So this time, I tried complete honesty.\\n\\nReport-thread:   \n",
       "1207861674264412160                                                                                                                                                                                       @33heupel Depending on what you can use in regards to Ss data privacy @Flipgrid could be a great tool here. #ditchbook   \n",
       "1249694208471863297  @Garreth_Wigg @GoogleForEdu @MicrosoftEDU @AppleEDU yes they do have the same problem, a lot of these systems and services are restricted in our public schools. In the private sector however it is not so restrictive. new data privacy laws have had wide sweeping implications on how we obtain perm...   \n",
       "1357788885015789570                                                                                                                     So sad (and a bit surprised) that we are not able to suggest that our teachers use @Flipgrid anymore, since they won't sign our state student data privacy agreement. We love Flipgrid!💚   \n",
       "\n",
       "                     retweets  likes  \n",
       "tweetid                               \n",
       "1363966363602051074       930   4782  \n",
       "1207861674264412160         0      4  \n",
       "1249694208471863297         0      0  \n",
       "1357788885015789570         1      4  "
      ]
     },
     "execution_count": 102,
     "metadata": {},
     "output_type": "execute_result"
    }
   ],
   "source": [
    "labled_df[labled_df.code=='edtech ban'][['text', 'retweets', 'likes']]"
   ]
  },
  {
   "cell_type": "code",
   "execution_count": 103,
   "id": "54e42e5e-1d57-4445-be67-cc38f744da99",
   "metadata": {},
   "outputs": [
    {
     "data": {
      "text/plain": [
       "code\n",
       "edtech ban               1197.500000\n",
       "privacy-specific            9.673103\n",
       "privacy-generic             5.529557\n",
       "other-student-privacy       5.171296\n",
       "other                       4.577830\n",
       "other-privacy               3.869338\n",
       "edtech-generic              2.157895\n",
       "policy                      1.801527\n",
       "privacy incident            1.710526\n",
       "info_brand                  1.618321\n",
       "article                     1.566802\n",
       "tech_brandi                 1.244186\n",
       "edtech-ques                 1.222222\n",
       "Name: likes, dtype: float64"
      ]
     },
     "execution_count": 103,
     "metadata": {},
     "output_type": "execute_result"
    }
   ],
   "source": [
    "labled_df.groupby('code').likes.mean().sort_values(ascending=False)"
   ]
  },
  {
   "cell_type": "code",
   "execution_count": 102,
   "id": "8c44aa81-130b-46b4-a245-0604b43fc6c4",
   "metadata": {},
   "outputs": [
    {
     "data": {
      "text/plain": [
       "author_id\n",
       "36991951      76\n",
       "118530377     59\n",
       "19895837      45\n",
       "224059040     37\n",
       "2968343710    33\n",
       "216928966     24\n",
       "2299828074    23\n",
       "90749008      22\n",
       "15694680      17\n",
       "182539117     17\n",
       "Name: text, dtype: int64"
      ]
     },
     "execution_count": 102,
     "metadata": {},
     "output_type": "execute_result"
    }
   ],
   "source": [
    "labled_df.groupby('author_id').text.count().sort_values(ascending=False).head(10)"
   ]
  },
  {
   "cell_type": "markdown",
   "id": "458bd930-6a1b-45ef-b968-d664ac1e3d2a",
   "metadata": {},
   "source": [
    "### Keywords in each group"
   ]
  },
  {
   "cell_type": "code",
   "execution_count": 43,
   "id": "1fee3c12-2945-4147-8245-1ec779f0edda",
   "metadata": {},
   "outputs": [
    {
     "data": {
      "text/plain": [
       "array(['username', 'privacy', 'student', 'edtech', 'datum',\n",
       "       'surveillance', 'school', 'issue', 'eddata', 'teacher', 'concern',\n",
       "       'app', 'kid', 'security', 'parent', 'education', 'bad', 'protect',\n",
       "       'child', 'online', 'tool', 'company', 'time', 'learn',\n",
       "       'information'], dtype='<U17')"
      ]
     },
     "execution_count": 43,
     "metadata": {},
     "output_type": "execute_result"
    }
   ],
   "source": []
  },
  {
   "cell_type": "code",
   "execution_count": 44,
   "id": "550b381e-7702-4de7-889e-b293f7a190ae",
   "metadata": {},
   "outputs": [
    {
     "data": {
      "text/plain": [
       "array(['username', 'privacy', 'student', 'school', 'surveillance',\n",
       "       'edtech', 'security', 'datum', 'issue', 'software', 'invasion',\n",
       "       'app', 'violation', 'google', 'concern', 'exam', 'policy', 'kid',\n",
       "       'zoom', 'teacher', 'bad', 'online', 'violate', 'proctorio', 'feel'],\n",
       "      dtype='<U20')"
      ]
     },
     "execution_count": 44,
     "metadata": {},
     "output_type": "execute_result"
    }
   ],
   "source": []
  },
  {
   "cell_type": "markdown",
   "id": "db366772-0dec-4253-978f-decf0e4290f6",
   "metadata": {},
   "source": [
    "### Entities in each group"
   ]
  },
  {
   "cell_type": "code",
   "execution_count": 187,
   "id": "14074f4e-43d8-40d6-b6cb-b0119b6b9d4a",
   "metadata": {},
   "outputs": [
    {
     "name": "stdout",
     "output_type": "stream",
     "text": [
      "unique mentions: 129\n",
      "[('goguardian', 8), ('chegg', 7), ('examsoft', 6), ('edpuzzle', 5), ('pearsonvue', 4), ('linkletter', 3), ('googleforedu', 3), ('coursehero', 3), ('chegghelp', 3), ('classdojo', 2)]\n",
      "unique mentions: 32\n",
      "[('zdnet', 1), ('danielharvey9', 1), ('kmp39', 1), ('jeremycyoung', 1), ('edmodo', 1), ('mikemcsharry', 1), ('eileenbelastock', 1), ('edtechdigest', 1), ('douglevin', 1), ('managedmethods', 1)]\n"
     ]
    }
   ],
   "source": [
    "'''what edtech providers were mentioned most in privacy groups'''\n",
    "def common_mentions(kw):\n",
    "    mentions = labled_df[labled_df.code==kw].mentions\n",
    "    mentions = list(itertools.chain.from_iterable(mentions))\n",
    "    mentions = [m.lower() for m in mentions]\n",
    "    print(\"unique mentions:\", len(set(mentions)))\n",
    "    mentions = Counter(mentions)\n",
    "    print(mentions.most_common(10))\n",
    "common_mentions('privacy-specific')\n",
    "common_mentions('privacy-generic')"
   ]
  },
  {
   "cell_type": "code",
   "execution_count": 175,
   "id": "675bc96c-aff1-4786-8fe5-9c40cc655c3d",
   "metadata": {},
   "outputs": [
    {
     "data": {
      "text/plain": [
       "tweetid\n",
       "1339974630698856448    []\n",
       "199919127895351296     []\n",
       "540992121952423936     []\n",
       "672312661560848384     []\n",
       "561143099498721280     []\n",
       "                       ..\n",
       "183562595104600066     []\n",
       "200969939442610177     []\n",
       "342299881228099584     []\n",
       "605423600452124674     []\n",
       "512007017008218112     []\n",
       "Name: urls, Length: 494, dtype: object"
      ]
     },
     "execution_count": 175,
     "metadata": {},
     "output_type": "execute_result"
    }
   ],
   "source": [
    "'''what urls/domains are used for article group'''\n",
    "urls = labled_df[labled_df.code=='article'].urls\n",
    "urls"
   ]
  },
  {
   "cell_type": "code",
   "execution_count": 195,
   "id": "f6a2b516-d351-403c-98b4-c9a2b1a1521e",
   "metadata": {},
   "outputs": [
    {
     "data": {
      "text/plain": [
       "tweetid\n",
       "1301656105626476546    negative\n",
       "1312039409689255936    negative\n",
       "570992748725194752     negative\n",
       "1006594055432802305    negative\n",
       "1352870101775654913    negative\n",
       "                         ...   \n",
       "245581393768366080     positive\n",
       "245338142209605632      neutral\n",
       "245238058423828480      neutral\n",
       "245212511979319296      neutral\n",
       "1024331454820446209     neutral\n",
       "Name: senti, Length: 4648, dtype: object"
      ]
     },
     "execution_count": 195,
     "metadata": {},
     "output_type": "execute_result"
    }
   ],
   "source": [
    "labled_df.senti"
   ]
  },
  {
   "cell_type": "code",
   "execution_count": 49,
   "id": "bf0ae1cc-a278-424c-9834-8f661e072dbd",
   "metadata": {},
   "outputs": [
    {
     "data": {
      "text/plain": [
       "56"
      ]
     },
     "execution_count": 49,
     "metadata": {},
     "output_type": "execute_result"
    }
   ],
   "source": [
    "x='@Schoology, @Schoolytics, @GoogleForEdu, @moodle, @MyPowerSchool, @CanvasLMS, @Educ_Technology, @EdTech_K12, @MerlynMind, @edXOnline, @DigitalPromise, @LearningAtScale, @edtechdigest, @edmodo, @ClassDojo, @Newsela, @quizizz, @blackboard, @edpuzzle, @PearDeck, @Flipgrid, @BookCreatorApp, @mergeedu, @BookCreatorApp, @Seesaw, @TeachFX, @udacity, @coursera, @udemy, @edXOnline, @MicrosoftEDU, @proctorio, @examity, @ProctortrackPro, @speedexam, @in_examonline, @MercerMettl, @Examus1, @ProctorU, @Verificient, @AIProctor, @ExamSoft, @conductexam, @ProctorExam, @PSIServicesLLC, @pearsonvue, @merittracsvc, @Civitaslearning, @DreamBox_Learn, @GoGuardian, @GuildEducation, @Instructure, @Chegg, @CreativeLive, @CourseHero, @Masterclass'\n",
    "len(x.split(','))"
   ]
  },
  {
   "cell_type": "code",
   "execution_count": null,
   "id": "ae28ceec-e54b-44d1-9a7f-f785f9af5a05",
   "metadata": {},
   "outputs": [],
   "source": []
  }
 ],
 "metadata": {
  "kernelspec": {
   "display_name": "Python 3 (ipykernel)",
   "language": "python",
   "name": "python3"
  },
  "language_info": {
   "codemirror_mode": {
    "name": "ipython",
    "version": 3
   },
   "file_extension": ".py",
   "mimetype": "text/x-python",
   "name": "python",
   "nbconvert_exporter": "python",
   "pygments_lexer": "ipython3",
   "version": "3.9.10"
  }
 },
 "nbformat": 4,
 "nbformat_minor": 5
}
