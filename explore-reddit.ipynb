{
 "cells": [
  {
   "cell_type": "code",
   "execution_count": 85,
   "id": "cff32eeb-926b-4d0f-b0d0-67636deb0bae",
   "metadata": {},
   "outputs": [
    {
     "name": "stdout",
     "output_type": "stream",
     "text": [
      "The autoreload extension is already loaded. To reload it, use:\n",
      "  %reload_ext autoreload\n"
     ]
    },
    {
     "name": "stderr",
     "output_type": "stream",
     "text": [
      "Warning : `load_model` does not return WordVectorModel or SupervisedModel any more, but a `FastText` object which is very similar.\n"
     ]
    }
   ],
   "source": [
    "%load_ext autoreload\n",
    "%autoreload 2\n",
    "import pandas as pd\n",
    "from matplotlib import pyplot as plt\n",
    "import json\n",
    "pd.options.display.max_colwidth = 300\n",
    "import config\n",
    "data_root= config.DATA_ROOT\n",
    "from tqdm import tqdm\n",
    "tqdm.pandas()\n",
    "from sklearn.feature_extraction.text import TfidfVectorizer\n",
    "import numpy as np, os, sys\n",
    "sys.path.append('helpers/')\n",
    "from text_processing import preprocess_text\n",
    "pd.options.display.max_colwidth=5000"
   ]
  },
  {
   "cell_type": "code",
   "execution_count": 99,
   "id": "3e08d4bc-7bc5-4509-bf27-36dd7da72a9d",
   "metadata": {},
   "outputs": [],
   "source": [
    "remove_cols=['Unnamed: 0', 'all_awardings', 'allow_live_comments', \n",
    "       'author_flair_css_class', 'author_flair_richtext', 'author_flair_text',\n",
    "       'author_flair_type', 'author_fullname', 'author_patreon_flair',\n",
    "       'author_premium',  'can_mod_post', 'contest_mode',\n",
    "        'domain', 'full_link', 'gildings', \n",
    "       'is_crosspostable', 'is_meta', 'wls','removed_by_category', 'distinguished',\n",
    "       'is_reddit_media_domain', 'is_robot_indexable', 'is_self', 'is_video',\n",
    "       'link_flair_background_color', 'link_flair_richtext','link_flair_template_id',\n",
    "       'link_flair_text_color', 'link_flair_type', 'locked', 'media',\n",
    "       'media_embed', 'media_only', 'parent_whitelist_status',\n",
    "        'over_18', 'pinned', 'post_hint',\n",
    "       'preview', 'retrieved_on', 'secure_media',\n",
    "       'secure_media_embed', 'send_replies', 'spoiler', 'stickied',\n",
    "        'subreddit_subscribers', 'subreddit_type',\n",
    "       'thumbnail', 'thumbnail_height', 'thumbnail_width', \n",
    "        'treatment_tags',  'url','hidden', 'quarantine', 'subreddit_name_prefixed',\n",
    "       'suggested_sort','og_description', 'og_title', 'brand_safe', 'rte_mode','previous_visits','can_gild','category','content_categories','hidden','quarantine','subreddit_name_prefixed','suggested_sort','approved_at_utc',#'view_count',\n",
    "       'url_overridden_by_dest', 'author_is_blocked', 'is_created_from_ads_ui',\n",
    "       'author_flair_background_color', 'author_flair_template_id',\n",
    "       'author_flair_text_color', 'poll_data', 'gallery_data', 'is_gallery', 'banned_at_utc',\n",
    "       'media_metadata', 'edited','no_follow', 'pwls', 'awarders', 'whitelist_status', 'banned_by','crosspost_parent_list','crosspost_parent', 'updated_utc','author_cakeday', 'gilded','updated_utc','steward_reports', 'removed_by', 'archived','link_flair_css_class','removal_reason',\n",
    "]\n",
    "remove_cols2=['Unnamed: 0',  \n",
    "        'author_flair_background_color', 'author_flair_css_class',\n",
    "       'author_flair_richtext', 'author_flair_template_id',\n",
    "        'author_flair_text_color', 'author_flair_type',\n",
    "        'author_patreon_flair', 'author_premium', \n",
    "       'banned_at_utc',  'can_mod_post', 'collapsed',\n",
    "       'collapsed_because_crowd_control', 'collapsed_reason',\n",
    "         'edited', 'gildings',\n",
    "       'is_submitter', 'link_id', 'locked', \n",
    "       'permalink', 'retrieved_on',  'send_replies', 'stickied', 'top_awarded_type',\n",
    "       'total_awards_received', 'treatment_tags']"
   ]
  },
  {
   "cell_type": "markdown",
   "id": "e320495b-3672-4ac5-aeaa-682a20e70e7d",
   "metadata": {},
   "source": [
    "## Load posts on subreddits"
   ]
  },
  {
   "cell_type": "code",
   "execution_count": 100,
   "id": "6a69bc4c-e8b5-473a-9290-8d3d7a069469",
   "metadata": {},
   "outputs": [
    {
     "name": "stderr",
     "output_type": "stream",
     "text": [
      "/var/folders/1p/0rwj4hf522b5v3bzw33bsdqw0000gn/T/ipykernel_23900/862881688.py:3: DtypeWarning: Columns (1,2,5,7,9,10,11,12,17,19,20,21,22,23,24,26,28,29,30,31,32,33,37,39,43,47,49,53,59,62,63,66,72,73,74,75,76,77,78,79,80,81,86,89,91,93,99,100) have mixed types. Specify dtype option on import or set low_memory=False.\n",
      "  df = pd.read_csv(data_root+'/reddit-posts/{}.csv'.format(n), sep=',', encoding='utf-8')\n"
     ]
    },
    {
     "name": "stdout",
     "output_type": "stream",
     "text": [
      "student 8906\n"
     ]
    },
    {
     "name": "stderr",
     "output_type": "stream",
     "text": [
      "/var/folders/1p/0rwj4hf522b5v3bzw33bsdqw0000gn/T/ipykernel_23900/862881688.py:3: DtypeWarning: Columns (1,2,5,6,7,9,10,11,12,13,17,19,20,21,22,23,25,26,27,28,29,30,31,32,36,38,42,46,47,52,56,59,61,62,63,64,67,68,69,70,73,74,75,79,80,81,82,84,85,86,87,88,89,90,92,95,96,97,99,101,102) have mixed types. Specify dtype option on import or set low_memory=False.\n",
      "  df = pd.read_csv(data_root+'/reddit-posts/{}.csv'.format(n), sep=',', encoding='utf-8')\n"
     ]
    },
    {
     "name": "stdout",
     "output_type": "stream",
     "text": [
      "education 334581\n"
     ]
    },
    {
     "name": "stderr",
     "output_type": "stream",
     "text": [
      "/var/folders/1p/0rwj4hf522b5v3bzw33bsdqw0000gn/T/ipykernel_23900/862881688.py:3: DtypeWarning: Columns (1,2,5,7,9,10,11,12,13,18,20,21,22,23,24,26,27,28,29,30,31,32,33,34,35,39,41,46,47,52,56,59,61,62,63,64,65,66,67,68,69,70,71,72,73,76,78,79,80,81,82,83,84,85,87,88,89,90,91,92,93,94,96,99,100,101,103,105) have mixed types. Specify dtype option on import or set low_memory=False.\n",
      "  df = pd.read_csv(data_root+'/reddit-posts/{}.csv'.format(n), sep=',', encoding='utf-8')\n"
     ]
    },
    {
     "name": "stdout",
     "output_type": "stream",
     "text": [
      "teachers 165573\n"
     ]
    },
    {
     "name": "stderr",
     "output_type": "stream",
     "text": [
      "/var/folders/1p/0rwj4hf522b5v3bzw33bsdqw0000gn/T/ipykernel_23900/862881688.py:3: DtypeWarning: Columns (2,12,19,24,26,27,29,32,34,35,39,40,51,87,88,89,90,91,92,93,94,95,97,100,102,104) have mixed types. Specify dtype option on import or set low_memory=False.\n",
      "  df = pd.read_csv(data_root+'/reddit-posts/{}.csv'.format(n), sep=',', encoding='utf-8')\n"
     ]
    },
    {
     "name": "stdout",
     "output_type": "stream",
     "text": [
      "professors 23666\n"
     ]
    },
    {
     "name": "stderr",
     "output_type": "stream",
     "text": [
      "/var/folders/1p/0rwj4hf522b5v3bzw33bsdqw0000gn/T/ipykernel_23900/862881688.py:3: DtypeWarning: Columns (14,15,21,22,23,24,25,27,32,33,34,40,45,46,52,65,66,69,70,79,80,81,87,90,91,92,93) have mixed types. Specify dtype option on import or set low_memory=False.\n",
      "  df = pd.read_csv(data_root+'/reddit-posts/{}.csv'.format(n), sep=',', encoding='utf-8')\n"
     ]
    },
    {
     "name": "stdout",
     "output_type": "stream",
     "text": [
      "k12sysadmin 12659\n",
      "higheredsysadmin 97\n",
      "edtechhelp 20\n"
     ]
    },
    {
     "data": {
      "text/plain": [
       "(545502, 20)"
      ]
     },
     "execution_count": 100,
     "metadata": {},
     "output_type": "execute_result"
    }
   ],
   "source": [
    "dfs = []\n",
    "for n in ['student', 'education', 'teachers', 'professors', 'k12sysadmin', 'higheredsysadmin', 'edtechhelp']:\n",
    "    df = pd.read_csv(data_root+'/reddit-posts/{}.csv'.format(n), sep=',', encoding='utf-8')\n",
    "    dfs.append(df)\n",
    "    print(n, len(df))\n",
    "df = pd.concat(dfs)\n",
    "df.drop(axis=1, columns=remove_cols, inplace=True)\n",
    "\n",
    "df.shape"
   ]
  },
  {
   "cell_type": "code",
   "execution_count": 101,
   "id": "984a5df3-a601-4d92-bc74-4da17a1225cb",
   "metadata": {},
   "outputs": [],
   "source": [
    "df['created_utc'] = pd.to_datetime(df.created_utc, unit='s')\n",
    "df['author_created_utc']=pd.to_datetime(df.author_created_utc, unit='s')"
   ]
  },
  {
   "cell_type": "code",
   "execution_count": 14,
   "id": "d631b75d-808f-48c7-afed-9ecf67490a69",
   "metadata": {},
   "outputs": [
    {
     "data": {
      "text/plain": [
       "['privacy',\n",
       " ' security',\n",
       " ' surveillance',\n",
       " ' surveil',\n",
       " ' dataveillance',\n",
       " ' infosec',\n",
       " ' abuse',\n",
       " ' misuse']"
      ]
     },
     "execution_count": 14,
     "metadata": {},
     "output_type": "execute_result"
    }
   ],
   "source": [
    "def contains_keyword(text, keywords):\n",
    "    if not isinstance(text, str):\n",
    "        return False\n",
    "    text =text.lower()\n",
    "    for kw in keywords:\n",
    "        if kw.lower() in text:\n",
    "            return True\n",
    "    return False\n",
    "reddit_ed_kws = [line.split(',') for line in open('reddit-ed-kw.txt')][0]\n",
    "reddit_priv_kws = [line.split(',') for line in open('reddit-priv-kw.txt')][0]\n",
    "reddit_priv_kws"
   ]
  },
  {
   "cell_type": "code",
   "execution_count": 102,
   "id": "e97ee10e-e98c-4ad3-b8c7-d18c586dc733",
   "metadata": {},
   "outputs": [
    {
     "name": "stderr",
     "output_type": "stream",
     "text": [
      "100%|██████████████████████████████████████████████████████████████████████████████████████████████████████████████| 545502/545502 [00:41<00:00, 13271.57it/s]\n"
     ]
    },
    {
     "data": {
      "text/plain": [
       "(7713, 20)"
      ]
     },
     "execution_count": 102,
     "metadata": {},
     "output_type": "execute_result"
    }
   ],
   "source": [
    "ed_df=df[df.progress_apply(lambda row: contains_keyword(row.title, reddit_ed_kws) or \\\n",
    "                        contains_keyword(row.selftext, reddit_ed_kws), axis=1)]\n",
    "\n",
    "ed_df.shape"
   ]
  },
  {
   "cell_type": "code",
   "execution_count": 103,
   "id": "b4a0f861-edad-4ee1-b4a6-29e487c5f9b7",
   "metadata": {},
   "outputs": [
    {
     "name": "stderr",
     "output_type": "stream",
     "text": [
      "100%|██████████████████████████████████████████████████████████████████████████████████████████████████████████████████| 7713/7713 [00:00<00:00, 22387.54it/s]\n"
     ]
    },
    {
     "data": {
      "text/plain": [
       "(189, 20)"
      ]
     },
     "execution_count": 103,
     "metadata": {},
     "output_type": "execute_result"
    }
   ],
   "source": [
    "priv_df=ed_df[ed_df.progress_apply(lambda row: contains_keyword(row.title, reddit_priv_kws) or \\\n",
    "                        contains_keyword(row.selftext, reddit_priv_kws), axis=1)]\n",
    "priv_df.set_index('id', inplace=True)\n",
    "priv_df.shape"
   ]
  },
  {
   "cell_type": "code",
   "execution_count": 104,
   "id": "728d4294-171c-4048-a262-330b8381dfb2",
   "metadata": {},
   "outputs": [
    {
     "data": {
      "text/plain": [
       "Index(['author', 'created_utc', 'id', 'is_original_content', 'num_comments',\n",
       "       'num_crossposts', 'permalink', 'score', 'selftext', 'subreddit',\n",
       "       'subreddit_id', 'title', 'total_awards_received', 'upvote_ratio',\n",
       "       'link_flair_text', 'author_id', 'author_created_utc', 'view_count',\n",
       "       'mod_reports', 'user_reports'],\n",
       "      dtype='object')"
      ]
     },
     "execution_count": 104,
     "metadata": {},
     "output_type": "execute_result"
    }
   ],
   "source": [
    "priv_df.columns"
   ]
  },
  {
   "cell_type": "code",
   "execution_count": 105,
   "id": "d492af36-5f11-4c72-810a-2bbfef545961",
   "metadata": {},
   "outputs": [
    {
     "name": "stderr",
     "output_type": "stream",
     "text": [
      "100%|██████████████████████████████████████████████████████████████████████████████████████████████████████████████| 545502/545502 [00:17<00:00, 31454.57it/s]\n"
     ]
    },
    {
     "data": {
      "text/plain": [
       "(3792, 20)"
      ]
     },
     "execution_count": 105,
     "metadata": {},
     "output_type": "execute_result"
    }
   ],
   "source": [
    "priv_df2=df[df.progress_apply(lambda row: contains_keyword(row.title, reddit_priv_kws) or \\\n",
    "                        contains_keyword(row.selftext, reddit_priv_kws), axis=1)]\n",
    "\n",
    "priv_df2.shape"
   ]
  },
  {
   "cell_type": "code",
   "execution_count": 44,
   "id": "85b1a0cc-6df6-4b1c-93aa-2702a4028f17",
   "metadata": {},
   "outputs": [
    {
     "data": {
      "text/plain": [
       "subreddit\n",
       "Professors     45\n",
       "Student         2\n",
       "Teachers       81\n",
       "education      10\n",
       "k12sysadmin    43\n",
       "Name: selftext, dtype: int64"
      ]
     },
     "execution_count": 44,
     "metadata": {},
     "output_type": "execute_result"
    }
   ],
   "source": [
    "priv_df.groupby('subreddit').selftext.count()"
   ]
  },
  {
   "cell_type": "code",
   "execution_count": 203,
   "id": "f6b0f2d7-7d3e-4c8f-bbae-15fac393f2a2",
   "metadata": {},
   "outputs": [
    {
     "data": {
      "text/plain": [
       "array(['Policy &amp; Politics', 'Student',\n",
       "       'Teacher Support &amp;/or Advice', 'Resignation', 'New Teacher',\n",
       "       'Student Teacher Support &amp;/or Advice',\n",
       "       'RANT [Students/Parents]', 'Career &amp; Interview Advice', nan,\n",
       "       'Classroom Management &amp; Strategies', 'COVID-19',\n",
       "       'Bad Teacher, No Apple', 'Pedagogy &amp; Best Practices',\n",
       "       'SUCCESS!', 'Moderator Announcement', 'DISCUSSION :sloth:',\n",
       "       'Rants / Vents', 'Advice / Support'], dtype=object)"
      ]
     },
     "execution_count": 203,
     "metadata": {},
     "output_type": "execute_result"
    }
   ],
   "source": [
    "priv_df.link_flair_text.unique()"
   ]
  },
  {
   "cell_type": "code",
   "execution_count": 43,
   "id": "21d2aee4-e185-4a6e-bfa8-63eea55a1a37",
   "metadata": {},
   "outputs": [
    {
     "data": {
      "text/plain": [
       "link_flair_text\n",
       "Teacher Support &amp;/or Advice            21\n",
       "Classroom Management &amp; Strategies       5\n",
       "COVID-19                                    5\n",
       "Student                                     4\n",
       "Bad Teacher, No Apple                       4\n",
       "New Teacher                                 4\n",
       "Rants / Vents                               3\n",
       "Advice / Support                            3\n",
       "Pedagogy &amp; Best Practices               2\n",
       "Policy &amp; Politics                       2\n",
       "Resignation                                 2\n",
       "Career &amp; Interview Advice               2\n",
       "Student Teacher Support &amp;/or Advice     2\n",
       "Curriculum &amp; Teaching Strategies        1\n",
       "DISCUSSION :sloth:                          1\n",
       "Ed Tech &amp; Tech Integration              1\n",
       "Moderator Announcement                      1\n",
       "Careers in Education                        1\n",
       "RANT [Students/Parents]                     1\n",
       "SUCCESS!                                    1\n",
       "School Culture &amp; Policy                 1\n",
       "Name: selftext, dtype: int64"
      ]
     },
     "execution_count": 43,
     "metadata": {},
     "output_type": "execute_result"
    }
   ],
   "source": [
    "priv_df.groupby('link_flair_text').selftext.count().sort_values(ascending=False)\n",
    "# print(priv_df.groupby('link_flair_text').selftext.count().sort_values(ascending=False).to_frame().to_latex())"
   ]
  },
  {
   "cell_type": "markdown",
   "id": "4dd0ec66-9c94-42a6-ada3-9813a559f90e",
   "metadata": {},
   "source": [
    "### Analyze labelled posts"
   ]
  },
  {
   "cell_type": "code",
   "execution_count": 117,
   "id": "a668aac5-08ef-4ec9-8ae4-431e8f883ca4",
   "metadata": {},
   "outputs": [
    {
     "data": {
      "text/plain": [
       "(87, 20)"
      ]
     },
     "execution_count": 117,
     "metadata": {},
     "output_type": "execute_result"
    }
   ],
   "source": [
    "# labeled_df =pd.read_csv('priv-reddit-posts.csv')\n",
    "# labeled_df.shape\n",
    "# labeled_df = labeled_df[labeled_df.apply(lambda row: isinstance(row.Code, str), axis=1)]\n",
    "# labeled_df.shape\n",
    "labeled_df=pd.read_excel('priv-reddit-posts-labeled.xlsx')\n",
    "labeled_df.set_index('id', inplace=True)\n",
    "labeled_df.shape"
   ]
  },
  {
   "cell_type": "code",
   "execution_count": 109,
   "id": "bf4cab0f-cbd4-46db-895c-733b7dbc0c31",
   "metadata": {},
   "outputs": [],
   "source": [
    "# labeled_df2 = priv_df.loc[labeled_df.index]\n",
    "# labeled_df2['code'] = labeled_df.code\n",
    "# labeled_df2.to_excel('priv-reddit-posts-labeled.xlsx')"
   ]
  },
  {
   "cell_type": "code",
   "execution_count": 32,
   "id": "f32b742b-9baf-4fe9-bdab-88c1e759dcf1",
   "metadata": {},
   "outputs": [
    {
     "data": {
      "text/plain": [
       "subreddit\n",
       "Teachers       39\n",
       "k12sysadmin    25\n",
       "Professors     19\n",
       "Name: selftext, dtype: int64"
      ]
     },
     "execution_count": 32,
     "metadata": {},
     "output_type": "execute_result"
    }
   ],
   "source": [
    "labeled_df.groupby('subreddit').selftext.count().sort_values(ascending=False)"
   ]
  },
  {
   "cell_type": "code",
   "execution_count": 33,
   "id": "005a6a5f-09f6-4f76-b099-58cfe8660f5b",
   "metadata": {},
   "outputs": [
    {
     "data": {
      "text/plain": [
       "link_flair_text\n",
       "Teacher Support &amp;/or Advice            9\n",
       "COVID-19                                   3\n",
       "Classroom Management &amp; Strategies      3\n",
       "Bad Teacher, No Apple                      2\n",
       "Pedagogy &amp; Best Practices              2\n",
       "Student                                    2\n",
       "Advice / Support                           1\n",
       "Policy &amp; Politics                      1\n",
       "Resignation                                1\n",
       "SUCCESS!                                   1\n",
       "Student Teacher Support &amp;/or Advice    1\n",
       "Name: selftext, dtype: int64"
      ]
     },
     "execution_count": 33,
     "metadata": {},
     "output_type": "execute_result"
    }
   ],
   "source": [
    "labeled_df.groupby('link_flair_text').selftext.count().sort_values(ascending=False)"
   ]
  },
  {
   "cell_type": "code",
   "execution_count": 47,
   "id": "cf580c37-5477-41f3-834a-2ae6585c7b08",
   "metadata": {},
   "outputs": [
    {
     "name": "stdout",
     "output_type": "stream",
     "text": [
      "\\begin{tabular}{llr}\n",
      "\\toprule\n",
      "            &             &  selftext \\\\\n",
      "code & subreddit &           \\\\\n",
      "\\midrule\n",
      "edtech support & Professors &         2 \\\\\n",
      "            & Teachers &         3 \\\\\n",
      "edtech-generic & Professors &         1 \\\\\n",
      "            & Teachers &         1 \\\\\n",
      "edtech-ques & Professors &         3 \\\\\n",
      "            & Teachers &        10 \\\\\n",
      "            & k12sysadmin &         9 \\\\\n",
      "other & Professors &         1 \\\\\n",
      "            & Teachers &         4 \\\\\n",
      "            & k12sysadmin &         1 \\\\\n",
      "other-privacy & k12sysadmin &         3 \\\\\n",
      "privacy incident & Professors &         1 \\\\\n",
      "privacy-generic & Professors &         1 \\\\\n",
      "            & Teachers &         2 \\\\\n",
      "            & k12sysadmin &         1 \\\\\n",
      "privacy-specific & Professors &         9 \\\\\n",
      "            & Teachers &        18 \\\\\n",
      "            & k12sysadmin &        10 \\\\\n",
      "tech\\_brandi & Professors &         1 \\\\\n",
      "            & k12sysadmin &         1 \\\\\n",
      "\\bottomrule\n",
      "\\end{tabular}\n",
      "\n"
     ]
    },
    {
     "name": "stderr",
     "output_type": "stream",
     "text": [
      "/var/folders/1p/0rwj4hf522b5v3bzw33bsdqw0000gn/T/ipykernel_23900/3351673468.py:1: FutureWarning: In future versions `DataFrame.to_latex` is expected to utilise the base implementation of `Styler.to_latex` for formatting and rendering. The arguments signature may therefore change. It is recommended instead to use `DataFrame.style.to_latex` which also contains additional functionality.\n",
      "  print(labeled_df.groupby(['code', 'subreddit']).selftext.count().to_frame().to_latex())#.head(10)\n"
     ]
    }
   ],
   "source": [
    "print(labeled_df.groupby(['code', 'subreddit']).selftext.count().to_frame().to_latex())#.head(10)"
   ]
  },
  {
   "cell_type": "markdown",
   "id": "d4e88159-067b-4686-8c89-da05fef4353c",
   "metadata": {},
   "source": [
    "### TF-IDF words"
   ]
  },
  {
   "cell_type": "code",
   "execution_count": 86,
   "id": "05646bc9-3d3e-40b0-af7a-70c1d5761076",
   "metadata": {},
   "outputs": [],
   "source": [
    "def get_tfidf_top_features(documents,n_top=10):\n",
    "    tfidf_vectorizer = TfidfVectorizer(max_df=0.95, min_df=2,stop_words='english')\n",
    "    tfidf = tfidf_vectorizer.fit_transform(documents)\n",
    "    importance = np.argsort(np.asarray(tfidf.sum(axis=0)).ravel())[::-1]\n",
    "    tfidf_feature_names = np.array(tfidf_vectorizer.get_feature_names())\n",
    "    return tfidf_feature_names[importance[:n_top]]\n"
   ]
  },
  {
   "cell_type": "code",
   "execution_count": 92,
   "id": "f79091f1-2654-4411-af8e-a8b5568466cc",
   "metadata": {},
   "outputs": [
    {
     "data": {
      "text/plain": [
       "array(['zoom', 'students', 'school', 'privacy', 'google', 'online',\n",
       "       'goguardian', 'teacher', 'student', 'meeting', 'class', 'security',\n",
       "       'policy', 'kids', 'camera', 'feel', 'proctoru', 'access',\n",
       "       'teachers', 'issues', 'video', 'people', 'classroom', 'app',\n",
       "       'parents'], dtype='<U13')"
      ]
     },
     "execution_count": 92,
     "metadata": {},
     "output_type": "execute_result"
    }
   ],
   "source": [
    "stopwords = set([line.strip() for line in open('stopwords-twitter-topic.txt')])\n",
    "texts = [x for x in labeled_df[(labeled_df.code=='privacy-specific')].selftext.values if isinstance(x, str)]\n",
    "\n",
    "texts = [' '.join(preprocess_text(text)) for text in texts]\n",
    "\n",
    "corpus=list(texts)\n",
    "top_words = (get_tfidf_top_features(corpus, n_top=25))\n",
    "np.array(top_words)"
   ]
  },
  {
   "cell_type": "markdown",
   "id": "aa7ffe46-8a10-4284-b660-a37cd18f898a",
   "metadata": {},
   "source": [
    "### Visibility"
   ]
  },
  {
   "cell_type": "code",
   "execution_count": 93,
   "id": "70b82f97-52e3-457a-9e78-a6c573d97bd9",
   "metadata": {},
   "outputs": [
    {
     "data": {
      "text/plain": [
       "Index(['author', 'created_utc', 'is_original_content', 'num_comments',\n",
       "       'num_crossposts', 'permalink', 'score', 'selftext', 'subreddit',\n",
       "       'subreddit_id', 'title', 'total_awards_received', 'upvote_ratio',\n",
       "       'link_flair_text', 'author_id', 'author_created_utc', 'mod_reports',\n",
       "       'user_reports', 'code'],\n",
       "      dtype='object')"
      ]
     },
     "execution_count": 93,
     "metadata": {},
     "output_type": "execute_result"
    }
   ],
   "source": [
    "labeled_df.columns#groupby('code')"
   ]
  },
  {
   "cell_type": "code",
   "execution_count": 114,
   "id": "5e7c5ec0-98e9-46ed-b7ca-5d58932288b0",
   "metadata": {},
   "outputs": [
    {
     "name": "stderr",
     "output_type": "stream",
     "text": [
      "/var/folders/1p/0rwj4hf522b5v3bzw33bsdqw0000gn/T/ipykernel_23900/3306847447.py:1: FutureWarning: Treating datetime data as categorical rather than numeric in `.describe` is deprecated and will be removed in a future version of pandas. Specify `datetime_is_numeric=True` to silence this warning and adopt the future behavior now.\n",
      "  labeled_df.created_utc.describe()\n"
     ]
    },
    {
     "data": {
      "text/plain": [
       "count                      87\n",
       "unique                     87\n",
       "top       2021-04-03 03:17:26\n",
       "freq                        1\n",
       "first     2014-11-17 23:37:06\n",
       "last      2022-01-13 22:51:31\n",
       "Name: created_utc, dtype: object"
      ]
     },
     "execution_count": 114,
     "metadata": {},
     "output_type": "execute_result"
    }
   ],
   "source": [
    "labeled_df.created_utc.describe()"
   ]
  },
  {
   "cell_type": "code",
   "execution_count": 116,
   "id": "10a9e8f6-7340-4a59-8e85-e945cfbcb8ae",
   "metadata": {},
   "outputs": [
    {
     "name": "stdout",
     "output_type": "stream",
     "text": [
      "\\begin{tabular}{lrrr}\n",
      "\\toprule\n",
      "{} &      score &  upvote\\_ratio &  num\\_comments \\\\\n",
      "\\midrule\n",
      "count &  40.000000 &     26.000000 &      40.00000 \\\\\n",
      "mean  &   1.750000 &      0.995000 &      26.55000 \\\\\n",
      "std   &   2.227451 &      0.023537 &      45.36233 \\\\\n",
      "min   &   0.000000 &      0.880000 &       0.00000 \\\\\n",
      "25\\%   &   1.000000 &      1.000000 &       6.00000 \\\\\n",
      "50\\%   &   1.000000 &      1.000000 &      15.00000 \\\\\n",
      "75\\%   &   1.000000 &      1.000000 &      21.00000 \\\\\n",
      "max   &  13.000000 &      1.000000 &     271.00000 \\\\\n",
      "\\bottomrule\n",
      "\\end{tabular}\n",
      "\n"
     ]
    },
    {
     "name": "stderr",
     "output_type": "stream",
     "text": [
      "/var/folders/1p/0rwj4hf522b5v3bzw33bsdqw0000gn/T/ipykernel_23900/2928238977.py:1: FutureWarning: In future versions `DataFrame.to_latex` is expected to utilise the base implementation of `Styler.to_latex` for formatting and rendering. The arguments signature may therefore change. It is recommended instead to use `DataFrame.style.to_latex` which also contains additional functionality.\n",
      "  print(labeled_df[labeled_df.code=='privacy-specific'][['score',  'upvote_ratio', 'num_comments']].describe().to_latex())##.boxplot()\n"
     ]
    }
   ],
   "source": [
    "print(labeled_df[labeled_df.code=='privacy-specific'][['score',  'upvote_ratio', 'num_comments']].describe().to_latex())##.boxplot()"
   ]
  }
 ],
 "metadata": {
  "kernelspec": {
   "display_name": "Python 3 (ipykernel)",
   "language": "python",
   "name": "python3"
  },
  "language_info": {
   "codemirror_mode": {
    "name": "ipython",
    "version": 3
   },
   "file_extension": ".py",
   "mimetype": "text/x-python",
   "name": "python",
   "nbconvert_exporter": "python",
   "pygments_lexer": "ipython3",
   "version": "3.9.10"
  }
 },
 "nbformat": 4,
 "nbformat_minor": 5
}
