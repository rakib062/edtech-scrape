{
 "cells": [
  {
   "cell_type": "code",
   "execution_count": 163,
   "id": "cff32eeb-926b-4d0f-b0d0-67636deb0bae",
   "metadata": {},
   "outputs": [],
   "source": [
    "import pandas as pd\n",
    "from matplotlib import pyplot as plt\n",
    "import json\n",
    "pd.options.display.max_colwidth = 300\n",
    "import config\n",
    "data_root= config.DATA_ROOT\n",
    "from tqdm import tqdm\n",
    "tqdm.pandas()\n",
    "pd.options.display.max_colwidth=5000"
   ]
  },
  {
   "cell_type": "code",
   "execution_count": 167,
   "id": "3e08d4bc-7bc5-4509-bf27-36dd7da72a9d",
   "metadata": {},
   "outputs": [
    {
     "ename": "SyntaxError",
     "evalue": "invalid syntax (2355063846.py, line 7)",
     "output_type": "error",
     "traceback": [
      "\u001b[0;36m  Input \u001b[0;32mIn [167]\u001b[0;36m\u001b[0m\n\u001b[0;31m    'is_reddit_media_domain', 'is_robot_indexable', 'is_self', 'is_video',\u001b[0m\n\u001b[0m    ^\u001b[0m\n\u001b[0;31mSyntaxError\u001b[0m\u001b[0;31m:\u001b[0m invalid syntax\n"
     ]
    }
   ],
   "source": [
    "remove_cols=['Unnamed: 0', 'all_awardings', 'allow_live_comments', \n",
    "       'author_flair_css_class', 'author_flair_richtext', 'author_flair_text',\n",
    "       'author_flair_type', 'author_fullname', 'author_patreon_flair',\n",
    "       'author_premium',  'can_mod_post', 'contest_mode',\n",
    "        'domain', 'full_link', 'gildings', \n",
    "       'is_crosspostable', 'is_meta', 'wls','removed_by_category', 'distinguished',3\n",
    "       'is_reddit_media_domain', 'is_robot_indexable', 'is_self', 'is_video',\n",
    "       'link_flair_background_color', 'link_flair_richtext','link_flair_template_id',\n",
    "       'link_flair_text_color', 'link_flair_type', 'locked', 'media',\n",
    "       'media_embed', 'media_only', 'parent_whitelist_status',\n",
    "        'over_18', 'pinned', 'post_hint',\n",
    "       'preview', 'retrieved_on', 'secure_media',\n",
    "       'secure_media_embed', 'send_replies', 'spoiler', 'stickied',\n",
    "        'subreddit_subscribers', 'subreddit_type',\n",
    "       'thumbnail', 'thumbnail_height', 'thumbnail_width', \n",
    "        'treatment_tags',  'url','hidden', 'quarantine', 'subreddit_name_prefixed',\n",
    "       'suggested_sort','og_description', 'og_title', 'brand_safe', 'rte_mode','previous_visits','can_gild','category','content_categories','hidden','quarantine','subreddit_name_prefixed','suggested_sort','approved_at_utc','view_count',\n",
    "       'url_overridden_by_dest', 'author_is_blocked', 'is_created_from_ads_ui',\n",
    "       'author_flair_background_color', 'author_flair_template_id',\n",
    "       'author_flair_text_color', 'poll_data', 'gallery_data', 'is_gallery', 'banned_at_utc',\n",
    "       'media_metadata', 'edited','no_follow', 'pwls', 'awarders', 'whitelist_status', 'banned_by','crosspost_parent_list','crosspost_parent', 'updated_utc','author_cakeday', 'gilded','updated_utc','steward_reports', 'removed_by', 'archived','link_flair_css_class','removal_reason',\n",
    "]\n",
    "remove_cols2=['Unnamed: 0',  \n",
    "        'author_flair_background_color', 'author_flair_css_class',\n",
    "       'author_flair_richtext', 'author_flair_template_id',\n",
    "        'author_flair_text_color', 'author_flair_type',\n",
    "        'author_patreon_flair', 'author_premium', \n",
    "       'banned_at_utc',  'can_mod_post', 'collapsed',\n",
    "       'collapsed_because_crowd_control', 'collapsed_reason',\n",
    "         'edited', 'gildings',\n",
    "       'is_submitter', 'link_id', 'locked', \n",
    "       'permalink', 'retrieved_on',  'send_replies', 'stickied', 'top_awarded_type',\n",
    "       'total_awards_received', 'treatment_tags']"
   ]
  },
  {
   "cell_type": "markdown",
   "id": "1081248a-6ebf-44f9-97e8-34bbd5abaa22",
   "metadata": {},
   "source": [
    "## Edtech Help"
   ]
  },
  {
   "cell_type": "code",
   "execution_count": 168,
   "id": "f5dbc8cc-a590-4e65-875d-afac8d275165",
   "metadata": {},
   "outputs": [
    {
     "ename": "KeyError",
     "evalue": "\"['wls', 'removed_by_category', 'distinguished', 'link_flair_template_id', 'parent_whitelist_status', 'hidden', 'quarantine', 'subreddit_name_prefixed', 'suggested_sort', 'og_description', 'og_title', 'brand_safe', 'rte_mode', 'previous_visits', 'can_gild', 'category', 'content_categories', 'hidden', 'quarantine', 'subreddit_name_prefixed', 'suggested_sort', 'approved_at_utc', 'view_count', 'banned_at_utc', 'edited', 'pwls', 'whitelist_status', 'banned_by', 'crosspost_parent_list', 'crosspost_parent', 'updated_utc', 'author_cakeday', 'gilded', 'updated_utc', 'steward_reports', 'removed_by', 'archived', 'link_flair_css_class', 'removal_reason'] not found in axis\"",
     "output_type": "error",
     "traceback": [
      "\u001b[0;31m---------------------------------------------------------------------------\u001b[0m",
      "\u001b[0;31mKeyError\u001b[0m                                  Traceback (most recent call last)",
      "Input \u001b[0;32mIn [168]\u001b[0m, in \u001b[0;36m<module>\u001b[0;34m\u001b[0m\n\u001b[1;32m      1\u001b[0m edtech_help\u001b[38;5;241m=\u001b[39mpd\u001b[38;5;241m.\u001b[39mread_csv(data_root\u001b[38;5;241m+\u001b[39m\u001b[38;5;124m'\u001b[39m\u001b[38;5;124m/reddit-posts/edtechhelp.csv\u001b[39m\u001b[38;5;124m'\u001b[39m, sep\u001b[38;5;241m=\u001b[39m\u001b[38;5;124m'\u001b[39m\u001b[38;5;124m,\u001b[39m\u001b[38;5;124m'\u001b[39m, encoding\u001b[38;5;241m=\u001b[39m\u001b[38;5;124m'\u001b[39m\u001b[38;5;124mutf-8\u001b[39m\u001b[38;5;124m'\u001b[39m)\n\u001b[0;32m----> 2\u001b[0m \u001b[43medtech_help\u001b[49m\u001b[38;5;241;43m.\u001b[39;49m\u001b[43mdrop\u001b[49m\u001b[43m(\u001b[49m\u001b[43maxis\u001b[49m\u001b[38;5;241;43m=\u001b[39;49m\u001b[38;5;241;43m1\u001b[39;49m\u001b[43m,\u001b[49m\u001b[43m \u001b[49m\u001b[43mcolumns\u001b[49m\u001b[38;5;241;43m=\u001b[39;49m\u001b[43mremove_cols\u001b[49m\u001b[43m,\u001b[49m\u001b[43m \u001b[49m\u001b[43minplace\u001b[49m\u001b[38;5;241;43m=\u001b[39;49m\u001b[38;5;28;43;01mTrue\u001b[39;49;00m\u001b[43m)\u001b[49m\n\u001b[1;32m      3\u001b[0m edtech_help_cmts\u001b[38;5;241m=\u001b[39mpd\u001b[38;5;241m.\u001b[39mread_csv(data_root\u001b[38;5;241m+\u001b[39m\u001b[38;5;124m'\u001b[39m\u001b[38;5;124m/reddit-posts/edtechhelp-comments.csv\u001b[39m\u001b[38;5;124m'\u001b[39m, sep\u001b[38;5;241m=\u001b[39m\u001b[38;5;124m'\u001b[39m\u001b[38;5;124m,\u001b[39m\u001b[38;5;124m'\u001b[39m, encoding\u001b[38;5;241m=\u001b[39m\u001b[38;5;124m'\u001b[39m\u001b[38;5;124mutf-8\u001b[39m\u001b[38;5;124m'\u001b[39m)\n\u001b[1;32m      4\u001b[0m edtech_help_cmts\u001b[38;5;241m.\u001b[39mdrop(axis\u001b[38;5;241m=\u001b[39m\u001b[38;5;241m1\u001b[39m, columns\u001b[38;5;241m=\u001b[39mremove_cols2, inplace\u001b[38;5;241m=\u001b[39m\u001b[38;5;28;01mTrue\u001b[39;00m)\n",
      "File \u001b[0;32m~/work/edtech-scrape/edenv/lib/python3.9/site-packages/pandas/util/_decorators.py:311\u001b[0m, in \u001b[0;36mdeprecate_nonkeyword_arguments.<locals>.decorate.<locals>.wrapper\u001b[0;34m(*args, **kwargs)\u001b[0m\n\u001b[1;32m    305\u001b[0m \u001b[38;5;28;01mif\u001b[39;00m \u001b[38;5;28mlen\u001b[39m(args) \u001b[38;5;241m>\u001b[39m num_allow_args:\n\u001b[1;32m    306\u001b[0m     warnings\u001b[38;5;241m.\u001b[39mwarn(\n\u001b[1;32m    307\u001b[0m         msg\u001b[38;5;241m.\u001b[39mformat(arguments\u001b[38;5;241m=\u001b[39marguments),\n\u001b[1;32m    308\u001b[0m         \u001b[38;5;167;01mFutureWarning\u001b[39;00m,\n\u001b[1;32m    309\u001b[0m         stacklevel\u001b[38;5;241m=\u001b[39mstacklevel,\n\u001b[1;32m    310\u001b[0m     )\n\u001b[0;32m--> 311\u001b[0m \u001b[38;5;28;01mreturn\u001b[39;00m \u001b[43mfunc\u001b[49m\u001b[43m(\u001b[49m\u001b[38;5;241;43m*\u001b[39;49m\u001b[43margs\u001b[49m\u001b[43m,\u001b[49m\u001b[43m \u001b[49m\u001b[38;5;241;43m*\u001b[39;49m\u001b[38;5;241;43m*\u001b[39;49m\u001b[43mkwargs\u001b[49m\u001b[43m)\u001b[49m\n",
      "File \u001b[0;32m~/work/edtech-scrape/edenv/lib/python3.9/site-packages/pandas/core/frame.py:4956\u001b[0m, in \u001b[0;36mDataFrame.drop\u001b[0;34m(self, labels, axis, index, columns, level, inplace, errors)\u001b[0m\n\u001b[1;32m   4808\u001b[0m \u001b[38;5;129m@deprecate_nonkeyword_arguments\u001b[39m(version\u001b[38;5;241m=\u001b[39m\u001b[38;5;28;01mNone\u001b[39;00m, allowed_args\u001b[38;5;241m=\u001b[39m[\u001b[38;5;124m\"\u001b[39m\u001b[38;5;124mself\u001b[39m\u001b[38;5;124m\"\u001b[39m, \u001b[38;5;124m\"\u001b[39m\u001b[38;5;124mlabels\u001b[39m\u001b[38;5;124m\"\u001b[39m])\n\u001b[1;32m   4809\u001b[0m \u001b[38;5;28;01mdef\u001b[39;00m \u001b[38;5;21mdrop\u001b[39m(\n\u001b[1;32m   4810\u001b[0m     \u001b[38;5;28mself\u001b[39m,\n\u001b[0;32m   (...)\u001b[0m\n\u001b[1;32m   4817\u001b[0m     errors: \u001b[38;5;28mstr\u001b[39m \u001b[38;5;241m=\u001b[39m \u001b[38;5;124m\"\u001b[39m\u001b[38;5;124mraise\u001b[39m\u001b[38;5;124m\"\u001b[39m,\n\u001b[1;32m   4818\u001b[0m ):\n\u001b[1;32m   4819\u001b[0m     \u001b[38;5;124;03m\"\"\"\u001b[39;00m\n\u001b[1;32m   4820\u001b[0m \u001b[38;5;124;03m    Drop specified labels from rows or columns.\u001b[39;00m\n\u001b[1;32m   4821\u001b[0m \n\u001b[0;32m   (...)\u001b[0m\n\u001b[1;32m   4954\u001b[0m \u001b[38;5;124;03m            weight  1.0     0.8\u001b[39;00m\n\u001b[1;32m   4955\u001b[0m \u001b[38;5;124;03m    \"\"\"\u001b[39;00m\n\u001b[0;32m-> 4956\u001b[0m     \u001b[38;5;28;01mreturn\u001b[39;00m \u001b[38;5;28;43msuper\u001b[39;49m\u001b[43m(\u001b[49m\u001b[43m)\u001b[49m\u001b[38;5;241;43m.\u001b[39;49m\u001b[43mdrop\u001b[49m\u001b[43m(\u001b[49m\n\u001b[1;32m   4957\u001b[0m \u001b[43m        \u001b[49m\u001b[43mlabels\u001b[49m\u001b[38;5;241;43m=\u001b[39;49m\u001b[43mlabels\u001b[49m\u001b[43m,\u001b[49m\n\u001b[1;32m   4958\u001b[0m \u001b[43m        \u001b[49m\u001b[43maxis\u001b[49m\u001b[38;5;241;43m=\u001b[39;49m\u001b[43maxis\u001b[49m\u001b[43m,\u001b[49m\n\u001b[1;32m   4959\u001b[0m \u001b[43m        \u001b[49m\u001b[43mindex\u001b[49m\u001b[38;5;241;43m=\u001b[39;49m\u001b[43mindex\u001b[49m\u001b[43m,\u001b[49m\n\u001b[1;32m   4960\u001b[0m \u001b[43m        \u001b[49m\u001b[43mcolumns\u001b[49m\u001b[38;5;241;43m=\u001b[39;49m\u001b[43mcolumns\u001b[49m\u001b[43m,\u001b[49m\n\u001b[1;32m   4961\u001b[0m \u001b[43m        \u001b[49m\u001b[43mlevel\u001b[49m\u001b[38;5;241;43m=\u001b[39;49m\u001b[43mlevel\u001b[49m\u001b[43m,\u001b[49m\n\u001b[1;32m   4962\u001b[0m \u001b[43m        \u001b[49m\u001b[43minplace\u001b[49m\u001b[38;5;241;43m=\u001b[39;49m\u001b[43minplace\u001b[49m\u001b[43m,\u001b[49m\n\u001b[1;32m   4963\u001b[0m \u001b[43m        \u001b[49m\u001b[43merrors\u001b[49m\u001b[38;5;241;43m=\u001b[39;49m\u001b[43merrors\u001b[49m\u001b[43m,\u001b[49m\n\u001b[1;32m   4964\u001b[0m \u001b[43m    \u001b[49m\u001b[43m)\u001b[49m\n",
      "File \u001b[0;32m~/work/edtech-scrape/edenv/lib/python3.9/site-packages/pandas/core/generic.py:4279\u001b[0m, in \u001b[0;36mNDFrame.drop\u001b[0;34m(self, labels, axis, index, columns, level, inplace, errors)\u001b[0m\n\u001b[1;32m   4277\u001b[0m \u001b[38;5;28;01mfor\u001b[39;00m axis, labels \u001b[38;5;129;01min\u001b[39;00m axes\u001b[38;5;241m.\u001b[39mitems():\n\u001b[1;32m   4278\u001b[0m     \u001b[38;5;28;01mif\u001b[39;00m labels \u001b[38;5;129;01mis\u001b[39;00m \u001b[38;5;129;01mnot\u001b[39;00m \u001b[38;5;28;01mNone\u001b[39;00m:\n\u001b[0;32m-> 4279\u001b[0m         obj \u001b[38;5;241m=\u001b[39m \u001b[43mobj\u001b[49m\u001b[38;5;241;43m.\u001b[39;49m\u001b[43m_drop_axis\u001b[49m\u001b[43m(\u001b[49m\u001b[43mlabels\u001b[49m\u001b[43m,\u001b[49m\u001b[43m \u001b[49m\u001b[43maxis\u001b[49m\u001b[43m,\u001b[49m\u001b[43m \u001b[49m\u001b[43mlevel\u001b[49m\u001b[38;5;241;43m=\u001b[39;49m\u001b[43mlevel\u001b[49m\u001b[43m,\u001b[49m\u001b[43m \u001b[49m\u001b[43merrors\u001b[49m\u001b[38;5;241;43m=\u001b[39;49m\u001b[43merrors\u001b[49m\u001b[43m)\u001b[49m\n\u001b[1;32m   4281\u001b[0m \u001b[38;5;28;01mif\u001b[39;00m inplace:\n\u001b[1;32m   4282\u001b[0m     \u001b[38;5;28mself\u001b[39m\u001b[38;5;241m.\u001b[39m_update_inplace(obj)\n",
      "File \u001b[0;32m~/work/edtech-scrape/edenv/lib/python3.9/site-packages/pandas/core/generic.py:4323\u001b[0m, in \u001b[0;36mNDFrame._drop_axis\u001b[0;34m(self, labels, axis, level, errors, consolidate, only_slice)\u001b[0m\n\u001b[1;32m   4321\u001b[0m         new_axis \u001b[38;5;241m=\u001b[39m axis\u001b[38;5;241m.\u001b[39mdrop(labels, level\u001b[38;5;241m=\u001b[39mlevel, errors\u001b[38;5;241m=\u001b[39merrors)\n\u001b[1;32m   4322\u001b[0m     \u001b[38;5;28;01melse\u001b[39;00m:\n\u001b[0;32m-> 4323\u001b[0m         new_axis \u001b[38;5;241m=\u001b[39m \u001b[43maxis\u001b[49m\u001b[38;5;241;43m.\u001b[39;49m\u001b[43mdrop\u001b[49m\u001b[43m(\u001b[49m\u001b[43mlabels\u001b[49m\u001b[43m,\u001b[49m\u001b[43m \u001b[49m\u001b[43merrors\u001b[49m\u001b[38;5;241;43m=\u001b[39;49m\u001b[43merrors\u001b[49m\u001b[43m)\u001b[49m\n\u001b[1;32m   4324\u001b[0m     indexer \u001b[38;5;241m=\u001b[39m axis\u001b[38;5;241m.\u001b[39mget_indexer(new_axis)\n\u001b[1;32m   4326\u001b[0m \u001b[38;5;66;03m# Case for non-unique axis\u001b[39;00m\n\u001b[1;32m   4327\u001b[0m \u001b[38;5;28;01melse\u001b[39;00m:\n",
      "File \u001b[0;32m~/work/edtech-scrape/edenv/lib/python3.9/site-packages/pandas/core/indexes/base.py:6644\u001b[0m, in \u001b[0;36mIndex.drop\u001b[0;34m(self, labels, errors)\u001b[0m\n\u001b[1;32m   6642\u001b[0m \u001b[38;5;28;01mif\u001b[39;00m mask\u001b[38;5;241m.\u001b[39many():\n\u001b[1;32m   6643\u001b[0m     \u001b[38;5;28;01mif\u001b[39;00m errors \u001b[38;5;241m!=\u001b[39m \u001b[38;5;124m\"\u001b[39m\u001b[38;5;124mignore\u001b[39m\u001b[38;5;124m\"\u001b[39m:\n\u001b[0;32m-> 6644\u001b[0m         \u001b[38;5;28;01mraise\u001b[39;00m \u001b[38;5;167;01mKeyError\u001b[39;00m(\u001b[38;5;124mf\u001b[39m\u001b[38;5;124m\"\u001b[39m\u001b[38;5;132;01m{\u001b[39;00m\u001b[38;5;28mlist\u001b[39m(labels[mask])\u001b[38;5;132;01m}\u001b[39;00m\u001b[38;5;124m not found in axis\u001b[39m\u001b[38;5;124m\"\u001b[39m)\n\u001b[1;32m   6645\u001b[0m     indexer \u001b[38;5;241m=\u001b[39m indexer[\u001b[38;5;241m~\u001b[39mmask]\n\u001b[1;32m   6646\u001b[0m \u001b[38;5;28;01mreturn\u001b[39;00m \u001b[38;5;28mself\u001b[39m\u001b[38;5;241m.\u001b[39mdelete(indexer)\n",
      "\u001b[0;31mKeyError\u001b[0m: \"['wls', 'removed_by_category', 'distinguished', 'link_flair_template_id', 'parent_whitelist_status', 'hidden', 'quarantine', 'subreddit_name_prefixed', 'suggested_sort', 'og_description', 'og_title', 'brand_safe', 'rte_mode', 'previous_visits', 'can_gild', 'category', 'content_categories', 'hidden', 'quarantine', 'subreddit_name_prefixed', 'suggested_sort', 'approved_at_utc', 'view_count', 'banned_at_utc', 'edited', 'pwls', 'whitelist_status', 'banned_by', 'crosspost_parent_list', 'crosspost_parent', 'updated_utc', 'author_cakeday', 'gilded', 'updated_utc', 'steward_reports', 'removed_by', 'archived', 'link_flair_css_class', 'removal_reason'] not found in axis\""
     ]
    }
   ],
   "source": [
    "edtech_help=pd.read_csv(data_root+'/reddit-posts/edtechhelp.csv', sep=',', encoding='utf-8')\n",
    "edtech_help.drop(axis=1, columns=remove_cols, inplace=True)\n",
    "edtech_help_cmts=pd.read_csv(data_root+'/reddit-posts/edtechhelp-comments.csv', sep=',', encoding='utf-8')\n",
    "edtech_help_cmts.drop(axis=1, columns=remove_cols2, inplace=True)\n",
    "edtech_help['created_utc'] = pd.to_datetime(edtech_help.created_utc, unit='s')\n",
    "edtech_help_cmts['created_utc'] = pd.to_datetime(edtech_help_cmts.created_utc, unit='s')\n",
    "edtech_help_cmts['approved_at_utc'] = pd.to_datetime(edtech_help_cmts.approved_at_utc, unit='s')\n",
    "print(len(edtech_help), len(edtech_help_cmts))\n",
    "# df = df[df.apply(lambda tweet: tweet.text.startswith(\"RT\")==False, axis=1 )]\n",
    "# print(\"len(df) after removing retweets : \", len(df))"
   ]
  },
  {
   "cell_type": "code",
   "execution_count": 169,
   "id": "6e2ab38a-b201-45b0-b21e-cc3177c606bc",
   "metadata": {},
   "outputs": [
    {
     "data": {
      "text/html": [
       "<div>\n",
       "<style scoped>\n",
       "    .dataframe tbody tr th:only-of-type {\n",
       "        vertical-align: middle;\n",
       "    }\n",
       "\n",
       "    .dataframe tbody tr th {\n",
       "        vertical-align: top;\n",
       "    }\n",
       "\n",
       "    .dataframe thead th {\n",
       "        text-align: right;\n",
       "    }\n",
       "</style>\n",
       "<table border=\"1\" class=\"dataframe\">\n",
       "  <thead>\n",
       "    <tr style=\"text-align: right;\">\n",
       "      <th></th>\n",
       "      <th>author</th>\n",
       "      <th>created_utc</th>\n",
       "      <th>title</th>\n",
       "      <th>selftext</th>\n",
       "    </tr>\n",
       "  </thead>\n",
       "  <tbody>\n",
       "    <tr>\n",
       "      <th>9</th>\n",
       "      <td>TeachMe_EdTech</td>\n",
       "      <td>1626701056</td>\n",
       "      <td>Teachers and Students can Save a Copy of OneNote Class Notebooks at the end of an academic year or if they are leaving a school/university</td>\n",
       "      <td>NaN</td>\n",
       "    </tr>\n",
       "    <tr>\n",
       "      <th>4</th>\n",
       "      <td>TeachMe_EdTech</td>\n",
       "      <td>1620318508</td>\n",
       "      <td>Did you know you can Create an Animated GIF in PowerPoint? This is useful way to create Stop Motion Animations of a concept for students</td>\n",
       "      <td>NaN</td>\n",
       "    </tr>\n",
       "    <tr>\n",
       "      <th>13</th>\n",
       "      <td>ellipsisslipsin</td>\n",
       "      <td>1603979185</td>\n",
       "      <td>Help Thread</td>\n",
       "      <td>This a place to post any questions you might have (and hopefully get some answers or suggestions!)</td>\n",
       "    </tr>\n",
       "    <tr>\n",
       "      <th>11</th>\n",
       "      <td>YearWithTheYeti</td>\n",
       "      <td>1604003149</td>\n",
       "      <td>I used the Google Meet Breakout Rooms Extension for chrome. It was game-changing.</td>\n",
       "      <td>NaN</td>\n",
       "    </tr>\n",
       "    <tr>\n",
       "      <th>16</th>\n",
       "      <td>stellaismycat</td>\n",
       "      <td>1603898635</td>\n",
       "      <td>OneNote</td>\n",
       "      <td>I'm having an issue with one note. When I paste a worksheet and set it as background, an icon with the pdf appears at the top (or bottom) and then creates a \"text box\" that the kids can't move or type on the worksheet. Deleting the PDF icon gets rid of the worksheet entirely. Is there a work around for this? See attached picture:\\n\\n&amp;amp;#x200B;\\n\\nhttps://preview.redd.it/wenwu9qhsuv51.png?width=815&amp;amp;format=png&amp;amp;auto=webp&amp;amp;s=2d4e791c5de1630c5d12352ce3ba9111a97e0b4e\\n\\nHelp!</td>\n",
       "    </tr>\n",
       "  </tbody>\n",
       "</table>\n",
       "</div>"
      ],
      "text/plain": [
       "             author  created_utc  \\\n",
       "9    TeachMe_EdTech   1626701056   \n",
       "4    TeachMe_EdTech   1620318508   \n",
       "13  ellipsisslipsin   1603979185   \n",
       "11  YearWithTheYeti   1604003149   \n",
       "16    stellaismycat   1603898635   \n",
       "\n",
       "                                                                                                                                         title  \\\n",
       "9   Teachers and Students can Save a Copy of OneNote Class Notebooks at the end of an academic year or if they are leaving a school/university   \n",
       "4     Did you know you can Create an Animated GIF in PowerPoint? This is useful way to create Stop Motion Animations of a concept for students   \n",
       "13                                                                                                                                 Help Thread   \n",
       "11                                                           I used the Google Meet Breakout Rooms Extension for chrome. It was game-changing.   \n",
       "16                                                                                                                                     OneNote   \n",
       "\n",
       "                                                                                                                                                                                                                                                                                                                                                                                                                                                                                                   selftext  \n",
       "9                                                                                                                                                                                                                                                                                                                                                                                                                                                                                                       NaN  \n",
       "4                                                                                                                                                                                                                                                                                                                                                                                                                                                                                                       NaN  \n",
       "13                                                                                                                                                                                                                                                                                                                                                                                                       This a place to post any questions you might have (and hopefully get some answers or suggestions!)  \n",
       "11                                                                                                                                                                                                                                                                                                                                                                                                                                                                                                      NaN  \n",
       "16  I'm having an issue with one note. When I paste a worksheet and set it as background, an icon with the pdf appears at the top (or bottom) and then creates a \"text box\" that the kids can't move or type on the worksheet. Deleting the PDF icon gets rid of the worksheet entirely. Is there a work around for this? See attached picture:\\n\\n&amp;#x200B;\\n\\nhttps://preview.redd.it/wenwu9qhsuv51.png?width=815&amp;format=png&amp;auto=webp&amp;s=2d4e791c5de1630c5d12352ce3ba9111a97e0b4e\\n\\nHelp!  "
      ]
     },
     "execution_count": 169,
     "metadata": {},
     "output_type": "execute_result"
    }
   ],
   "source": [
    "edtech_help[['author', 'created_utc', 'title', 'selftext']].sample(5) "
   ]
  },
  {
   "cell_type": "code",
   "execution_count": 170,
   "id": "f6d3ae9b-9800-4bfa-a326-f104737ef0e4",
   "metadata": {},
   "outputs": [
    {
     "data": {
      "text/html": [
       "<div>\n",
       "<style scoped>\n",
       "    .dataframe tbody tr th:only-of-type {\n",
       "        vertical-align: middle;\n",
       "    }\n",
       "\n",
       "    .dataframe tbody tr th {\n",
       "        vertical-align: top;\n",
       "    }\n",
       "\n",
       "    .dataframe thead th {\n",
       "        text-align: right;\n",
       "    }\n",
       "</style>\n",
       "<table border=\"1\" class=\"dataframe\">\n",
       "  <thead>\n",
       "    <tr style=\"text-align: right;\">\n",
       "      <th></th>\n",
       "      <th>all_awardings</th>\n",
       "      <th>approved_at_utc</th>\n",
       "      <th>associated_award</th>\n",
       "      <th>author</th>\n",
       "      <th>author_flair_text</th>\n",
       "      <th>author_fullname</th>\n",
       "      <th>awarders</th>\n",
       "      <th>body</th>\n",
       "      <th>comment_type</th>\n",
       "      <th>created_utc</th>\n",
       "      <th>distinguished</th>\n",
       "      <th>id</th>\n",
       "      <th>no_follow</th>\n",
       "      <th>parent_id</th>\n",
       "      <th>score</th>\n",
       "      <th>subreddit</th>\n",
       "      <th>subreddit_id</th>\n",
       "    </tr>\n",
       "  </thead>\n",
       "  <tbody>\n",
       "    <tr>\n",
       "      <th>21</th>\n",
       "      <td>[]</td>\n",
       "      <td>NaT</td>\n",
       "      <td>NaN</td>\n",
       "      <td>ellipsisslipsin</td>\n",
       "      <td>TechMaven</td>\n",
       "      <td>t2_4btkd04t</td>\n",
       "      <td>[]</td>\n",
       "      <td>Oh those sound like such nice options! We can't use the extension in our district because they haven't signed our privacy policy, but it sounds awesome.</td>\n",
       "      <td>NaN</td>\n",
       "      <td>2020-10-29 21:57:20</td>\n",
       "      <td>NaN</td>\n",
       "      <td>gajemvp</td>\n",
       "      <td>True</td>\n",
       "      <td>t1_gaje705</td>\n",
       "      <td>1</td>\n",
       "      <td>edtechhelp</td>\n",
       "      <td>t5_3bmcnv</td>\n",
       "    </tr>\n",
       "    <tr>\n",
       "      <th>33</th>\n",
       "      <td>[]</td>\n",
       "      <td>NaT</td>\n",
       "      <td>NaN</td>\n",
       "      <td>trixie91</td>\n",
       "      <td>NaN</td>\n",
       "      <td>t2_ecior</td>\n",
       "      <td>[]</td>\n",
       "      <td>I guess they wouldn't sign a student privacy agreement. Something like that.</td>\n",
       "      <td>NaN</td>\n",
       "      <td>2020-11-12 00:23:45</td>\n",
       "      <td>NaN</td>\n",
       "      <td>gbzlfn4</td>\n",
       "      <td>True</td>\n",
       "      <td>t1_gbzl9bx</td>\n",
       "      <td>1</td>\n",
       "      <td>edtechhelp</td>\n",
       "      <td>t5_3bmcnv</td>\n",
       "    </tr>\n",
       "  </tbody>\n",
       "</table>\n",
       "</div>"
      ],
      "text/plain": [
       "   all_awardings approved_at_utc  associated_award           author  \\\n",
       "21            []             NaT               NaN  ellipsisslipsin   \n",
       "33            []             NaT               NaN         trixie91   \n",
       "\n",
       "   author_flair_text author_fullname awarders  \\\n",
       "21         TechMaven     t2_4btkd04t       []   \n",
       "33               NaN        t2_ecior       []   \n",
       "\n",
       "                                                                                                                                                        body  \\\n",
       "21  Oh those sound like such nice options! We can't use the extension in our district because they haven't signed our privacy policy, but it sounds awesome.   \n",
       "33                                                                              I guess they wouldn't sign a student privacy agreement. Something like that.   \n",
       "\n",
       "    comment_type         created_utc  distinguished       id  no_follow  \\\n",
       "21           NaN 2020-10-29 21:57:20            NaN  gajemvp       True   \n",
       "33           NaN 2020-11-12 00:23:45            NaN  gbzlfn4       True   \n",
       "\n",
       "     parent_id  score   subreddit subreddit_id  \n",
       "21  t1_gaje705      1  edtechhelp    t5_3bmcnv  \n",
       "33  t1_gbzl9bx      1  edtechhelp    t5_3bmcnv  "
      ]
     },
     "execution_count": 170,
     "metadata": {},
     "output_type": "execute_result"
    }
   ],
   "source": [
    "edtech_help_cmts[edtech_help_cmts.apply(lambda row: isinstance(row.body,str) and 'privacy' in row.body, axis=1) ]"
   ]
  },
  {
   "cell_type": "code",
   "execution_count": 171,
   "id": "49ccb028-2248-4985-840d-47c9c55d5cc2",
   "metadata": {},
   "outputs": [
    {
     "data": {
      "text/html": [
       "<div>\n",
       "<style scoped>\n",
       "    .dataframe tbody tr th:only-of-type {\n",
       "        vertical-align: middle;\n",
       "    }\n",
       "\n",
       "    .dataframe tbody tr th {\n",
       "        vertical-align: top;\n",
       "    }\n",
       "\n",
       "    .dataframe thead th {\n",
       "        text-align: right;\n",
       "    }\n",
       "</style>\n",
       "<table border=\"1\" class=\"dataframe\">\n",
       "  <thead>\n",
       "    <tr style=\"text-align: right;\">\n",
       "      <th></th>\n",
       "      <th>author</th>\n",
       "      <th>created_utc</th>\n",
       "      <th>body</th>\n",
       "    </tr>\n",
       "  </thead>\n",
       "  <tbody>\n",
       "    <tr>\n",
       "      <th>15</th>\n",
       "      <td>lemonalchemyst</td>\n",
       "      <td>2020-10-29 01:07:57</td>\n",
       "      <td>It helps to organize yourself visually and spatially. Also, it’s got to be a pain to constantly try to find the ‘right window’ and make sure not to share sensitive information. \\n\\nSome of my coworkers won’t buy one because the school ‘needs to do that.’ I get their point, but today you can find a really decent monitor for $100 and monitors that are a few years old for even cheaper.\\n\\nI don’t get it. I spend $100 on delivery some nights. But this external monitor improves my life every day</td>\n",
       "    </tr>\n",
       "    <tr>\n",
       "      <th>19</th>\n",
       "      <td>lemonalchemyst</td>\n",
       "      <td>2020-10-29 21:50:15</td>\n",
       "      <td>I keep chat up on my laptop, have one screen for  what students can see, then another for what just I will see (go guardian, email, grade book, stuff)\\n\\nI just have to be conscious with screensharing that their school computers are much smaller than what I can see\\n\\n24 pt font this year</td>\n",
       "    </tr>\n",
       "    <tr>\n",
       "      <th>17</th>\n",
       "      <td>ellipsisslipsin</td>\n",
       "      <td>2020-10-29 18:45:47</td>\n",
       "      <td>Exactly! We did the same thing, and we already had a desk top so now I technically have 3 screens.\\n\\nI have mentioned to some people that didn't pay out of pocket that they could also use their tv as a monitor, and I've had some positive feedback on that. Especially for putting the Meet up... it makes it easier to see faces for a large class.</td>\n",
       "    </tr>\n",
       "  </tbody>\n",
       "</table>\n",
       "</div>"
      ],
      "text/plain": [
       "             author         created_utc  \\\n",
       "15   lemonalchemyst 2020-10-29 01:07:57   \n",
       "19   lemonalchemyst 2020-10-29 21:50:15   \n",
       "17  ellipsisslipsin 2020-10-29 18:45:47   \n",
       "\n",
       "                                                                                                                                                                                                                                                                                                                                                                                                                                                                                                               body  \n",
       "15  It helps to organize yourself visually and spatially. Also, it’s got to be a pain to constantly try to find the ‘right window’ and make sure not to share sensitive information. \\n\\nSome of my coworkers won’t buy one because the school ‘needs to do that.’ I get their point, but today you can find a really decent monitor for $100 and monitors that are a few years old for even cheaper.\\n\\nI don’t get it. I spend $100 on delivery some nights. But this external monitor improves my life every day  \n",
       "19                                                                                                                                                                                                                I keep chat up on my laptop, have one screen for  what students can see, then another for what just I will see (go guardian, email, grade book, stuff)\\n\\nI just have to be conscious with screensharing that their school computers are much smaller than what I can see\\n\\n24 pt font this year  \n",
       "17                                                                                                                                                        Exactly! We did the same thing, and we already had a desk top so now I technically have 3 screens.\\n\\nI have mentioned to some people that didn't pay out of pocket that they could also use their tv as a monitor, and I've had some positive feedback on that. Especially for putting the Meet up... it makes it easier to see faces for a large class.  "
      ]
     },
     "execution_count": 171,
     "metadata": {},
     "output_type": "execute_result"
    }
   ],
   "source": [
    "edtech_help_cmts[['author', 'created_utc', 'body']].sample(3)"
   ]
  },
  {
   "cell_type": "markdown",
   "id": "da29e989-441c-4283-a59e-d40a97616eb5",
   "metadata": {},
   "source": [
    "## Sysadmin"
   ]
  },
  {
   "cell_type": "code",
   "execution_count": 172,
   "id": "53685f06-a7fd-4bfd-b3f4-a883377d112b",
   "metadata": {},
   "outputs": [],
   "source": [
    "sys_df = pd.read_csv(data_root+'/reddit-posts/higheredsysadmin.csv', sep=',', encoding='utf-8')"
   ]
  },
  {
   "cell_type": "markdown",
   "id": "e320495b-3672-4ac5-aeaa-682a20e70e7d",
   "metadata": {},
   "source": [
    "## Other subreddits"
   ]
  },
  {
   "cell_type": "code",
   "execution_count": 173,
   "id": "6a69bc4c-e8b5-473a-9290-8d3d7a069469",
   "metadata": {},
   "outputs": [
    {
     "name": "stderr",
     "output_type": "stream",
     "text": [
      "/var/folders/q5/tcs66y_j6z1bcz8ffp7_1m4r0000gq/T/ipykernel_17936/2653540110.py:3: DtypeWarning: Columns (1,2,5,7,9,10,11,12,13,18,20,21,22,23,24,26,27,28,29,30,31,32,33,34,35,39,41,46,47,52,56,59,61,62,63,64,65,66,67,68,69,70,71,72,73,76,78,79,80,81,82,83,84,85,87,88,89,90,91,92,93,94,96,99,100,101,103,105) have mixed types. Specify dtype option on import or set low_memory=False.\n",
      "  df = pd.read_csv(data_root+'/reddit-posts/{}.csv'.format(n), sep=',', encoding='utf-8')\n"
     ]
    },
    {
     "name": "stdout",
     "output_type": "stream",
     "text": [
      "teachers 165573\n"
     ]
    },
    {
     "name": "stderr",
     "output_type": "stream",
     "text": [
      "/var/folders/q5/tcs66y_j6z1bcz8ffp7_1m4r0000gq/T/ipykernel_17936/2653540110.py:3: DtypeWarning: Columns (2,12,19,24,26,27,29,32,34,35,39,40,51,87,88,89,90,91,92,93,94,95,97,100,102,104) have mixed types. Specify dtype option on import or set low_memory=False.\n",
      "  df = pd.read_csv(data_root+'/reddit-posts/{}.csv'.format(n), sep=',', encoding='utf-8')\n"
     ]
    },
    {
     "name": "stdout",
     "output_type": "stream",
     "text": [
      "professors 23666\n"
     ]
    },
    {
     "name": "stderr",
     "output_type": "stream",
     "text": [
      "/var/folders/q5/tcs66y_j6z1bcz8ffp7_1m4r0000gq/T/ipykernel_17936/2653540110.py:3: DtypeWarning: Columns (14,15,21,22,23,24,25,27,32,33,34,40,45,46,52,65,66,69,70,79,80,81,87,90,91,92,93) have mixed types. Specify dtype option on import or set low_memory=False.\n",
      "  df = pd.read_csv(data_root+'/reddit-posts/{}.csv'.format(n), sep=',', encoding='utf-8')\n"
     ]
    },
    {
     "name": "stdout",
     "output_type": "stream",
     "text": [
      "k12sysadmin 12659\n"
     ]
    },
    {
     "data": {
      "text/plain": [
       "(201898, 17)"
      ]
     },
     "execution_count": 173,
     "metadata": {},
     "output_type": "execute_result"
    }
   ],
   "source": [
    "dfs = []\n",
    "for n in ['student', 'college', 'education', 'EngineeringStudents']:#[ 'teachers', 'professors', 'k12sysadmin']:\n",
    "    df = pd.read_csv(data_root+'/reddit-posts/{}.csv'.format(n), sep=',', encoding='utf-8')\n",
    "    dfs.append(df)\n",
    "    print(n, len(df))\n",
    "df = pd.concat(dfs)\n",
    "df.drop(axis=1, columns=remove_cols, inplace=True)\n",
    "\n",
    "df.shape"
   ]
  },
  {
   "cell_type": "code",
   "execution_count": 174,
   "id": "984a5df3-a601-4d92-bc74-4da17a1225cb",
   "metadata": {},
   "outputs": [],
   "source": [
    "df['created_utc'] = pd.to_datetime(df.created_utc, unit='s')\n",
    "df['author_created_utc']=pd.to_datetime(df.author_created_utc, unit='s')"
   ]
  },
  {
   "cell_type": "code",
   "execution_count": 196,
   "id": "d631b75d-808f-48c7-afed-9ecf67490a69",
   "metadata": {},
   "outputs": [],
   "source": [
    "def contains_keyword(text, keywords):\n",
    "    if not isinstance(text, str):\n",
    "        return False\n",
    "    text =text.lower()\n",
    "    for kw in keywords:\n",
    "        if kw.lower() in text:\n",
    "            return True\n",
    "    return False\n",
    "reddit_ed_kws = [line.split(',') for line in open('reddit-ed-kw.txt')][0]\n",
    "reddit_priv_kws = [line.split(',') for line in open('reddit-priv-kw.txt')][0]"
   ]
  },
  {
   "cell_type": "code",
   "execution_count": 176,
   "id": "e97ee10e-e98c-4ad3-b8c7-d18c586dc733",
   "metadata": {},
   "outputs": [
    {
     "name": "stderr",
     "output_type": "stream",
     "text": [
      "100%|█████████████████████████████████████████████████████████████████████████████████████████████████████████████████████████████████████| 201898/201898 [00:18<00:00, 10803.62it/s]\n"
     ]
    },
    {
     "data": {
      "text/plain": [
       "(5994, 17)"
      ]
     },
     "execution_count": 176,
     "metadata": {},
     "output_type": "execute_result"
    }
   ],
   "source": [
    "ed_df=df[df.progress_apply(lambda row: contains_keyword(row.title, reddit_ed_kws) or \\\n",
    "                        contains_keyword(row.selftext, reddit_ed_kws), axis=1)]\n",
    "\n",
    "ed_df.shape"
   ]
  },
  {
   "cell_type": "code",
   "execution_count": 197,
   "id": "b4a0f861-edad-4ee1-b4a6-29e487c5f9b7",
   "metadata": {},
   "outputs": [
    {
     "name": "stderr",
     "output_type": "stream",
     "text": [
      "100%|█████████████████████████████████████████████████████████████████████████████████████████████████████████████████████████████████████████| 5994/5994 [00:00<00:00, 36160.71it/s]\n"
     ]
    },
    {
     "data": {
      "text/plain": [
       "(174, 17)"
      ]
     },
     "execution_count": 197,
     "metadata": {},
     "output_type": "execute_result"
    }
   ],
   "source": [
    "priv_df=ed_df[ed_df.progress_apply(lambda row: contains_keyword(row.title, reddit_priv_kws) or \\\n",
    "                        contains_keyword(row.selftext, reddit_priv_kws), axis=1)]\n",
    "\n",
    "priv_df.shape"
   ]
  },
  {
   "cell_type": "code",
   "execution_count": 198,
   "id": "728d4294-171c-4048-a262-330b8381dfb2",
   "metadata": {},
   "outputs": [
    {
     "data": {
      "text/plain": [
       "Index(['author', 'created_utc', 'id', 'is_original_content', 'link_flair_text',\n",
       "       'num_comments', 'num_crossposts', 'permalink', 'score', 'selftext',\n",
       "       'subreddit', 'subreddit_id', 'title', 'total_awards_received',\n",
       "       'upvote_ratio', 'author_created_utc', 'author_id'],\n",
       "      dtype='object')"
      ]
     },
     "execution_count": 198,
     "metadata": {},
     "output_type": "execute_result"
    }
   ],
   "source": [
    "priv_df.columns"
   ]
  },
  {
   "cell_type": "code",
   "execution_count": 206,
   "id": "d492af36-5f11-4c72-810a-2bbfef545961",
   "metadata": {},
   "outputs": [],
   "source": [
    "# priv_df[['id', 'permalink', 'link_flair_text', 'title', 'selftext']].to_excel('priv-reddit-posts2.xlsx')"
   ]
  },
  {
   "cell_type": "code",
   "execution_count": 200,
   "id": "ebf06c1f-d375-4977-ad87-f831d539fa53",
   "metadata": {},
   "outputs": [
    {
     "data": {
      "text/plain": [
       "12954    271\n",
       "71790    102\n",
       "52151     87\n",
       "8543      82\n",
       "54278     76\n",
       "        ... \n",
       "73364      0\n",
       "73366      0\n",
       "73433      0\n",
       "684        0\n",
       "945        0\n",
       "Name: num_comments, Length: 174, dtype: int64"
      ]
     },
     "execution_count": 200,
     "metadata": {},
     "output_type": "execute_result"
    }
   ],
   "source": [
    "priv_df.num_comments.sort_values(ascending=False)"
   ]
  },
  {
   "cell_type": "code",
   "execution_count": 201,
   "id": "203e01a9-8e35-487c-82a3-3d4cdab39b0a",
   "metadata": {},
   "outputs": [
    {
     "data": {
      "text/plain": [
       "68464     60\n",
       "6970      33\n",
       "155747    26\n",
       "96242     23\n",
       "5067      16\n",
       "          ..\n",
       "73366      1\n",
       "5021       0\n",
       "17503      0\n",
       "11520      0\n",
       "12205      0\n",
       "Name: score, Length: 174, dtype: int64"
      ]
     },
     "execution_count": 201,
     "metadata": {},
     "output_type": "execute_result"
    }
   ],
   "source": [
    "priv_df.score.sort_values(ascending=False)"
   ]
  },
  {
   "cell_type": "code",
   "execution_count": 202,
   "id": "2d906ec2-dc78-44a0-8b6a-121e31327f80",
   "metadata": {},
   "outputs": [
    {
     "data": {
      "text/plain": [
       "subreddit\n",
       "Professors     45\n",
       "Teachers       81\n",
       "k12sysadmin    43\n",
       "Name: selftext, dtype: int64"
      ]
     },
     "execution_count": 202,
     "metadata": {},
     "output_type": "execute_result"
    }
   ],
   "source": [
    "priv_df.groupby('subreddit').selftext.count()"
   ]
  },
  {
   "cell_type": "code",
   "execution_count": 203,
   "id": "f6b0f2d7-7d3e-4c8f-bbae-15fac393f2a2",
   "metadata": {},
   "outputs": [
    {
     "data": {
      "text/plain": [
       "array(['Policy &amp; Politics', 'Student',\n",
       "       'Teacher Support &amp;/or Advice', 'Resignation', 'New Teacher',\n",
       "       'Student Teacher Support &amp;/or Advice',\n",
       "       'RANT [Students/Parents]', 'Career &amp; Interview Advice', nan,\n",
       "       'Classroom Management &amp; Strategies', 'COVID-19',\n",
       "       'Bad Teacher, No Apple', 'Pedagogy &amp; Best Practices',\n",
       "       'SUCCESS!', 'Moderator Announcement', 'DISCUSSION :sloth:',\n",
       "       'Rants / Vents', 'Advice / Support'], dtype=object)"
      ]
     },
     "execution_count": 203,
     "metadata": {},
     "output_type": "execute_result"
    }
   ],
   "source": [
    "priv_df.link_flair_text.unique()"
   ]
  },
  {
   "cell_type": "code",
   "execution_count": 204,
   "id": "21d2aee4-e185-4a6e-bfa8-63eea55a1a37",
   "metadata": {},
   "outputs": [
    {
     "data": {
      "text/plain": [
       "link_flair_text\n",
       "Teacher Support &amp;/or Advice            21\n",
       "COVID-19                                    5\n",
       "Classroom Management &amp; Strategies       5\n",
       "New Teacher                                 4\n",
       "Student                                     4\n",
       "Bad Teacher, No Apple                       4\n",
       "Rants / Vents                               3\n",
       "Advice / Support                            3\n",
       "Policy &amp; Politics                       2\n",
       "Resignation                                 2\n",
       "Career &amp; Interview Advice               2\n",
       "Student Teacher Support &amp;/or Advice     2\n",
       "Pedagogy &amp; Best Practices               2\n",
       "Moderator Announcement                      1\n",
       "RANT [Students/Parents]                     1\n",
       "DISCUSSION :sloth:                          1\n",
       "SUCCESS!                                    1\n",
       "Name: selftext, dtype: int64"
      ]
     },
     "execution_count": 204,
     "metadata": {},
     "output_type": "execute_result"
    }
   ],
   "source": [
    "priv_df.groupby('link_flair_text').selftext.count().sort_values(ascending=False)"
   ]
  },
  {
   "cell_type": "code",
   "execution_count": null,
   "id": "a668aac5-08ef-4ec9-8ae4-431e8f883ca4",
   "metadata": {},
   "outputs": [],
   "source": []
  }
 ],
 "metadata": {
  "kernelspec": {
   "display_name": "edenv",
   "language": "python",
   "name": "edenv"
  },
  "language_info": {
   "codemirror_mode": {
    "name": "ipython",
    "version": 3
   },
   "file_extension": ".py",
   "mimetype": "text/x-python",
   "name": "python",
   "nbconvert_exporter": "python",
   "pygments_lexer": "ipython3",
   "version": "3.9.10"
  }
 },
 "nbformat": 4,
 "nbformat_minor": 5
}
