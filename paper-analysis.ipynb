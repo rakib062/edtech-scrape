{
 "cells": [
  {
   "cell_type": "code",
   "execution_count": 28,
   "id": "48c38049-54a6-43dd-9623-9a6cacce6528",
   "metadata": {},
   "outputs": [],
   "source": [
    "import os, sys, pickle, re\n",
    "from os.path import join\n",
    "import pandas as pd\n",
    "from matplotlib import pyplot as plt\n",
    "import numpy as np\n",
    "import fasttext as ft\n",
    "from tqdm import tqdm\n",
    "tqdm.pandas()\n",
    "sys.path.append('helpers/')\n",
    "from tweetokenize import *\n",
    "data_root= config.DATA_ROOT\n",
    "import text_processing, preprocess_tweet_data, config\n",
    "\n",
    "NUM_USR_PROF_CLUSTER= '10 20 30 40 50 80 100'\n",
    "ALGO_USR_PROF_CLUSTER='KMeans'\n",
    "\n",
    "DATA_ROOT = config.DATA_ROOT\n",
    "TWEET_USER_DF = join(DATA_ROOT, 'users-all.pkl') #containing profile info for all users\n",
    "TWEET_USER_DF_EN = join(DATA_ROOT, 'users-en.pkl') #containing profile info for users with (detected) 'en' description\n",
    "TWEET_USER_DF_EN_UNIQUE = join(DATA_ROOT, 'users-en-unique.pkl') #containing unique users with (detected) 'en' description\n",
    "TWEET_USER_PROFILE_TEXT = join(DATA_ROOT, 'tweet-profile-text-en.txt') #file containing cleaned profile descriptions\n",
    "CLEAN_TWEET_TEXT_EN = join(DATA_ROOT,'tweet-text-en.txt') #file containing cleaned tweet text\n",
    "PROFILE_WORD_WEIGHTS = join(DATA_ROOT, 'weights.wgt') #store profile word weights\n",
    "PROFILE_WORD_TFIDF = join(DATA_ROOT, 'tfidf') #store profile word tfidf scores\n",
    "PROFILE_FT_MODEL = join(DATA_ROOT, 'ft-profile-sg') #fasttext model for profle desc, using skipgram to catch semantic relationships\n",
    "TWEET_DF_FILE = join(DATA_ROOT, 'tweets-all.pkl')\n",
    "EN_TWEET_DF_FILE = join(DATA_ROOT,'tweets-en.pkl') #dataframe with english tweets \n",
    "PRIV_TWEET_DF = join(DATA_ROOT,'tweets-priv.pkl') #dataframe containing sec/priv related tweets \n",
    "PRIV_TWEET_TEXT = join(DATA_ROOT,'tweet-text-priv.txt') #file containing sec/priv tweet texts \n",
    "PRIV_TWEET_MODEL_PATH=join(DATA_ROOT, 'priv-tweet-models/') #directory for ft and cluster models for sec/priv related tweets\n",
    "PRIV_FT_MODEL  = join(PRIV_TWEET_MODEL_PATH, 'ft-priv-tweet-sg') #ft model name for sec/priv related tweets\n",
    "USR_CLUSTER_DIR = join(DATA_ROOT, 'profile-cluster-models') #directory to save profile cluster models and outputs\n",
    "USR_CLUSTER_MOD = join(USR_CLUSTER_DIR, 'model-KMeans-{}-0.model'.format(NUM_USR_PROF_CLUSTER))\n",
    "TWEET_TOPIC_DIR = join(DATA_ROOT, 'tweet-topic') #directory to contain topic models and outputs for tweets\n",
    "TWEET_SENTI_TRAIN_TEXT=join(DATA_ROOT,'tweet-senti-text.txt') #file containing text for training sentiment model\n",
    "\n",
    "tick_font=14\n",
    "lbl_font=15\n",
    "leg_font=16"
   ]
  },
  {
   "cell_type": "code",
   "execution_count": 7,
   "id": "93183198-f1b0-4ce7-ad6d-4b5bae0a83d4",
   "metadata": {},
   "outputs": [
    {
     "name": "stdout",
     "output_type": "stream",
     "text": [
      "# unique users:  3327801\n"
     ]
    },
    {
     "data": {
      "text/plain": [
       "profile_lang\n",
       "en    1695090\n",
       "NA    1235387\n",
       "es     142066\n",
       "fr      91536\n",
       "de      42593\n",
       "ja      18259\n",
       "ar      16073\n",
       "pt      15700\n",
       "nl      13779\n",
       "it      12737\n",
       "Name: username, dtype: int64"
      ]
     },
     "execution_count": 7,
     "metadata": {},
     "output_type": "execute_result"
    }
   ],
   "source": [
    "user_df = pd.read_pickle(TWEET_USER_DF)\n",
    "user_df = user_df[~user_df.index.duplicated(keep='first')] \n",
    "print('# unique users: ',len(user_df))\n",
    "\n",
    "user_df.groupby('profile_lang').username.count().sort_values(ascending=False).head(10)"
   ]
  },
  {
   "cell_type": "code",
   "execution_count": 6,
   "id": "b79502b1-fd2a-4ee1-90e6-2ea894ab3021",
   "metadata": {},
   "outputs": [
    {
     "name": "stdout",
     "output_type": "stream",
     "text": [
      "# unique english users:  1698096\n"
     ]
    }
   ],
   "source": [
    "user_df_en = pd.read_pickle(TWEET_USER_DF_EN_UNIQUE)\n",
    "print('# unique english users: ',len(user_df_en))"
   ]
  },
  {
   "cell_type": "code",
   "execution_count": null,
   "id": "3381952a-4aac-4afc-bdd6-978ad337e765",
   "metadata": {},
   "outputs": [],
   "source": [
    "tweet_df = pd.read_pickle(TWEET_DF_FILE)\n",
    "print('# tweets ', len(tweet_df))"
   ]
  },
  {
   "cell_type": "code",
   "execution_count": 10,
   "id": "c1fc36ce-070d-4068-8ed6-e182cea48ade",
   "metadata": {},
   "outputs": [
    {
     "name": "stdout",
     "output_type": "stream",
     "text": [
      "# en tweets  9745446\n"
     ]
    }
   ],
   "source": [
    "tweet_df_en = pd.read_pickle(EN_TWEET_DF_FILE)\n",
    "print('# en tweets ', len(tweet_df_en))"
   ]
  },
  {
   "cell_type": "code",
   "execution_count": 9,
   "id": "34645d4e-8295-4b58-8c7e-7bde594f0170",
   "metadata": {},
   "outputs": [
    {
     "data": {
      "text/plain": [
       "Index(['author_id', 'text', 'created_at', 'geo', 'retweets', 'replies',\n",
       "       'likes', 'quote_count', 'lang', 'conversation_id',\n",
       "       'context_annotations', 'entities', 'attachments', 'possibly_sensitive',\n",
       "       'withheld', 'reply_settings', 'source', 'search_term', 'clean_text',\n",
       "       'senti'],\n",
       "      dtype='object')"
      ]
     },
     "execution_count": 9,
     "metadata": {},
     "output_type": "execute_result"
    }
   ],
   "source": [
    "tweet_df_en.columns"
   ]
  },
  {
   "cell_type": "code",
   "execution_count": 12,
   "id": "bb1240f0-5d26-4d2b-8160-253cb8abe3fa",
   "metadata": {},
   "outputs": [
    {
     "data": {
      "text/plain": [
       "array(['techie', 'personal_brand', 'business_brand', 'unknown', 'news',\n",
       "       'academic', 'academic_techi'], dtype=object)"
      ]
     },
     "execution_count": 12,
     "metadata": {},
     "output_type": "execute_result"
    }
   ],
   "source": [
    "user_df_en.user_group.unique()"
   ]
  },
  {
   "cell_type": "code",
   "execution_count": null,
   "id": "18f2f919-852a-470e-a99a-d1f018e48ce3",
   "metadata": {},
   "outputs": [],
   "source": [
    "uids = set(user_df_en.index)\n",
    "tweet_df_en['author_group'] = tweet_df_en.progress_apply(lambda row: \n",
    "                                    user_df_en.loc[row.author_id].user_group if row.author_id in uids else 'Unknown', axis=1)"
   ]
  },
  {
   "cell_type": "code",
   "execution_count": null,
   "id": "b9a04b2a-02bc-49d4-abab-64de28670709",
   "metadata": {},
   "outputs": [],
   "source": [
    "tweet_df_en.groupby('author_group').author_id.count()"
   ]
  },
  {
   "cell_type": "code",
   "execution_count": null,
   "id": "5b9104aa-66d7-4ca0-a04c-7487a01e6791",
   "metadata": {},
   "outputs": [],
   "source": []
  },
  {
   "cell_type": "markdown",
   "id": "1c6b324e-fe68-4873-b378-18bb5fdefd1e",
   "metadata": {},
   "source": [
    "### Sec/Priv tweetsdf.to_pickle(data_root+'tweets-priv-processed.pkl')"
   ]
  },
  {
   "cell_type": "code",
   "execution_count": 22,
   "id": "26f18c1f-2985-422d-ab2f-6d25cdfbb730",
   "metadata": {},
   "outputs": [],
   "source": [
    "priv_df = pd.read_pickle(data_root+'tweets-priv-processed.pkl')"
   ]
  },
  {
   "cell_type": "markdown",
   "id": "05a9fb23-d8a5-4e34-b5fc-1a45d1530dbb",
   "metadata": {},
   "source": [
    "#### Perc. of tweets related to sec/priv across groups"
   ]
  },
  {
   "cell_type": "code",
   "execution_count": 34,
   "id": "e402fecd-aecf-4038-b52a-73ef4294bea2",
   "metadata": {},
   "outputs": [
    {
     "data": {
      "image/png": "[encoded data removed]",
      "text/plain": [
       "<Figure size 864x576 with 1 Axes>"
      ]
     },
     "metadata": {
      "needs_background": "light"
     },
     "output_type": "display_data"
    },
    {
     "name": "stdout",
     "output_type": "stream",
     "text": [
      "academic 8197 1.1325155052522358\n",
      "academic_techi 19170 1.0698428218401965\n",
      "business_brand 44097 4.647243870437408\n",
      "news 12314 5.780732144701386\n",
      "personal_brand 20846 1.822064231129276\n",
      "techie 4042 2.861410600386524\n"
     ]
    },
    {
     "data": {
      "text/plain": [
       "author_group    tweet_type\n",
       "academic        novel          6078\n",
       "                quote           119\n",
       "                reply          2000\n",
       "academic_techi  novel         15710\n",
       "                quote           547\n",
       "                reply          2913\n",
       "business_brand  novel         37210\n",
       "                quote          5697\n",
       "                reply          1190\n",
       "news            novel         11315\n",
       "                quote           455\n",
       "                reply           544\n",
       "personal_brand  novel         17838\n",
       "                quote          1788\n",
       "                reply          1220\n",
       "techie          novel          3288\n",
       "                quote           381\n",
       "                reply           373\n",
       "Name: text, dtype: int64"
      ]
     },
     "execution_count": 34,
     "metadata": {},
     "output_type": "execute_result"
    }
   ],
   "source": [
    "#Number of EN tweets across author groups\n",
    "en_tweet_count = {'academic': 723787, 'academic_techi': 1791852, 'business_brand':948885, 'news':213018, 'personal_brand':1144087, 'techie':141259}\n",
    "\n",
    "priv_df[priv_df.author_group!='unknown'].groupby(['author_group', 'tweet_type']).text.count().unstack().plot(kind='barh', width=.8, figsize=(12,8))\n",
    "plt.yticks(fontsize=tick_font)\n",
    "plt.xticks(fontsize=tick_font)\n",
    "plt.xlabel('count', fontsize=lbl_font)\n",
    "plt.ylabel('author group', fontsize=lbl_font)\n",
    "plt.legend(title=\"Tweet type\", title_fontsize=leg_font, fontsize=leg_font-2, fancybox=True)\n",
    "plt.show()\n",
    "\n",
    "for g in en_tweet_count.keys():\n",
    "    c=priv_df[priv_df.author_group==g].text.count()\n",
    "    print(g,c,c*100/en_tweet_count[g])\n",
    "\n",
    "priv_df[priv_df.author_group!='unknown'].groupby(['author_group', 'tweet_type']).text.count()"
   ]
  },
  {
   "cell_type": "code",
   "execution_count": 20,
   "id": "93e1d5a1-d74b-4ed9-9406-035e7d172cad",
   "metadata": {},
   "outputs": [
    {
     "data": {
      "text/plain": [
       "Index(['author_id', 'text', 'created_at', 'geo', 'retweets', 'replies',\n",
       "       'likes', 'quote_count', 'lang', 'conversation_id',\n",
       "       'context_annotations', 'entities', 'attachments', 'possibly_sensitive',\n",
       "       'withheld', 'reply_settings', 'source', 'search_term', 'senti', 'topic',\n",
       "       'text_clean_topic', 'text_clean_senti', 'topic_cos', 'topic_con',\n",
       "       'author_group'],\n",
       "      dtype='object')"
      ]
     },
     "execution_count": 20,
     "metadata": {},
     "output_type": "execute_result"
    }
   ],
   "source": [
    "priv_df.columns"
   ]
  },
  {
   "cell_type": "code",
   "execution_count": null,
   "id": "7a3a647a-29a4-4390-b995-005fd11ebdf7",
   "metadata": {},
   "outputs": [],
   "source": []
  }
 ],
 "metadata": {
  "kernelspec": {
   "display_name": "Python 3 (ipykernel)",
   "language": "python",
   "name": "python3"
  },
  "language_info": {
   "codemirror_mode": {
    "name": "ipython",
    "version": 3
   },
   "file_extension": ".py",
   "mimetype": "text/x-python",
   "name": "python",
   "nbconvert_exporter": "python",
   "pygments_lexer": "ipython3",
   "version": "3.9.10"
  }
 },
 "nbformat": 4,
 "nbformat_minor": 5
}
