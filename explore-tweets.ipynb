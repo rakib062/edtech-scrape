{
 "cells": [
  {
   "cell_type": "code",
   "execution_count": 36,
   "id": "cff32eeb-926b-4d0f-b0d0-67636deb0bae",
   "metadata": {},
   "outputs": [],
   "source": [
    "import wordcloud\n",
    "import pandas as pd\n",
    "from matplotlib import pyplot as plt\n",
    "import json\n",
    "pd.options.display.max_colwidth = 300"
   ]
  },
  {
   "cell_type": "code",
   "execution_count": 22,
   "id": "f5dbc8cc-a590-4e65-875d-afac8d275165",
   "metadata": {},
   "outputs": [
    {
     "name": "stdout",
     "output_type": "stream",
     "text": [
      "len(df):  4427\n",
      "len(df) after removing retweets :  4416\n"
     ]
    }
   ],
   "source": [
    "df=pd.read_pickle('/data/rakhasan/ed-tweet-data/tweets-search-@proctorio.pkl')\n",
    "print(\"len(df): \", len(df))\n",
    "df = df[df.apply(lambda tweet: tweet.text.startswith(\"RT\")==False, axis=1 )]\n",
    "print(\"len(df) after removing retweets : \", len(df))"
   ]
  },
  {
   "cell_type": "code",
   "execution_count": 23,
   "id": "95321b62-8d27-4ae5-933c-d24224546472",
   "metadata": {},
   "outputs": [
    {
     "data": {
      "text/plain": [
       "(4416, 17)"
      ]
     },
     "execution_count": 23,
     "metadata": {},
     "output_type": "execute_result"
    }
   ],
   "source": [
    "df.created_at=pd.to_datetime(df.created_at)\n",
    "df.shape"
   ]
  },
  {
   "cell_type": "code",
   "execution_count": 24,
   "id": "6e2ab38a-b201-45b0-b21e-cc3177c606bc",
   "metadata": {},
   "outputs": [
    {
     "data": {
      "text/html": [
       "<div>\n",
       "<style scoped>\n",
       "    .dataframe tbody tr th:only-of-type {\n",
       "        vertical-align: middle;\n",
       "    }\n",
       "\n",
       "    .dataframe tbody tr th {\n",
       "        vertical-align: top;\n",
       "    }\n",
       "\n",
       "    .dataframe thead th {\n",
       "        text-align: right;\n",
       "    }\n",
       "</style>\n",
       "<table border=\"1\" class=\"dataframe\">\n",
       "  <thead>\n",
       "    <tr style=\"text-align: right;\">\n",
       "      <th></th>\n",
       "      <th>author_id</th>\n",
       "      <th>text</th>\n",
       "      <th>created_at</th>\n",
       "      <th>geo</th>\n",
       "      <th>retweets</th>\n",
       "      <th>replies</th>\n",
       "      <th>likes</th>\n",
       "      <th>quote_count</th>\n",
       "      <th>lang</th>\n",
       "      <th>conversation_id</th>\n",
       "      <th>context_annotations</th>\n",
       "      <th>attachments</th>\n",
       "      <th>possibly_sensitive</th>\n",
       "      <th>withheld</th>\n",
       "      <th>reply_settings</th>\n",
       "      <th>source</th>\n",
       "    </tr>\n",
       "    <tr>\n",
       "      <th>tweetid</th>\n",
       "      <th></th>\n",
       "      <th></th>\n",
       "      <th></th>\n",
       "      <th></th>\n",
       "      <th></th>\n",
       "      <th></th>\n",
       "      <th></th>\n",
       "      <th></th>\n",
       "      <th></th>\n",
       "      <th></th>\n",
       "      <th></th>\n",
       "      <th></th>\n",
       "      <th></th>\n",
       "      <th></th>\n",
       "      <th></th>\n",
       "      <th></th>\n",
       "    </tr>\n",
       "  </thead>\n",
       "  <tbody>\n",
       "    <tr>\n",
       "      <th>1472783653478543368</th>\n",
       "      <td>1428520788534104065</td>\n",
       "      <td>@proctorio whoever created this lame ass shit needs to be dealt with coordinating… my semester is ending tomorrow and you decided today is the day to fuck with me and my grade. I’ve be trying for an hour to take this damn quiz. My last assignment to finish before the exam.</td>\n",
       "      <td>2021-12-20 04:19:20+00:00</td>\n",
       "      <td>NaN</td>\n",
       "      <td>0</td>\n",
       "      <td>1</td>\n",
       "      <td>0</td>\n",
       "      <td>0</td>\n",
       "      <td>en</td>\n",
       "      <td>1472783653478543368</td>\n",
       "      <td>[]</td>\n",
       "      <td>NaN</td>\n",
       "      <td>False</td>\n",
       "      <td>NaN</td>\n",
       "      <td>everyone</td>\n",
       "      <td>Twitter for iPhone</td>\n",
       "    </tr>\n",
       "    <tr>\n",
       "      <th>1471187007154098187</th>\n",
       "      <td>886430441451945985</td>\n",
       "      <td>I hope this leads to an avalanche of lawsuits that leaves @proctorio absolutely penniless and destitute https://t.co/H2TQ0nGVbI</td>\n",
       "      <td>2021-12-15 18:34:50+00:00</td>\n",
       "      <td>NaN</td>\n",
       "      <td>0</td>\n",
       "      <td>0</td>\n",
       "      <td>4</td>\n",
       "      <td>0</td>\n",
       "      <td>en</td>\n",
       "      <td>1471187007154098187</td>\n",
       "      <td>[]</td>\n",
       "      <td>NaN</td>\n",
       "      <td>False</td>\n",
       "      <td>NaN</td>\n",
       "      <td>everyone</td>\n",
       "      <td>Twitter for Android</td>\n",
       "    </tr>\n",
       "    <tr>\n",
       "      <th>1471186616685314050</th>\n",
       "      <td>886430441451945985</td>\n",
       "      <td>@artbykio yep it's already clear that @proctorio is more than willing to violate student privacy intentionally like when their CEO posted student chat logs online</td>\n",
       "      <td>2021-12-15 18:33:17+00:00</td>\n",
       "      <td>NaN</td>\n",
       "      <td>0</td>\n",
       "      <td>0</td>\n",
       "      <td>2</td>\n",
       "      <td>0</td>\n",
       "      <td>en</td>\n",
       "      <td>1471179038655926275</td>\n",
       "      <td>[]</td>\n",
       "      <td>NaN</td>\n",
       "      <td>False</td>\n",
       "      <td>NaN</td>\n",
       "      <td>everyone</td>\n",
       "      <td>Twitter for Android</td>\n",
       "    </tr>\n",
       "    <tr>\n",
       "      <th>1470904614891438085</th>\n",
       "      <td>17531694</td>\n",
       "      <td>On the topic of disclosure, I'd be interested to know if @proctorio's users - institutions, educators and students - were notified about this vulnerability. In my opinion it's wise to notify everyone ASAP.</td>\n",
       "      <td>2021-12-14 23:52:42+00:00</td>\n",
       "      <td>NaN</td>\n",
       "      <td>0</td>\n",
       "      <td>1</td>\n",
       "      <td>2</td>\n",
       "      <td>0</td>\n",
       "      <td>en</td>\n",
       "      <td>1470904609770291201</td>\n",
       "      <td>[{'domain': {'id': '65', 'name': 'Interests and Hobbies Vertical', 'description': 'Top level interests and hobbies groupings, like Food or Travel'}, 'entity': {'id': '847546154439000064', 'name': 'Education', 'description': 'Education through the lens of those passionate about resources and news...</td>\n",
       "      <td>NaN</td>\n",
       "      <td>False</td>\n",
       "      <td>NaN</td>\n",
       "      <td>everyone</td>\n",
       "      <td>chirr.app</td>\n",
       "    </tr>\n",
       "    <tr>\n",
       "      <th>1470904613352136707</th>\n",
       "      <td>17531694</td>\n",
       "      <td>From what I can see it doesn't look like @proctorio is paying for vulnerability reports; everything marked in scope is also marked ineligible for bounty. The rationale for @proctorio is that sometimes people need incentives to do the right thing... hackers might need them too!</td>\n",
       "      <td>2021-12-14 23:52:42+00:00</td>\n",
       "      <td>NaN</td>\n",
       "      <td>0</td>\n",
       "      <td>1</td>\n",
       "      <td>2</td>\n",
       "      <td>0</td>\n",
       "      <td>en</td>\n",
       "      <td>1470904609770291201</td>\n",
       "      <td>[]</td>\n",
       "      <td>NaN</td>\n",
       "      <td>False</td>\n",
       "      <td>NaN</td>\n",
       "      <td>everyone</td>\n",
       "      <td>chirr.app</td>\n",
       "    </tr>\n",
       "  </tbody>\n",
       "</table>\n",
       "</div>"
      ],
      "text/plain": [
       "                               author_id  \\\n",
       "tweetid                                    \n",
       "1472783653478543368  1428520788534104065   \n",
       "1471187007154098187   886430441451945985   \n",
       "1471186616685314050   886430441451945985   \n",
       "1470904614891438085             17531694   \n",
       "1470904613352136707             17531694   \n",
       "\n",
       "                                                                                                                                                                                                                                                                                                      text  \\\n",
       "tweetid                                                                                                                                                                                                                                                                                                      \n",
       "1472783653478543368      @proctorio whoever created this lame ass shit needs to be dealt with coordinating… my semester is ending tomorrow and you decided today is the day to fuck with me and my grade. I’ve be trying for an hour to take this damn quiz. My last assignment to finish before the exam.   \n",
       "1471187007154098187                                                                                                                                                        I hope this leads to an avalanche of lawsuits that leaves @proctorio absolutely penniless and destitute https://t.co/H2TQ0nGVbI   \n",
       "1471186616685314050                                                                                                                     @artbykio yep it's already clear that @proctorio is more than willing to violate student privacy intentionally like when their CEO posted student chat logs online   \n",
       "1470904614891438085                                                                          On the topic of disclosure, I'd be interested to know if @proctorio's users - institutions, educators and students - were notified about this vulnerability. In my opinion it's wise to notify everyone ASAP.   \n",
       "1470904613352136707  From what I can see it doesn't look like @proctorio is paying for vulnerability reports; everything marked in scope is also marked ineligible for bounty. The rationale for @proctorio is that sometimes people need incentives to do the right thing... hackers might need them too!   \n",
       "\n",
       "                                   created_at  geo  retweets  replies  likes  \\\n",
       "tweetid                                                                        \n",
       "1472783653478543368 2021-12-20 04:19:20+00:00  NaN         0        1      0   \n",
       "1471187007154098187 2021-12-15 18:34:50+00:00  NaN         0        0      4   \n",
       "1471186616685314050 2021-12-15 18:33:17+00:00  NaN         0        0      2   \n",
       "1470904614891438085 2021-12-14 23:52:42+00:00  NaN         0        1      2   \n",
       "1470904613352136707 2021-12-14 23:52:42+00:00  NaN         0        1      2   \n",
       "\n",
       "                     quote_count lang      conversation_id  \\\n",
       "tweetid                                                      \n",
       "1472783653478543368            0   en  1472783653478543368   \n",
       "1471187007154098187            0   en  1471187007154098187   \n",
       "1471186616685314050            0   en  1471179038655926275   \n",
       "1470904614891438085            0   en  1470904609770291201   \n",
       "1470904613352136707            0   en  1470904609770291201   \n",
       "\n",
       "                                                                                                                                                                                                                                                                                                             context_annotations  \\\n",
       "tweetid                                                                                                                                                                                                                                                                                                                            \n",
       "1472783653478543368                                                                                                                                                                                                                                                                                                           []   \n",
       "1471187007154098187                                                                                                                                                                                                                                                                                                           []   \n",
       "1471186616685314050                                                                                                                                                                                                                                                                                                           []   \n",
       "1470904614891438085  [{'domain': {'id': '65', 'name': 'Interests and Hobbies Vertical', 'description': 'Top level interests and hobbies groupings, like Food or Travel'}, 'entity': {'id': '847546154439000064', 'name': 'Education', 'description': 'Education through the lens of those passionate about resources and news...   \n",
       "1470904613352136707                                                                                                                                                                                                                                                                                                           []   \n",
       "\n",
       "                    attachments  possibly_sensitive  withheld reply_settings  \\\n",
       "tweetid                                                                        \n",
       "1472783653478543368         NaN               False       NaN       everyone   \n",
       "1471187007154098187         NaN               False       NaN       everyone   \n",
       "1471186616685314050         NaN               False       NaN       everyone   \n",
       "1470904614891438085         NaN               False       NaN       everyone   \n",
       "1470904613352136707         NaN               False       NaN       everyone   \n",
       "\n",
       "                                  source  \n",
       "tweetid                                   \n",
       "1472783653478543368   Twitter for iPhone  \n",
       "1471187007154098187  Twitter for Android  \n",
       "1471186616685314050  Twitter for Android  \n",
       "1470904614891438085            chirr.app  \n",
       "1470904613352136707            chirr.app  "
      ]
     },
     "execution_count": 24,
     "metadata": {},
     "output_type": "execute_result"
    }
   ],
   "source": [
    "df.set_index('tweetid', inplace=True)\n",
    "df.head()"
   ]
  },
  {
   "cell_type": "markdown",
   "id": "3a979b5c-aa3c-43db-814c-f313973d3ea8",
   "metadata": {},
   "source": [
    "### Is there any keyword related to privacy?"
   ]
  },
  {
   "cell_type": "code",
   "execution_count": 25,
   "id": "7ed65370-bcaf-4bcf-8d58-533d032adc4a",
   "metadata": {},
   "outputs": [],
   "source": [
    "def contains_any_keyword(text, kws):\n",
    "    for kw in kws:\n",
    "        if kw in text:\n",
    "            return True\n",
    "    return False"
   ]
  },
  {
   "cell_type": "code",
   "execution_count": 26,
   "id": "2fc140c6-eed8-4888-ae9e-47f5babadd92",
   "metadata": {},
   "outputs": [],
   "source": [
    "sec_priv_kws = ['privacy', 'security', 'surveillane', 'surveil', 'harm']\n",
    "priv_tweets_df = df[df.apply(lambda tweet: contains_any_keyword(tweet.text, sec_priv_kws), axis=1)]"
   ]
  },
  {
   "cell_type": "code",
   "execution_count": 27,
   "id": "578f2008-5d3a-43e4-94d1-fe772cf6ba4a",
   "metadata": {},
   "outputs": [
    {
     "data": {
      "text/plain": [
       "270"
      ]
     },
     "execution_count": 27,
     "metadata": {},
     "output_type": "execute_result"
    }
   ],
   "source": [
    "len(priv_tweets_df)"
   ]
  },
  {
   "cell_type": "code",
   "execution_count": 46,
   "id": "3cbb4676-bcb6-4413-ab13-7e2e043444b2",
   "metadata": {},
   "outputs": [
    {
     "data": {
      "text/html": [
       "<div>\n",
       "<style scoped>\n",
       "    .dataframe tbody tr th:only-of-type {\n",
       "        vertical-align: middle;\n",
       "    }\n",
       "\n",
       "    .dataframe tbody tr th {\n",
       "        vertical-align: top;\n",
       "    }\n",
       "\n",
       "    .dataframe thead th {\n",
       "        text-align: right;\n",
       "    }\n",
       "</style>\n",
       "<table border=\"1\" class=\"dataframe\">\n",
       "  <thead>\n",
       "    <tr style=\"text-align: right;\">\n",
       "      <th></th>\n",
       "      <th>text</th>\n",
       "      <th>context_annotations</th>\n",
       "    </tr>\n",
       "    <tr>\n",
       "      <th>tweetid</th>\n",
       "      <th></th>\n",
       "      <th></th>\n",
       "    </tr>\n",
       "  </thead>\n",
       "  <tbody>\n",
       "    <tr>\n",
       "      <th>1362150967190429696</th>\n",
       "      <td>@proctorio\\n is one of the most useless and unprofessional applications which is against all of the privacy rules while making the assessments completely insane!\\n#proctorio #OnlineExams #COVID19</td>\n",
       "      <td>[{'domain': {'id': '123', 'name': 'Ongoing News Story', 'description': \"Ongoing News Stories like 'Brexit'\"}, 'entity': {'id': '1220701888179359745', 'name': 'COVID-19'}}]</td>\n",
       "    </tr>\n",
       "    <tr>\n",
       "      <th>859526819350953984</th>\n",
       "      <td>An elegant #onlineproctoring solution:\\nInstitutions control exam recordings &amp;amp; student data w/ @proctorio\\nhttps://t.co/2h8i1R2BSq\\n#privacy</td>\n",
       "      <td>[]</td>\n",
       "    </tr>\n",
       "    <tr>\n",
       "      <th>1359583594533027840</th>\n",
       "      <td>#BanEProctoring @MHEducation. @Proctorio is privacy-violating https://t.co/0pxsUxgSyw</td>\n",
       "      <td>[]</td>\n",
       "    </tr>\n",
       "    <tr>\n",
       "      <th>1166553485967421440</th>\n",
       "      <td>@proctorio @odsbodkins Will do. Lots of questions. But, again, these platforms begin with a premise that I reject: that students are cheaters who should be surveilled and given a \"suspicion report\" Cc @CoreySparks @actualham @Jessifer @slamteacher @OnlineCrsLady @TheTattooedProf @budtheteacher #...</td>\n",
       "      <td>[]</td>\n",
       "    </tr>\n",
       "    <tr>\n",
       "      <th>1331633110920806401</th>\n",
       "      <td>Within days of the lockdown, this technological oppression raced up the privilege gradient in the form of \"invigilation\" software like @proctorio, cruel surveillance tools inflicted on university students. The company is pursuing its critics in court.\\n\\nhttps://t.co/4vNQGLSwpw\\n\\n6/</td>\n",
       "      <td>[{'domain': {'id': '10', 'name': 'Person', 'description': 'Named people in the world like Nelson Mandela'}, 'entity': {'id': '1070710936732758016', 'name': 'Cory Doctorow', 'description': 'Canadian-British blogger, journalist, and science fiction author'}}, {'domain': {'id': '94', 'name': 'Journ...</td>\n",
       "    </tr>\n",
       "    <tr>\n",
       "      <th>1258118087708217345</th>\n",
       "      <td>We're so excited to be partnering with @proctorio - our Connect platform now has additional capabilities that help support academic integrity and assessment security. Check out CEO Mike Olsen's post to learn more:  https://t.co/lC8QQ6LAwz</td>\n",
       "      <td>[]</td>\n",
       "    </tr>\n",
       "    <tr>\n",
       "      <th>1359717349717327874</th>\n",
       "      <td>#BanEProctoring @MHEducation. @Proctorio is cruel, and needs to be put down to prevent itself from targeting colored students as threats for educated rights and privacy. Time for McGraw-Hill to kick out Proctorio now! https://t.co/Gcd7uPbXdb</td>\n",
       "      <td>[]</td>\n",
       "    </tr>\n",
       "    <tr>\n",
       "      <th>1359559318408998913</th>\n",
       "      <td>The pandemic is no excuse to disrespect and surveil students with deeply problematic apps such as @Proctorio. Today we call on @MHEducation to immediately end their partnership with #Proctorio and #BanEProctoring. Join us: https://t.co/jM9zpr3ysd</td>\n",
       "      <td>[{'domain': {'id': '123', 'name': 'Ongoing News Story', 'description': \"Ongoing News Stories like 'Brexit'\"}, 'entity': {'id': '1220701888179359745', 'name': 'COVID-19'}}]</td>\n",
       "    </tr>\n",
       "    <tr>\n",
       "      <th>1312960813280292864</th>\n",
       "      <td>totally shocked that nobody has sued @laccd yet for use of @proctorio - completely invasive, students &amp;amp; families deserve right to privacy.. room scan absolutely violates this. Videos of ppls homes &amp;amp; ID's on some server. shouldn't be a choice btwn education &amp;amp; privacy. @HansenTong</td>\n",
       "      <td>[]</td>\n",
       "    </tr>\n",
       "    <tr>\n",
       "      <th>1278410246252355589</th>\n",
       "      <td>I see a lot of tech companies being really terrible with privacy issues, but it’s almost perversely refreshing to see @proctorio’s CEO be so bold about it 😰 https://t.co/dlh5iQ4yVS</td>\n",
       "      <td>[{'domain': {'id': '46', 'name': 'Brand Category', 'description': 'Categories within Brand Verticals that narrow down the scope of Brands'}, 'entity': {'id': '781974596157181956', 'name': 'Online Site'}}, {'domain': {'id': '47', 'name': 'Brand', 'description': 'Brands and Companies'}, 'entity': ...</td>\n",
       "    </tr>\n",
       "  </tbody>\n",
       "</table>\n",
       "</div>"
      ],
      "text/plain": [
       "                                                                                                                                                                                                                                                                                                                            text  \\\n",
       "tweetid                                                                                                                                                                                                                                                                                                                            \n",
       "1362150967190429696                                                                                                          @proctorio\\n is one of the most useless and unprofessional applications which is against all of the privacy rules while making the assessments completely insane!\\n#proctorio #OnlineExams #COVID19   \n",
       "859526819350953984                                                                                                                                                              An elegant #onlineproctoring solution:\\nInstitutions control exam recordings &amp; student data w/ @proctorio\\nhttps://t.co/2h8i1R2BSq\\n#privacy   \n",
       "1359583594533027840                                                                                                                                                                                                                        #BanEProctoring @MHEducation. @Proctorio is privacy-violating https://t.co/0pxsUxgSyw   \n",
       "1166553485967421440  @proctorio @odsbodkins Will do. Lots of questions. But, again, these platforms begin with a premise that I reject: that students are cheaters who should be surveilled and given a \"suspicion report\" Cc @CoreySparks @actualham @Jessifer @slamteacher @OnlineCrsLady @TheTattooedProf @budtheteacher #...   \n",
       "1331633110920806401                 Within days of the lockdown, this technological oppression raced up the privilege gradient in the form of \"invigilation\" software like @proctorio, cruel surveillance tools inflicted on university students. The company is pursuing its critics in court.\\n\\nhttps://t.co/4vNQGLSwpw\\n\\n6/   \n",
       "1258118087708217345                                                               We're so excited to be partnering with @proctorio - our Connect platform now has additional capabilities that help support academic integrity and assessment security. Check out CEO Mike Olsen's post to learn more:  https://t.co/lC8QQ6LAwz   \n",
       "1359717349717327874                                                            #BanEProctoring @MHEducation. @Proctorio is cruel, and needs to be put down to prevent itself from targeting colored students as threats for educated rights and privacy. Time for McGraw-Hill to kick out Proctorio now! https://t.co/Gcd7uPbXdb   \n",
       "1359559318408998913                                                       The pandemic is no excuse to disrespect and surveil students with deeply problematic apps such as @Proctorio. Today we call on @MHEducation to immediately end their partnership with #Proctorio and #BanEProctoring. Join us: https://t.co/jM9zpr3ysd   \n",
       "1312960813280292864          totally shocked that nobody has sued @laccd yet for use of @proctorio - completely invasive, students &amp; families deserve right to privacy.. room scan absolutely violates this. Videos of ppls homes &amp; ID's on some server. shouldn't be a choice btwn education &amp; privacy. @HansenTong   \n",
       "1278410246252355589                                                                                                                         I see a lot of tech companies being really terrible with privacy issues, but it’s almost perversely refreshing to see @proctorio’s CEO be so bold about it 😰 https://t.co/dlh5iQ4yVS   \n",
       "\n",
       "                                                                                                                                                                                                                                                                                                             context_annotations  \n",
       "tweetid                                                                                                                                                                                                                                                                                                                           \n",
       "1362150967190429696                                                                                                                                  [{'domain': {'id': '123', 'name': 'Ongoing News Story', 'description': \"Ongoing News Stories like 'Brexit'\"}, 'entity': {'id': '1220701888179359745', 'name': 'COVID-19'}}]  \n",
       "859526819350953984                                                                                                                                                                                                                                                                                                            []  \n",
       "1359583594533027840                                                                                                                                                                                                                                                                                                           []  \n",
       "1166553485967421440                                                                                                                                                                                                                                                                                                           []  \n",
       "1331633110920806401  [{'domain': {'id': '10', 'name': 'Person', 'description': 'Named people in the world like Nelson Mandela'}, 'entity': {'id': '1070710936732758016', 'name': 'Cory Doctorow', 'description': 'Canadian-British blogger, journalist, and science fiction author'}}, {'domain': {'id': '94', 'name': 'Journ...  \n",
       "1258118087708217345                                                                                                                                                                                                                                                                                                           []  \n",
       "1359717349717327874                                                                                                                                                                                                                                                                                                           []  \n",
       "1359559318408998913                                                                                                                                  [{'domain': {'id': '123', 'name': 'Ongoing News Story', 'description': \"Ongoing News Stories like 'Brexit'\"}, 'entity': {'id': '1220701888179359745', 'name': 'COVID-19'}}]  \n",
       "1312960813280292864                                                                                                                                                                                                                                                                                                           []  \n",
       "1278410246252355589  [{'domain': {'id': '46', 'name': 'Brand Category', 'description': 'Categories within Brand Verticals that narrow down the scope of Brands'}, 'entity': {'id': '781974596157181956', 'name': 'Online Site'}}, {'domain': {'id': '47', 'name': 'Brand', 'description': 'Brands and Companies'}, 'entity': ...  "
      ]
     },
     "execution_count": 46,
     "metadata": {},
     "output_type": "execute_result"
    }
   ],
   "source": [
    "priv_tweets_df.sample(10)[['text','context_annotations']]"
   ]
  },
  {
   "cell_type": "code",
   "execution_count": 44,
   "id": "2577c227-fa92-41f5-84a1-530c1bb30c6c",
   "metadata": {},
   "outputs": [
    {
     "data": {
      "text/plain": [
       "\"[{'domain': {'id': '46', 'name': 'Brand Category', 'description': 'Categories within Brand Verticals that narrow down the scope of Brands'}, 'entity': {'id': '781974596752842752', 'name': 'Services'}}, {'domain': {'id': '47', 'name': 'Brand', 'description': 'Brands and Companies'}, 'entity': {'id': '10045225402', 'name': 'Twitter'}}, {'domain': {'id': '46', 'name': 'Brand Category', 'description': 'Categories within Brand Verticals that narrow down the scope of Brands'}, 'entity': {'id': '781974596157181956', 'name': 'Online Site'}}, {'domain': {'id': '47', 'name': 'Brand', 'description': 'Brands and Companies'}, 'entity': {'id': '10046838569', 'name': 'Reddit'}}, {'domain': {'id': '65', 'name': 'Interests and Hobbies Vertical', 'description': 'Top level interests and hobbies groupings, like Food or Travel'}, 'entity': {'id': '847546154439000064', 'name': 'Education', 'description': 'Education through the lens of those passionate about resources and news. This topic excludes Education policy and reform.'}}, {'domain': {'id': '65', 'name': 'Interests and Hobbies Vertical', 'description': 'Top level interests and hobbies groupings, like Food or Travel'}, 'entity': {'id': '847868745150119936', 'name': 'Home & family', 'description': 'Hobbies and interests'}}]\""
      ]
     },
     "execution_count": 44,
     "metadata": {},
     "output_type": "execute_result"
    }
   ],
   "source": [
    "ca=priv_tweets_df.loc[1299827782961119233].context_annotations\n",
    "ca"
   ]
  },
  {
   "cell_type": "code",
   "execution_count": null,
   "id": "4a81f87f-4a1f-42bc-acbb-e0510ba23895",
   "metadata": {},
   "outputs": [],
   "source": []
  }
 ],
 "metadata": {
  "kernelspec": {
   "display_name": "py37-env",
   "language": "python",
   "name": "py37-env"
  },
  "language_info": {
   "codemirror_mode": {
    "name": "ipython",
    "version": 3
   },
   "file_extension": ".py",
   "mimetype": "text/x-python",
   "name": "python",
   "nbconvert_exporter": "python",
   "pygments_lexer": "ipython3",
   "version": "3.7.7"
  }
 },
 "nbformat": 4,
 "nbformat_minor": 5
}
