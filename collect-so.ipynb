{
 "cells": [
  {
   "cell_type": "code",
   "execution_count": 1,
   "id": "eb1d71d3",
   "metadata": {},
   "outputs": [],
   "source": [
    "from stackapi import StackAPI\n",
    "SITE = StackAPI('stackoverflow')\n"
   ]
  },
  {
   "cell_type": "code",
   "execution_count": 30,
   "id": "62a225a1",
   "metadata": {},
   "outputs": [
    {
     "data": {
      "text/plain": [
       "500"
      ]
     },
     "execution_count": 30,
     "metadata": {},
     "output_type": "execute_result"
    }
   ],
   "source": [
    "questions = SITE.fetch('questions', \n",
    "#                        fromdate=datetime(2011,11,11),\n",
    "#                        todate=datetime(2011,11,19),\n",
    "#                        min=10, sort='votes', \n",
    "                       tagged='google-apps-for-education')\n",
    "len(questions['items'])"
   ]
  },
  {
   "cell_type": "code",
   "execution_count": 31,
   "id": "ca8f013e",
   "metadata": {},
   "outputs": [
    {
     "data": {
      "text/plain": [
       "{'tags': ['php', 'google-api', 'google-api-php-client', 'google-classroom'],\n",
       " 'owner': {'reputation': 33,\n",
       "  'user_id': 14519415,\n",
       "  'user_type': 'registered',\n",
       "  'profile_image': 'https://lh3.googleusercontent.com/a-/AOh14GgP5SN3_ceIeWq3W6EuQuvGMEpattAj9Q3hW7hh=k-s256',\n",
       "  'display_name': 'Mahmud',\n",
       "  'link': 'https://stackoverflow.com/users/14519415/mahmud'},\n",
       " 'is_answered': False,\n",
       " 'view_count': 16,\n",
       " 'answer_count': 0,\n",
       " 'score': 0,\n",
       " 'last_activity_date': 1636469045,\n",
       " 'creation_date': 1636468513,\n",
       " 'last_edit_date': 1636469045,\n",
       " 'question_id': 69900022,\n",
       " 'content_license': 'CC BY-SA 4.0',\n",
       " 'link': 'https://stackoverflow.com/questions/69900022/how-to-decrease-retrieve-time-to-get-all-submission-for-a-single-course-from-goo',\n",
       " 'title': 'How to decrease retrieve time to get all submission for a single course from Google Classroom using API'}"
      ]
     },
     "execution_count": 31,
     "metadata": {},
     "output_type": "execute_result"
    }
   ],
   "source": [
    "questions['items'][0]"
   ]
  },
  {
   "cell_type": "markdown",
   "id": "00770895",
   "metadata": {},
   "source": [
    "## Reddit"
   ]
  },
  {
   "cell_type": "code",
   "execution_count": 1,
   "id": "ab82ac6e",
   "metadata": {},
   "outputs": [],
   "source": [
    "import pandas as pd\n",
    "from pmaw import PushshiftAPI\n",
    "api = PushshiftAPI()"
   ]
  },
  {
   "cell_type": "code",
   "execution_count": 2,
   "id": "713f72e3",
   "metadata": {},
   "outputs": [],
   "source": []
  },
  {
   "cell_type": "code",
   "execution_count": 3,
   "id": "425a7653",
   "metadata": {},
   "outputs": [
    {
     "name": "stdout",
     "output_type": "stream",
     "text": [
      "INFO:pmaw.PushshiftAPIBase:Total:: Success Rate: 100.00% - Requests: 1 - Batches: 1 - Items Remaining: 0\n",
      "Retrieved 10 comments from Pushshift\n"
     ]
    }
   ],
   "source": [
    "subreddit=\"wallstreetbets\"\n",
    "limit=10#0000\n",
    "comments = api.search_comments(subreddit=subreddit, limit=limit, before=before, after=after)\n",
    "print(f'Retrieved {len(comments)} comments from Pushshift')"
   ]
  },
  {
   "cell_type": "code",
   "execution_count": 4,
   "id": "34e231aa",
   "metadata": {},
   "outputs": [
    {
     "data": {
      "text/html": [
       "<div>\n",
       "<style scoped>\n",
       "    .dataframe tbody tr th:only-of-type {\n",
       "        vertical-align: middle;\n",
       "    }\n",
       "\n",
       "    .dataframe tbody tr th {\n",
       "        vertical-align: top;\n",
       "    }\n",
       "\n",
       "    .dataframe thead th {\n",
       "        text-align: right;\n",
       "    }\n",
       "</style>\n",
       "<table border=\"1\" class=\"dataframe\">\n",
       "  <thead>\n",
       "    <tr style=\"text-align: right;\">\n",
       "      <th></th>\n",
       "      <th>all_awardings</th>\n",
       "      <th>associated_award</th>\n",
       "      <th>author</th>\n",
       "      <th>author_flair_background_color</th>\n",
       "      <th>author_flair_css_class</th>\n",
       "      <th>author_flair_richtext</th>\n",
       "      <th>author_flair_template_id</th>\n",
       "      <th>author_flair_text</th>\n",
       "      <th>author_flair_text_color</th>\n",
       "      <th>author_flair_type</th>\n",
       "      <th>...</th>\n",
       "      <th>permalink</th>\n",
       "      <th>retrieved_on</th>\n",
       "      <th>score</th>\n",
       "      <th>send_replies</th>\n",
       "      <th>stickied</th>\n",
       "      <th>subreddit</th>\n",
       "      <th>subreddit_id</th>\n",
       "      <th>top_awarded_type</th>\n",
       "      <th>total_awards_received</th>\n",
       "      <th>treatment_tags</th>\n",
       "    </tr>\n",
       "  </thead>\n",
       "  <tbody>\n",
       "    <tr>\n",
       "      <th>0</th>\n",
       "      <td>[]</td>\n",
       "      <td>None</td>\n",
       "      <td>UTV_</td>\n",
       "      <td></td>\n",
       "      <td>None</td>\n",
       "      <td>[{'e': 'text', 't': '\u001b201128:3:1'}]</td>\n",
       "      <td>None</td>\n",
       "      <td>\u001b201128:3:1</td>\n",
       "      <td>dark</td>\n",
       "      <td>richtext</td>\n",
       "      <td>...</td>\n",
       "      <td>/r/wallstreetbets/comments/kbb812/weekend_disc...</td>\n",
       "      <td>1607854178</td>\n",
       "      <td>2</td>\n",
       "      <td>True</td>\n",
       "      <td>False</td>\n",
       "      <td>wallstreetbets</td>\n",
       "      <td>t5_2th52</td>\n",
       "      <td>None</td>\n",
       "      <td>0</td>\n",
       "      <td>[]</td>\n",
       "    </tr>\n",
       "    <tr>\n",
       "      <th>1</th>\n",
       "      <td>[]</td>\n",
       "      <td>None</td>\n",
       "      <td>Responsible_Virus</td>\n",
       "      <td>None</td>\n",
       "      <td>None</td>\n",
       "      <td>[]</td>\n",
       "      <td>None</td>\n",
       "      <td>None</td>\n",
       "      <td>None</td>\n",
       "      <td>text</td>\n",
       "      <td>...</td>\n",
       "      <td>/r/wallstreetbets/comments/kb3gvk/still_counts...</td>\n",
       "      <td>1607854177</td>\n",
       "      <td>1</td>\n",
       "      <td>True</td>\n",
       "      <td>False</td>\n",
       "      <td>wallstreetbets</td>\n",
       "      <td>t5_2th52</td>\n",
       "      <td>None</td>\n",
       "      <td>0</td>\n",
       "      <td>[]</td>\n",
       "    </tr>\n",
       "    <tr>\n",
       "      <th>2</th>\n",
       "      <td>[]</td>\n",
       "      <td>None</td>\n",
       "      <td>I_love_boobs86</td>\n",
       "      <td>None</td>\n",
       "      <td>None</td>\n",
       "      <td>[]</td>\n",
       "      <td>None</td>\n",
       "      <td>None</td>\n",
       "      <td>None</td>\n",
       "      <td>text</td>\n",
       "      <td>...</td>\n",
       "      <td>/r/wallstreetbets/comments/kbb812/weekend_disc...</td>\n",
       "      <td>1607854174</td>\n",
       "      <td>4</td>\n",
       "      <td>True</td>\n",
       "      <td>False</td>\n",
       "      <td>wallstreetbets</td>\n",
       "      <td>t5_2th52</td>\n",
       "      <td>None</td>\n",
       "      <td>0</td>\n",
       "      <td>[]</td>\n",
       "    </tr>\n",
       "    <tr>\n",
       "      <th>3</th>\n",
       "      <td>[]</td>\n",
       "      <td>None</td>\n",
       "      <td>dameLillardManiac</td>\n",
       "      <td>#ffdf00</td>\n",
       "      <td>None</td>\n",
       "      <td>[{'e': 'text', 't': 'Gay is OK'}]</td>\n",
       "      <td>5b951270-9b43-11e8-8a57-0e532bbfe7e8</td>\n",
       "      <td>Gay is OK</td>\n",
       "      <td>dark</td>\n",
       "      <td>richtext</td>\n",
       "      <td>...</td>\n",
       "      <td>/r/wallstreetbets/comments/kbb812/weekend_disc...</td>\n",
       "      <td>1607854167</td>\n",
       "      <td>-7</td>\n",
       "      <td>True</td>\n",
       "      <td>False</td>\n",
       "      <td>wallstreetbets</td>\n",
       "      <td>t5_2th52</td>\n",
       "      <td>None</td>\n",
       "      <td>0</td>\n",
       "      <td>[]</td>\n",
       "    </tr>\n",
       "    <tr>\n",
       "      <th>4</th>\n",
       "      <td>[]</td>\n",
       "      <td>None</td>\n",
       "      <td>ihatethelivingdead</td>\n",
       "      <td>None</td>\n",
       "      <td>None</td>\n",
       "      <td>[]</td>\n",
       "      <td>None</td>\n",
       "      <td>None</td>\n",
       "      <td>None</td>\n",
       "      <td>text</td>\n",
       "      <td>...</td>\n",
       "      <td>/r/wallstreetbets/comments/kc1j8j/if_yall_were...</td>\n",
       "      <td>1607854155</td>\n",
       "      <td>2</td>\n",
       "      <td>True</td>\n",
       "      <td>False</td>\n",
       "      <td>wallstreetbets</td>\n",
       "      <td>t5_2th52</td>\n",
       "      <td>None</td>\n",
       "      <td>0</td>\n",
       "      <td>[]</td>\n",
       "    </tr>\n",
       "  </tbody>\n",
       "</table>\n",
       "<p>5 rows × 35 columns</p>\n",
       "</div>"
      ],
      "text/plain": [
       "  all_awardings associated_award              author  \\\n",
       "0            []             None                UTV_   \n",
       "1            []             None   Responsible_Virus   \n",
       "2            []             None      I_love_boobs86   \n",
       "3            []             None   dameLillardManiac   \n",
       "4            []             None  ihatethelivingdead   \n",
       "\n",
       "  author_flair_background_color author_flair_css_class  \\\n",
       "0                                                 None   \n",
       "1                          None                   None   \n",
       "2                          None                   None   \n",
       "3                       #ffdf00                   None   \n",
       "4                          None                   None   \n",
       "\n",
       "                 author_flair_richtext              author_flair_template_id  \\\n",
       "0  [{'e': 'text', 't': '\u001b201128:3:1'}]                                  None   \n",
       "1                                   []                                  None   \n",
       "2                                   []                                  None   \n",
       "3    [{'e': 'text', 't': 'Gay is OK'}]  5b951270-9b43-11e8-8a57-0e532bbfe7e8   \n",
       "4                                   []                                  None   \n",
       "\n",
       "  author_flair_text author_flair_text_color author_flair_type  ...  \\\n",
       "0       \u001b201128:3:1                    dark          richtext  ...   \n",
       "1              None                    None              text  ...   \n",
       "2              None                    None              text  ...   \n",
       "3         Gay is OK                    dark          richtext  ...   \n",
       "4              None                    None              text  ...   \n",
       "\n",
       "                                           permalink  retrieved_on  score  \\\n",
       "0  /r/wallstreetbets/comments/kbb812/weekend_disc...    1607854178      2   \n",
       "1  /r/wallstreetbets/comments/kb3gvk/still_counts...    1607854177      1   \n",
       "2  /r/wallstreetbets/comments/kbb812/weekend_disc...    1607854174      4   \n",
       "3  /r/wallstreetbets/comments/kbb812/weekend_disc...    1607854167     -7   \n",
       "4  /r/wallstreetbets/comments/kc1j8j/if_yall_were...    1607854155      2   \n",
       "\n",
       "  send_replies stickied       subreddit subreddit_id  top_awarded_type  \\\n",
       "0         True    False  wallstreetbets     t5_2th52              None   \n",
       "1         True    False  wallstreetbets     t5_2th52              None   \n",
       "2         True    False  wallstreetbets     t5_2th52              None   \n",
       "3         True    False  wallstreetbets     t5_2th52              None   \n",
       "4         True    False  wallstreetbets     t5_2th52              None   \n",
       "\n",
       "  total_awards_received treatment_tags  \n",
       "0                     0             []  \n",
       "1                     0             []  \n",
       "2                     0             []  \n",
       "3                     0             []  \n",
       "4                     0             []  \n",
       "\n",
       "[5 rows x 35 columns]"
      ]
     },
     "execution_count": 4,
     "metadata": {},
     "output_type": "execute_result"
    }
   ],
   "source": [
    "comments_df = pd.DataFrame(comments)\n",
    "# preview the comments data\n",
    "comments_df.head(5)"
   ]
  },
  {
   "cell_type": "code",
   "execution_count": 5,
   "id": "22802199",
   "metadata": {},
   "outputs": [
    {
     "data": {
      "text/plain": [
       "Index(['all_awardings', 'associated_award', 'author',\n",
       "       'author_flair_background_color', 'author_flair_css_class',\n",
       "       'author_flair_richtext', 'author_flair_template_id',\n",
       "       'author_flair_text', 'author_flair_text_color', 'author_flair_type',\n",
       "       'author_fullname', 'author_patreon_flair', 'author_premium', 'awarders',\n",
       "       'body', 'collapsed_because_crowd_control', 'comment_type',\n",
       "       'created_utc', 'gildings', 'id', 'is_submitter', 'link_id', 'locked',\n",
       "       'no_follow', 'parent_id', 'permalink', 'retrieved_on', 'score',\n",
       "       'send_replies', 'stickied', 'subreddit', 'subreddit_id',\n",
       "       'top_awarded_type', 'total_awards_received', 'treatment_tags'],\n",
       "      dtype='object')"
      ]
     },
     "execution_count": 5,
     "metadata": {},
     "output_type": "execute_result"
    }
   ],
   "source": [
    "comments_df.columns\n"
   ]
  },
  {
   "cell_type": "code",
   "execution_count": null,
   "id": "961e7086",
   "metadata": {},
   "outputs": [],
   "source": []
  }
 ],
 "metadata": {
  "kernelspec": {
   "display_name": "Python 3 (ipykernel)",
   "language": "python",
   "name": "python3"
  },
  "language_info": {
   "codemirror_mode": {
    "name": "ipython",
    "version": 3
   },
   "file_extension": ".py",
   "mimetype": "text/x-python",
   "name": "python",
   "nbconvert_exporter": "python",
   "pygments_lexer": "ipython3",
   "version": "3.9.7"
  }
 },
 "nbformat": 4,
 "nbformat_minor": 5
}
